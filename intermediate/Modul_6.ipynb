{
 "cells": [
  {
   "cell_type": "markdown",
   "metadata": {},
   "source": [
    "# Podstawy programowania obiektowego"
   ]
  },
  {
   "cell_type": "markdown",
   "metadata": {},
   "source": [
    "- the foundations and basic concepts of object-oriented programming;\n",
    "- the differences between the procedural and object approaches on the example of the stack;\n",
    "- properties (instance and class variables, attributes);\n",
    "- methods (class and object methods, the constructor, parameters, and properties);\n",
    "- the concept of inheritance (functions, methods, class hierarchies, polymorphism, composition, single vs. multiple inheritance);\n",
    "- the objective nature of Python exceptions;\n",
    "generators and iterators;\n",
    "- list comprehensions;\n",
    "- the lambda, map, and filter functions;\n",
    "- closures;\n",
    "- working with files (file streams, file processing, diagnosing stream problems)\n",
    "- processing text and binary files;"
   ]
  },
  {
   "cell_type": "code",
   "execution_count": null,
   "metadata": {},
   "outputs": [],
   "source": [
    "class prostaklasa:\n",
    "    pass\n",
    "\n",
    "mojobiekt = prostaklasa()\n"
   ]
  },
  {
   "cell_type": "markdown",
   "metadata": {},
   "source": [
    "* Czynność tworzenia obiektu wybranej klasy nazywana jest również zwane tworzeniem instancji (ponieważ obiekt staje się instancją klasy).\n",
    "\n"
   ]
  },
  {
   "cell_type": "markdown",
   "metadata": {},
   "source": [
    "### OOP - podstawy\n",
    "\n",
    "Podejście obiektowe sugeruje zupełnie inny sposób myślenia. Dane i kod są ujęte w tym samym świecie, podzielone na klasy.\n",
    "\n",
    "Każda klasa jest jak przepis, który może być użyty, gdy chcesz utworzyć użyteczny obiekt (stąd nazwa podejścia). Możesz wytworzyć tyle obiektów, ile potrzebujesz, aby rozwiązać swój problem.\n",
    "\n",
    "Dziedziczenie\n",
    "\n",
    "Zdefiniujmy jedną z podstawowych koncepcji programowania obiektowego, zwaną dziedziczeniem. Każdy obiekt powiązany z określonym poziomem hierarchii klas dziedziczy wszystkie cechy (a także wymagania i charakterystyki) zdefiniowane w dowolnej z nadklas.\n",
    "\n",
    "cecha a,b\n",
    "|\n",
    "cecha a,b,c\n",
    "|\n",
    "cecha a,b,c,d\n",
    "\n",
    "\n",
    "Istnieje wskazówka (chociaż nie zawsze działa), która może pomóc ci zidentyfikować każdą z powyższych sfer. Kiedy opisujesz obiekt używając:\n",
    "\n",
    "rzeczownika - prawdopodobnie definiujesz nazwę obiektu;\n",
    "przymiotnika - prawdopodobnie definiujesz właściwość obiektu;\n",
    "czasownika - prawdopodobnie definiujesz aktywność obiektu.\n",
    "Dwie przykładowe frazy powinny posłużyć jako dobry przykład:\n",
    "\n",
    "Różowy Cadillac przejechał szybko.\n",
    "\n",
    "Nazwa obiektu = Cadillac\n",
    "Klasa wyjściowa = Pojazdy kołowe\n",
    "Właściwość = Kolor (różowy)\n",
    "Aktywność = Przejechał (szybko)\n",
    "\n",
    "\n",
    "\n",
    "Max to duży kot, który śpi przez cały dzień.\n",
    "\n",
    "Nazwa obiektu = Max\n",
    "Klasa wyjściowa = Kot\n",
    "Właściwość = Rozmiar (duży)\n",
    "Aktywność = Sen (cały dzień)\n",
    "\n",
    "Programowanie obiektowe to sztuka definiowania i rozszerzania klas. Klasa jest modelem bardzo specyficznej części rzeczywistości, odzwierciedlającej właściwości i działania występujące w rzeczywistym świecie."
   ]
  },
  {
   "cell_type": "markdown",
   "metadata": {},
   "source": [
    "### Kluczowe zagadnienia\n",
    "\n",
    "1. Klasa to idea (mniej lub bardziej abstrakcyjna), której można użyć do stworzenia szeregu wcieleń - takie wcielenie nazywa się obiektem.\n",
    "\n",
    "\n",
    "2. Gdy klasa pochodzi od innej klasy, ich relacja nosi nazwę dziedziczenie. Klasa, która pochodzi od innej klasy, nosi nazwę podklasy. Druga strona tej relacji nosi nazwę nadklasy. Sposobem na przedstawienie takiej relacji jest diagram dziedziczenia, gdzie:\n",
    "\n",
    "- nadklasy są zawsze prezentowane powyżej ich podklas;\n",
    "- relacje między klasami są pokazane jako strzałki skierowane od podklasy do jej nadklasy.\n",
    "\n",
    "3. Obiekty wyposażone są w:\n",
    "\n",
    "- nazwę, która je identyfikuje i pozwala nam je rozróżniać;\n",
    "- zestaw właściwości (zestaw może być pusty)\n",
    "- zestaw metod (też może być pusty)\n",
    "\n",
    "4. Aby zdefiniować klasę Pythona, musisz użyć słowa kluczowego class. Na przykład:\n",
    "\n",
    "class ToJestKlasa:\n",
    "     pass\n",
    "\n",
    "\n",
    "5. Aby stworzyć obiekt wcześniej zdefiniowanej klasy, musisz użyć tej klasy tak, jakby była funkcją. Na przykład:\n",
    "\n",
    "to_jest_obiekt = ToJestKlasa()"
   ]
  },
  {
   "cell_type": "markdown",
   "metadata": {},
   "source": [
    "### stosy (LIFO - Last In - First Out)\n",
    "\n",
    "- Stos to obiekt z dwiema podstawowymi operacjami, tradycyjnie nazywanymi push (gdy nowy element jest umieszczany na górze) i pop (gdy istniejący element zostaje usunięty z góry)."
   ]
  },
  {
   "cell_type": "markdown",
   "metadata": {},
   "source": [
    "### Stos - podejście proceduralne\n"
   ]
  },
  {
   "cell_type": "code",
   "execution_count": null,
   "metadata": {},
   "outputs": [],
   "source": [
    "stack = [] \n",
    "\n",
    "\n",
    "def push(val): \n",
    "    stack.append(val)\n",
    "\n",
    "\n",
    "def pop(): \n",
    "    val = stack[-1] \n",
    "    del stack[-1] \n",
    "    return val\n",
    "    \n",
    "\t\n",
    "push(3) \n",
    "push(2) \n",
    "push(1) \n",
    "\n",
    "print(pop()) \n",
    "print(pop()) \n",
    "print(pop()) \n"
   ]
  },
  {
   "cell_type": "markdown",
   "metadata": {},
   "source": [
    "Stos proceduralny jest gotowy. Oczywiście istnieją pewne słabości, a implementacja może zostać ulepszona na wiele sposobów (najlepiej jest wykorzystać wyjątki), ale ogólnie stos jest w pełni zaimplementowany i można go użyć.\n",
    "\n",
    "Jednak im częściej będziesz go używać, tym więcej wad napotykasz. Oto niektóre z nich:\n",
    "\n",
    "* istotna zmienna (lista stosów) jest wysoce delikatna; każdy może ją modyfikować w niekontrolowany sposób, niszcząc stos; nie znaczy to, że zniszczenia są złośliwie - wręcz przeciwnie, mogą się zdarzyć w wyniku niedbalstwa, np. gdy ktoś myli różne nazwy; wyobraź sobie, że przypadkowo napisałeś coś takiego:\n",
    "\n",
    "stack[0] = 0\n",
    "\n",
    "\n",
    "Działanie stosu będzie całkowicie zaburzone;\n",
    "\n",
    "* może się również zdarzyć, że pewnego dnia będziesz potrzebować więcej niż jednego stosu; będziesz musiał utworzyć kolejną listę do przechowywania stosu i prawdopodobnie inne funkcje push i pop;\n",
    "\n",
    "* może się również zdarzyć, że będziesz potrzebować nie tylko funkcji push i pop, ale także innych udogodnień; z pewnością możesz je wdrożyć, ale spróbuj sobie wyobrazić, co by się stało, gdybyś miał kilkanaście osobno zaimplementowanych stosów.\n"
   ]
  },
  {
   "cell_type": "markdown",
   "metadata": {},
   "source": [
    "\n",
    "Podejście obiektowe rozwiązuje każdy z powyższych problemów. Najpierw je nazwijmy:\n",
    "\n",
    "- możliwość ukrycia (ochrony) wybranych wartości przed nieautoryzowanym dostępem jest nazywana enkapsulacją; do enkapsulowanych wartości nie można uzyskać dostępu ani ich modyfikować, jeśli chcesz ich używać;\n",
    "\n",
    "- jeśli masz klasę, która implementuje wszystkie potrzebne zachowania stosu, możesz wytworzyć dowolną liczbę stosów; nie musisz kopiować ani replikować żadnej części kodu;\n",
    "\n",
    "- możliwość wzbogacenia stosu o nowe funkcje pochodzi z dziedziczenia; możesz utworzyć nową klasę (podklasę), która dziedziczy wszystkie istniejące cechy z nadklasy i dodaje nowe cechy."
   ]
  },
  {
   "cell_type": "markdown",
   "metadata": {},
   "source": [
    "### stos - podejście obiektowe"
   ]
  },
  {
   "cell_type": "code",
   "execution_count": null,
   "metadata": {},
   "outputs": [],
   "source": [
    "class Stos:    # definiowanie klasy Stosu \n",
    "    def __init__(self):    # definiowanie funkcji konstruktora\n",
    "        print(\"Czesc!\")\n",
    "\n",
    "\n",
    "obiekt_stos = Stos()    # tworzenie instancji obiektu\n"
   ]
  },
  {
   "cell_type": "markdown",
   "metadata": {},
   "source": [
    "Teraz oczekujemy dwóch rzeczy:\n",
    "\n",
    "- chcemy, aby klasa miała jedną właściwość jako magazyn stosu - musimy \"zainstalować\" listę wewnątrz każdego obiektu klasy (uwaga: każdy obiekt ma mieć własną listę - lista nie może być dzielona między różne stosy)\n",
    "- następnie chcemy ukryć listę przed użytkownikami klas.\n",
    "\n",
    "Jak to się robi?\n",
    "\n",
    "W przeciwieństwie do innych języków programowania, język Python nie ma sposobu na wyrażenie takiej właściwości tak po prostu.\n",
    "\n",
    "Musisz zatem dodać określone twierdzenie lub instrukcję. Właściwości należy ręcznie dodać do klasy.\n",
    "\n",
    "Jak zagwarantować, że takie działanie będzie mieć miejsce przy każdym tworzeniu nowego stosu?\n",
    "\n",
    "Jest na to prosty sposób - musisz wyposażyć klasę w określoną funkcję - jej specyfika jest dwojaka:\n",
    "\n",
    "- musi być nazwana w określony sposób;\n",
    "j- est wywoływana domyślnie, gdy tworzony jest nowy obiekt.\n",
    "Taka funkcja nazywa się konstruktorem, ponieważ jej głównym celem jest skonstruowanie nowego obiektu. Konstruktor powinien wiedzieć wszystko o strukturze obiektu i musi wykonać wszystkie potrzebne inicjalizacje.\n",
    "\n",
    "I teraz:\n",
    "\n",
    "- nazwa konstruktora to zawsze __ init __;\n",
    "- musi on mieć co najmniej jeden parametr (omówimy to później); parametr służy do reprezentacji nowo utworzonego obiektu - możesz użyć tego parametru do manipulowania obiektem i do wzbogacenia go o potrzebne właściwości; wkrótce to wykorzystasz;\n",
    "- uwaga: parametr obowiązkowy jest zwykle nazywany self - to tylko konwencja, ale powinieneś jej przestrzegać - upraszcza to proces czytania i rozumienia twojego kodu.\n",
    "Kod znajduje się w edytorze. Uruchom go.\n",
    "\n",
    "Oto jego wynik:\n",
    "\n",
    "Czesc!\n",
    "\n",
    "\n",
    "Uwaga - nie ma śladu wywoływania konstruktora wewnątrz kodu. Został on wywołany niejawnie i automatycznie. Wykorzystajmy to teraz."
   ]
  },
  {
   "cell_type": "code",
   "execution_count": null,
   "metadata": {},
   "outputs": [],
   "source": [
    "class Stos: \n",
    "    def __init__(self): \n",
    "        self.stos_lista = [] \n",
    "\n",
    "\n",
    "stos_obiekt = Stos() \n",
    "print(len(stos_obiekt.stos_lista)) \n"
   ]
  },
  {
   "cell_type": "markdown",
   "metadata": {},
   "source": [
    "Każda zmiana wprowadzona wewnątrz konstruktora, która modyfikuje stan parametru self, będzie odzwierciedlać nowo utworzony obiekt.\n",
    "\n",
    "Oznacza to, że możesz dodać dowolną właściwość do obiektu, i pozostanie ona tam, dopóki obiekt nie wygaśnie, lub właściwość nie zostanie jawnie usunięta.\n",
    "\n",
    "Teraz dodajmy tylko jedną właściwość do nowego obiektu - listę dla stosu. Nazwijmy ją stos_lista.\n",
    "\n",
    "Tak jak tutaj:\n",
    "\n",
    "class Stos: \n",
    "    def __init__(self): \n",
    "        self.stos_lista = [] \n",
    "\n",
    "\n",
    "stos_obiekt = Stos() \n",
    "print(len(stos_obiekt.stos_lista))\n",
    "\n",
    "\n",
    "Uwaga:\n",
    "\n",
    "użyliśmy notacji kropkowej, podobnie jak przy wywoływaniu metod; jest to ogólna konwencja uzyskiwania dostępu do właściwości obiektu - musisz nazwać obiekt, umieścić za nim kropkę (.) i podać żądaną nazwę właściwości; nie używaj nawiasów okrągłych! Nie chcesz wywoływać metody - chcesz uzyskać dostęp do właściwości;\n",
    "jeśli ustawiasz wartość właściwości po raz pierwszy (jak w konstruktorze), to ją tworzysz; od tego momentu obiekt ma właściwość i jest gotowy do użycia jej wartości;\n",
    "zrobiliśmy coś jeszcze w kodzie - spróbowaliśmy uzyskać dostęp do właściwości stos_lista spoza klasy zaraz po utworzeniu obiektu; chcemy sprawdzić aktualną długość stosu - czy nam się udało?\n",
    "Tak - kod generuje następujący wynik:\n",
    "\n",
    "0\n",
    "output\n",
    "\n",
    "Nie tego chcemy od stosu. Wolimy aby stos_lista była ukryta przed światem. Czy to jest możliwe?\n",
    "\n",
    "Tak, i jest to proste, ale niezbyt intuicyjne."
   ]
  },
  {
   "cell_type": "code",
   "execution_count": null,
   "metadata": {},
   "outputs": [],
   "source": [
    "class Stos: \n",
    "    def __init__(self): \n",
    "        self.__stos_lista = [] \n",
    "\n",
    "\n",
    "stos_obiekt = Stos() \n",
    "print(len(stos_obiekt.__stos_lista)) \n"
   ]
  },
  {
   "cell_type": "markdown",
   "metadata": {},
   "source": [
    "Spójrz - dodaliśmy dwa podkreślniki przed nazwą stos_lista - nic więcej:\n",
    "\n",
    "class Stos: \n",
    "    def __init__(self): \n",
    "        self.__stos_lista = [] \n",
    "\n",
    "stos_obiekt = Stos() \n",
    "print(len(stos_obiekt.__stos_lista))\n",
    "\n",
    "\n",
    "Zmiana przerywa program.\n",
    "\n",
    "Dlaczego?\n",
    "\n",
    "Gdy jakikolwiek komponent klasy ma nazwę zaczynającą się od dwóch podkreśleń (__), staje się on prywatny - oznacza to, że można uzyskać do niego dostęp tylko z poziomu klasy.\n",
    "\n",
    "Nie możesz go zobaczyć z zewnątrz. W ten sposób język Python stosuje koncepcję \n",
    "\n",
    "### enkapsulacji.\n",
    "\n",
    "Uruchom program, aby przetestować założenia - powinien zostać zgłoszony wyjątek AttributeError."
   ]
  },
  {
   "cell_type": "code",
   "execution_count": null,
   "metadata": {},
   "outputs": [],
   "source": [
    "class Stos: \n",
    "    def __init__(self): \n",
    "        self.__stos_lista = [] \n",
    "\n",
    "\n",
    "    def push(self, val): \n",
    "        self.__stos_lista.append(val) \n",
    "\n",
    "\n",
    "    def pop(self): \n",
    "        val = self.__stos_lista[-1] \n",
    "        del self.__stos_lista[-1] \n",
    "        return val\n",
    "\n",
    "\n",
    "stos_obiekt = Stos() \n",
    "\n",
    "stos_obiekt.push(3) \n",
    "stos_obiekt.push(2) \n",
    "stos_obiekt.push(1) \n",
    "\n",
    "print(stos_obiekt.pop()) \n",
    "print(stos_obiekt.pop()) \n",
    "print(stos_obiekt.pop())\n"
   ]
  },
  {
   "cell_type": "markdown",
   "metadata": {},
   "source": [
    "Nadszedł czas na dwie funkcje (metody) implementujące operacje push i pop. Język Python zakłada, że funkcja tego rodzaju (działanie klasy) powinna być zanurzona w ciele klasy - podobnie jak konstruktor.\n",
    "\n",
    "Chcemy wywołać te funkcje w wartościach push i pop. Oznacza to, że obie powinny być dostępne dla każdego użytkownika klasy (w przeciwieństwie do poprzednio utworzonej listy, która jest ukryta przed zwykłymi użytkownikami klasy).\n",
    "\n",
    "Taki komponent nazywa się publicznym, więc nie możesz zaczynać jego nazwy od dwóch (lub więcej) podkreślników. Jest jeszcze jedno wymaganie - nazwa musi mieć nie więcej niż jedno końcowe podkreślenie. Ponieważ żadne końcowe podkreślniki nie spełniają wymagań w pełni, możesz założyć, że nazwa jest dopuszczalna.\n",
    "\n",
    "Same funkcje są proste. Spójrz:\n",
    "\n",
    "class Stos: \n",
    "    def __init__(self): \n",
    "        self.__stos_lista = []\n",
    "    \n",
    "    def push(self, val):\n",
    "        self.__stos_lista.append(val)\n",
    "\n",
    "    def pop(self):\n",
    "        val = self.__stos_lista[-1]\n",
    "        del self.__stos_lista[-1]\n",
    "        return val\n",
    "\n",
    "\n",
    "stos_obiekt = Stos()\n",
    "\n",
    "stos_obiekt.push(3)\n",
    "stos_obiekt.push(2)\n",
    "stos_obiekt.push(1)\n",
    "\n",
    "print(stos_obiekt.pop())\n",
    "print(stos_obiekt.pop())\n",
    "print(stos_obiekt.pop())\n",
    "\n",
    "\n",
    "W kodzie jest jednak coś naprawdę dziwnego. Funkcje wyglądają znajomo, ale mają więcej parametrów niż ich odpowiedniki proceduralne.\n",
    "\n",
    "Obie funkcje mają tutaj parametr zwany self na pierwszej pozycji listy parametrów.\n",
    "\n",
    "Czy jest on potrzebny? Tak.\n",
    "\n",
    "Wszystkie metody muszą mieć ten parametr. Pełni on tę samą rolę, co pierwszy parametr konstruktora.\n",
    "\n",
    "Pozwala on na dostęp do elementów (właściwości i działań/metod) realizowanych przez rzeczywisty obiekt. Nie możesz go pominąć. Za każdym razem, gdy język Python wywołuje metodę, domyślnie wysyła bieżący obiekt jako pierwszy argument.\n",
    "\n",
    "Oznacza to, że metoda ma obowiązek posiadania co najmniej jednego parametru, który jest używany przez sam język Python - nie masz na to żadnego wpływu.\n",
    "\n",
    "Jeśli twoja metoda nie wymaga żadnych parametrów, to i ten należy określić. Jeśli jest przeznaczona do przetwarzania tylko jednego parametru, musisz określić dwa, a rola pierwszego z nich jest wciąż taka sama.\n",
    "\n",
    "Jest jeszcze jedna rzecz, która wymaga wyjaśnienia - sposób wywoływania metod ze zmiennej __ stos_lista.\n",
    "\n",
    "Na szczęście jest to znacznie prostsze niż się wydaje:\n",
    "\n",
    "pierwszy etap dostarcza obiektu jako całości → self;\n",
    "następnie, musisz dostać się do listy __ stos_lista → self.__ stos_lista;\n",
    "Gdy __ stos_lista jest już gotowa do użycia, możesz wykonać trzeci i ostatni krok → self.__ stos_lista.append(val).\n",
    "Deklaracja klasy jest zakończona, a wszystkie jej komponenty zostały zawarte w liście. Klasa jest gotowa do użycia."
   ]
  },
  {
   "cell_type": "code",
   "execution_count": null,
   "metadata": {},
   "outputs": [],
   "source": [
    "class Stos:\n",
    "    def __init__(self): \n",
    "        self.__stos_lista = []\n",
    "        \n",
    "    def push(self, val): \n",
    "        self.__stos_lista.append(val)\n",
    "        \n",
    "    def pop(self): \n",
    "        val = self.__stos_lista[-1] \n",
    "        del self.__stos_lista[-1] \n",
    "        return val\n",
    "        \n",
    "      \n",
    "stos_obiekt = Stos() \n",
    "stos_obiekt2 = Stos() \n",
    "\n",
    "\n",
    "stos_obiekt.push(3) \n",
    "stos_obiekt2.push(stos_obiekt.pop()) \n",
    "\n",
    "print(stos_obiekt2.pop())"
   ]
  },
  {
   "cell_type": "markdown",
   "metadata": {},
   "source": [
    "Posiadanie takiej klasy otwiera nowe możliwości. Na przykład, możesz teraz mieć więcej niż jeden Stos zachowujący się w ten sam sposób. Każdy Stos będzie miał własną kopię danych prywatnych, ale użyje tego samego zestawu metod.\n",
    "\n",
    "Dokładnie tego chcemy w tym przykładzie.\n",
    "\n",
    "Przeanalizuj kod:\n",
    "\n",
    "class Stos: \n",
    "\n",
    "    def __init__(self): \n",
    "        self.__stos_lista = [] \n",
    "\n",
    "    def push(self, val): \n",
    "        self.__stos_lista.append(val) \n",
    "\n",
    "    def pop(self): \n",
    "        val = self.__stos_lista[-1] \n",
    "        del self.__stos_lista[-1] \n",
    "        return val  \n",
    "\n",
    "\n",
    "stos_obiekt = Stos() \n",
    "stos_obiekt2 = Stos() \n",
    "\n",
    "stos_obiekt.push(3) \n",
    "stos_obiekt2.push(stos_obiekt.pop()) \n",
    "\n",
    "print(stos_obiekt2.pop())\n",
    "\n",
    "\n",
    "Mamy dwa Stosy utworzone z tej samej klasy bazowej. Działają one niezależnie. Możesz stworzyć ich więcej, jeśli chcesz.\n",
    "\n",
    "Uruchom kod w edytorze i zobacz, co się stanie. Przeprowadź własne eksperymenty"
   ]
  },
  {
   "cell_type": "code",
   "execution_count": null,
   "metadata": {},
   "outputs": [],
   "source": [
    "class Stos: \n",
    "    def __init__(self): \n",
    "        self.__stos_lista = [] \n",
    "\n",
    "    def push(self, val): \n",
    "        self.__stos_lista.append(val) \n",
    "\n",
    "    def pop(self): \n",
    "        val = self.__stos_lista[-1] \n",
    "        del self.__stos_lista[-1] \n",
    "        return val\n",
    "        \n",
    "\n",
    "mały_stos = Stos() \n",
    "inny_stos = Stos() \n",
    "smieszny_stos = Stos()\n",
    "\n",
    "mały_stos.push(1) \n",
    "inny_stos.push(mały_stos.pop() + 1) \n",
    "smieszny_stos.push(inny_stos.pop() - 2) \n",
    "\n",
    "print(smieszny_stos.pop())\n"
   ]
  },
  {
   "cell_type": "markdown",
   "metadata": {},
   "source": [
    "Teraz pójdźmy trochę dalej. Dodajmy nową klasę do obsługi Stosów.\n",
    "\n",
    "Nowa klasa powinna mieć możliwość oceny sumy wszystkich elementów aktualnie przechowywanych w Stosie.\n",
    "\n",
    "Nie chcemy modyfikować wcześniej zdefiniowanego Stosu. Jest już wystarczająco dobry w swoich zaStosowaniach i nie chcemy, żeby się w jakikolwiek sposób zmienił. Chcemy nowego Stosu z nowymi możliwościami. Innymi słowy, chcemy zbudować podklasę już istniejącej klasy Stos.\n",
    "\n",
    "Pierwszy krok jest łatwy: wystarczy zdefiniować nową podklasę wskazującą na klasę, która będzie używana jako nadklasa.\n",
    "\n",
    "Wygląda to tak:\n",
    "\n",
    "class stos_dodawanie(Stos): \n",
    "    pass\n",
    "\n",
    "\n",
    "Klasa nie definiuje jeszcze żadnego nowego komponentu, ale to nie znaczy, że jest pusta. Otrzymuje wszystkie komponenty zdefiniowane przez swoją nadklasę - nazwa nadklasy jest zapisywana po dwukropku bezpośrednio po nazwie nowej klasy.\n",
    "\n",
    "Tego właśnie chcemy od nowego Stosu:\n",
    "\n",
    "chcemy, aby metoda push nie tylko dodała wartość do Stosu, ale także by dodała wartość do zmiennej sum;\n",
    "chcemy, aby funkcja pop nie tylko odjęła wartość ze Stosu, ale także by odjęła wartość ze zmiennej sum.\n",
    "\n",
    "Najpierw dodajmy nową zmienną do klasy. Będzie to zmienna prywatna, jak lista Stosów. Nie chcemy, aby ktokolwiek manipulował wartością sum.\n",
    "\n",
    "Jak już wiesz, dodawanie nowej właściwości do klasy jest wykonywane przez konstruktor. Wiesz już, jak to zrobić, ale wewnątrz konstruktora jest coś naprawdę intrygującego. Spójrz:\n",
    "\n",
    "class stos_dodawanie(Stos): \n",
    "    def __init__(self): \n",
    "        Stos.__init__(self) \n",
    "        self.__sum = 0\n",
    "\n",
    "\n",
    "Druga linia ciała konstruktora tworzy właściwość o nazwie __sum - przechowa sumę wszystkich wartości Stosu.\n",
    "\n",
    "Ale linia ją poprzedzająca wygląda inaczej. Co ona robi? Czy to naprawdę konieczne? Tak.\n",
    "\n",
    "W przeciwieństwie do wielu innych języków, język Python zmusza cię do jawnego wywoływania konstruktora nadklasy. Pominięcie tego punktu będzie miało szkodliwe skutki - obiekt zostanie pozbawiony listy __stos_lista. Taki Stos nie będzie działał poprawnie.\n",
    "\n",
    "Jest to jedyny moment, w którym można jawnie wywołać dowolny z dostępnych konstruktorów - można to zrobić wewnątrz konstruktora nadklasy.\n",
    "\n",
    "Zwróć uwagę na składnię:\n",
    "\n",
    "określasz nazwę nadklasy (jest to klasa, której konstruktor chcesz uruchomić)\n",
    "wstawiasz po niej kropkę (.);\n",
    "określasz nazwę konstruktora;\n",
    "musisz wskazać obiekt (instancję klasy), który musi zostać zainicjalizowany przez konstruktor - dlatego musisz podać argument i użyć tutaj zmiennej self; uwaga: wywoływanie dowolnej metody (w tym konstruktorów) spoza klasy nigdy nie wymaga umieszczania argumentu self na liście argumentów - wywoływanie metody z klasy wymaga jawnego użycia argumentu self i musi być on umieszczony jako pierwszy na liście.\n",
    "Uwaga: na ogół zaleca się wywoływanie konstruktora nadklasy przed innymi inicjalizacjami, które chcesz wykonać wewnątrz podklasy. Tę zasadę wykorzystaliśmy w kodzie."
   ]
  },
  {
   "cell_type": "code",
   "execution_count": null,
   "metadata": {},
   "outputs": [],
   "source": [
    "class Stos:\n",
    "    def __init__(self): \n",
    "        self.__stos_lista = [] \n",
    "\n",
    "    def push(self, val): \n",
    "        self.__stos_lista.append(val) \n",
    "\n",
    "    def pop(self): \n",
    "        val = self.__stos_lista[-1] \n",
    "        del self.__stos_lista[-1] \n",
    "        return val \n",
    "\n",
    "\n",
    "class stos_dodawanie(Stos): \n",
    "    def __init__(self): \n",
    "        Stos.__init__(self) \n",
    "        self.__sum = 0 "
   ]
  },
  {
   "cell_type": "markdown",
   "metadata": {},
   "source": [
    "Po drugie, dodajmy dwie metody. Ale wpierw zapytamy cię: czy to naprawdę dodawanie? Mamy już te metody w nadklasie. Czy możemy zrobić coś takiego?\n",
    "\n",
    "Tak, możemy. Oznacza to, że zamierzamy zmienić funkcjonalność metod, a nie ich nazwy. Możemy powiedzieć dokładniej, że interfejs (sposób, w jaki obiekty są obsługiwane) klasy pozostaje taki sam podczas jednoczesnej zmiany implementacji.\n",
    "\n",
    "Zacznijmy od implementacji funkcji push. Spodziewamy się tego:\n",
    "\n",
    "dodania wartości do zmiennej __sum;\n",
    "dodania wartości do stosu.\n",
    "Uwaga: drugie działanie zostało już zaimplementowane w nadklasie - więc możemy z tego skorzystać. Co więcej, musimy z tego skorzystać, ponieważ nie ma innej możliwości uzyskania dostępu do zmiennej __stos_lista.\n",
    "\n",
    "Oto jak metoda push wygląda w podklasie:\n",
    "\n",
    "def push(self, val): \n",
    "    self.__sum += val \n",
    "    Stos.push(self, val)\n",
    "\n",
    "\n",
    "Zwróć uwagę na sposób, w jaki przywołaliśmy poprzednią implementację metody push (dostępnej w nadklasie):\n",
    "\n",
    "musimy podać nazwę nadklasy; jest to konieczne, aby wyraźnie wskazać klasę zawierającą tę metodę, aby uniknąć pomylenia jej z jakąkolwiek inną funkcją o tej samej nazwie;\n",
    "musimy określić obiekt docelowy i przekazać go jako pierwszy argument (nie jest on domyślnie dodany do wywołania w tym kontekście).\n",
    "Mówimy, że metoda push została nadpisana - ta sama nazwa, co w nadkl"
   ]
  },
  {
   "cell_type": "code",
   "execution_count": null,
   "metadata": {},
   "outputs": [],
   "source": [
    "class Stos: \n",
    "    def __init__(self): \n",
    "        self.__stos_lista = [] \n",
    "\n",
    "    def push(self, val): \n",
    "        self.__stos_lista.append(val) \n",
    "\n",
    "    def pop(self): \n",
    "        val = self.__stos_lista[-1] \n",
    "        del self.__stos_lista[-1] \n",
    "        return val \n",
    "\n",
    " \n",
    "class stos_dodawanie(Stos): \n",
    "    def __init__(self): \n",
    "        Stos.__init__(self) \n",
    "        self.__sum = 0  \n",
    "\n"
   ]
  },
  {
   "cell_type": "markdown",
   "metadata": {},
   "source": [
    "To jest nowa funkcja pop:\n",
    "\n",
    "def pop(self): \n",
    "    val = Stos.pop(self) \n",
    "    self.__sum -= val \n",
    "    return val\n",
    "\n",
    "\n",
    "Do tej pory zdefiniowaliśmy zmienną __sum, ale nie pokazaliśmy metody uzyskiwania jej wartości. Wydaje się być ukryta. Jak możemy ją ujawnić i zrobić to w sposób, który nadal uchroni ją przed modyfikacjami?\n",
    "\n",
    "Musimy zdefiniować nową metodę. Nazwiemy ją get_suma. Jej jedynym zadaniem będzie zwrócenie wartości __sum.\n",
    "\n",
    "Oto ona:\n",
    "\n",
    "def get_suma(self): \n",
    "    return self.__sum\n",
    "\n",
    "\n",
    "Spójrzmy więc na program w edytorze. Jest tam kompletny kod klasy. Możemy teraz sprawdzić jego działanie i zrobimy to za pomocą bardzo niewielu dodatkowych linii kodu.\n",
    "\n",
    "Jak widzisz, dodajemy pięć kolejnych wartości do Stosu, wyświetlamy ich sumę i zabieramy je wszystkie ze Stosu.\n",
    "\n",
    "Dobrze, to było bardzo krótkie wprowadzenie do programowania obiektowego języka Python. Wkrótce opowiemy ci o tym wszystkim bardziej szczegółowo."
   ]
  },
  {
   "cell_type": "code",
   "execution_count": null,
   "metadata": {},
   "outputs": [],
   "source": [
    "class Stos: \n",
    "    def __init__(self): \n",
    "        self.__stos_lista = [] \n",
    "\n",
    "    def push(self, val): \n",
    "        self.__stos_lista.append(val) \n",
    "\n",
    "    def pop(self): \n",
    "        val = self.__stos_lista[-1] \n",
    "        del self.__stos_lista[-1] \n",
    "        return val \n",
    "\n",
    "\n",
    "class stos_dodawanie(Stos): \n",
    "    def __init__(self): \n",
    "        Stos.__init__(self) \n",
    "        self.__sum = 0 \n",
    "\n",
    "    def get_suma(self): \n",
    "        return self.__sum \n",
    "\n",
    "    def push(self, val): \n",
    "        self.__sum += val \n",
    "        Stos.push(self, val) \n",
    "\t\t\n",
    "    def pop(self): \n",
    "        val = Stos.pop(self) \n",
    "        self.__sum -= val \n",
    "        return val \n",
    "\n",
    "\n",
    "stos_object = stos_dodawanie() \n",
    "\n",
    "for i in range(5): \n",
    "    stos_object.push(i) \n",
    "print(stos_object.get_suma()) \n",
    "\n",
    "for i in range(5): \n",
    "    print(stos_object.pop()) \n"
   ]
  },
  {
   "cell_type": "markdown",
   "metadata": {},
   "source": [
    "Kluczowe zagadnienia\n",
    "\n",
    "1. Stos to obiekt przeznaczony do przechowywania danych przy użyciu modelu LIFO. Stos zwykle wykonuje co najmniej dwie operacje o nazwach push() i pop().\n",
    "\n",
    "\n",
    "2. Implementacja stosu w modelu proceduralnym rodzi kilka problemów, które można rozwiązać za pomocą technik oferowanych przez OOP (Object Oriented Programming):\n",
    "\n",
    "\n",
    "3. Metoda klasy jest w rzeczywistości zadeklarowana wewnątrz klasy i ma dostęp do wszystkich jej składników.\n",
    "\n",
    "\n",
    "4. Część klasy Pythona odpowiedzialna za tworzenie nowych obiektów nosi nazwę konstruktor i jest zaimplementowana jako metoda o nazwie __init__.\n",
    "\n",
    "\n",
    "5. Każda deklaracja metody klasy musi zawierać co najmniej jeden parametr (zawsze pierwszy), zwykle nazywany self i jest używany przez obiekty do ich identyfikacji.\n",
    "\n",
    "\n",
    "6. Jeśli chcemy ukryć któryś ze składników klasy przed światem zewnętrznym, powinniśmy rozpocząć jej nazwę od __. Takie komponenty nazywane są prywatnymi.\n",
    "\n"
   ]
  },
  {
   "cell_type": "markdown",
   "metadata": {},
   "source": [
    "### zmienne instancji"
   ]
  },
  {
   "cell_type": "markdown",
   "metadata": {},
   "source": [
    "Generalnie, klasa może być wyposażona w dwie grupy danych tworzące właściwości danej klasy. Widziałeś już jedną z nich kiedy przyglądaliśmy się stosom.\n",
    "\n",
    "Ten rodzaj właściwości klasy istnieje tylko wtedy, kiedy jest jawnie stworzona i dodana do obiektu. Jak już wiesz, można to uczynić podczas inicjalizacji obiektu wykonywanej przez konstruktor.\n",
    "\n",
    "Ponadto, można tego dokonać w dowolnym momencie życia obiektu. Co więcej, jakakolwiek istniejąca właściwość może zostać usunięta w dowolnym momencie.\n",
    "\n",
    "Takie podejście pociąga za sobą istotne konsekwencje:\n",
    "\n",
    "- różne obiekty tej samej klasy mogą posiadać różne zestawy właściwości;\n",
    "- musi istnieć sposób, by bezpiecznie sprawdzić, czy określony obiekt posiada daną właściwość, którą chcesz się posłużyć (chyba, że chcesz wymusić wyjątek - zawsze warto rozważyć taki przypadek)\n",
    "- każdy obiekt niesie ze sobą własny zestaw właściwości - nie zakłócają one siebie nawzajem.\n",
    "\n",
    "Takie zmienne (właściwości) nazywane są zmiennymi instancji.\n",
    "\n",
    "Słowo instancja sugeruje, że są one blisko powiązane z obiektami (które są instancjami klasy), a nie z samymi klasami. Przyjrzyjmy się im bliżej.\n",
    "\n",
    "Oto przykład:"
   ]
  },
  {
   "cell_type": "code",
   "execution_count": 1,
   "metadata": {},
   "outputs": [
    {
     "name": "stdout",
     "output_type": "stream",
     "text": [
      "{'pierwsza': 1}\n",
      "{'pierwsza': 2, 'druga': 3}\n",
      "{'pierwsza': 4, 'trzecia': 5}\n"
     ]
    }
   ],
   "source": [
    "class KlasaPrzykladowa:\n",
    "    def __init__(self, wartosc = 1):\n",
    "        self.pierwsza = wartosc\n",
    "\n",
    "    def ustaw_druga(self, wartosc):\n",
    "        self.druga = wartosc\n",
    "\n",
    "\n",
    "przykladowy_obiekt1 = KlasaPrzykladowa()\n",
    "przykladowy_obiekt2 = KlasaPrzykladowa(2)\n",
    "\n",
    "przykladowy_obiekt2.ustaw_druga(3)\n",
    "\n",
    "przykladowy_obiekt3 = KlasaPrzykladowa(4)\n",
    "przykladowy_obiekt3.trzecia = 5\n",
    "\n",
    "print(przykladowy_obiekt1.__dict__)\n",
    "print(przykladowy_obiekt2.__dict__)\n",
    "print(przykladowy_obiekt3.__dict__)"
   ]
  },
  {
   "cell_type": "markdown",
   "metadata": {},
   "source": [
    "Zanim jednak wdamy się w szczegóły, musimy dodać wyjaśnić pewne kwestie. Przyjrzyj się ostatnim trzem wierszom kodu.\n",
    "\n",
    "Obiekty języka Python, podczas tworzenia, zostają obdarzone małym zestawem predefiniowanych właściwości i metod. Każdy obiekt je posiada, czy tego chcesz, czy nie. Jedna z nich to zmienna o nazwie __dict__ (to słownik).\n",
    "\n",
    "Zmienna zawiera nazwy i wartości wszystkich właściwości (zmiennych), które obecnie posiada obiekt. Wykorzystajmy to, by bezpiecznie zaprezentować zawartość obiektu.\n",
    "\n",
    "Prześledźmy teraz kod:\n",
    "\n",
    "klasa o nazwie KlasaPrzykladowa posiada konstruktor, który bezwarunkowo tworzy zmienną instancji o nazwie pierwsza i nadaje jej wartość przekazaną przez pierwszy argument (z perspektywy użytkownika klasy) lub drugi argument (z perspektywy konstruktora); zwróć uwagę na domyślną wartość parametru - każdy trik, który można zastosować w przypadku zwykłych funkcji sprawdzi się również w przypadku metod;\n",
    "\n",
    "klasa posiada też metodę, która tworzy kolejną instancję zmiennej o nazwie druga;\n",
    "\n",
    "stworzyliśmy trzy obiekty klasy KlasaPrzykladowa, ale wszystkie te instancje różnią się:\n",
    "\n",
    "przykladowy_obiekt1 posiada tylko właściwość o nazwie pierwsza;\n",
    "\n",
    "przykladowy_obiekt2 posiada dwie właściwości: pierwsza i druga;\n",
    "\n",
    "przykladowy_obiekt3 został wzbogacony o właściwość trzecia w tzw. locie, poza kodem klasy - to możliwe i w pełni dozwolone.\n",
    "\n",
    "Produkt programu jasno ukazuje, że nasze założenia są poprawne - oto i on:\n",
    "\n",
    "{'pierwsza': 1}\n",
    "{'druga': 3, 'pierwsza': 2}\n",
    "{'trzecia': 5, 'pierwsza': 4}\n",
    "output\n",
    "\n",
    "Nasuwa się jeszcze jedna dodatkowa konkluzja, która należy teraz zaakcentować: modyfikowanie zmiennej instancji dowolnego obiektu nie ma wpływu na pozostałe obiekty. Zmienne instancji są od siebie zupełnie odizolowane.\n",
    "\n",
    "\n"
   ]
  },
  {
   "cell_type": "code",
   "execution_count": null,
   "metadata": {},
   "outputs": [],
   "source": [
    "class KlasaPrzykladowa:\n",
    "    def __init__(self, wartosc = 1):\n",
    "        self.__pierwsza = wartosc\n",
    "\n",
    "    def ustaw_druga(self, wartosc = 2):\n",
    "        self.__druga = wartosc\n",
    "\n",
    "\n",
    "przykladowy_obiekt1 = KlasaPrzykladowa()\n",
    "przykladowy_obiekt2 = KlasaPrzykladowa(2)\n",
    "\n",
    "przykladowy_obiekt2.ustaw_druga(3)\n",
    "\n",
    "przykladowy_obiekt3 = KlasaPrzykladowa(4)\n",
    "przykladowy_obiekt3.__trzecia = 5\n",
    "\n",
    "\n",
    "print(przykladowy_obiekt1.__dict__)\n",
    "print(przykladowy_obiekt2.__dict__)\n",
    "print(przykladowy_obiekt3.__dict__)\n"
   ]
  },
  {
   "cell_type": "markdown",
   "metadata": {},
   "source": [
    "Jest prawie taki sam, jak poprzedni. Jedyna różnica tkwi w nazwach właściwości. Po prostu dodaliśmy dwa podkreślniki (__) przed nazwami właściwości.\n",
    "\n",
    "Jak wiesz, dodanie tych znaków sprawia, że zmienna instancji staje się prywatna - staje się wtedy niedostępna dla świata zewnętrznego.\n",
    "\n",
    "Faktyczne zachowanie tych nazw jest trochę bardziej skomplikowane, więc uruchommy program. To jest wynik jego działania:\n",
    "\n",
    "{'_KlasaPrzykladowa__pierwsza': 1}\n",
    "{'_KlasaPrzykladowa__pierwsza': 2, '_KlasaPrzykladowa__druga': 3}\n",
    "{'_KlasaPrzykladowa__pierwsza': 4, '__trzecia': 5}\n",
    "output\n",
    "\n",
    "Widzisz te wszystkie nazwy pełne podkreślników? Skąd się wzięły?\n",
    "\n",
    "Kiedy język Python widzi, że chcesz dodać instancję zmiennej do obiektu oraz, że zamierzasz dokonać tego wewnątrz dowolnej metody obiektu, język Python zniekształca operację w następujący sposób:\n",
    "\n",
    "umiejscawia nazwę klasy przed nazwą, którą nadajesz;\n",
    "dodaje dodatkowy podkreślnik na początku.\n",
    "To dlatego __pierwsza staje się _KlasaPrzykladowa__pierwsza.\n",
    "\n",
    "Nazwa jest teraz w pełni dostępna spoza klasy. Możesz uruchomić kod:\n",
    "\n",
    "print(przykladowy_obiekt1._KlasaPrzykladowa__pierwsza)\n",
    "\n",
    "\n",
    "i tym sposobem otrzymasz poprawny rezultat bez błędów lub wyjątków.\n",
    "\n",
    "Jak widać, tworzenie prywatnych właściwości ma swoje ograniczenia.\n",
    "\n",
    "Zniekształcanie nie zadziała jeśli dodasz zmienną instancji spoza kodu klasy. W tym wypadku, zachowa się jak każda inna zwykła właściwość."
   ]
  },
  {
   "cell_type": "markdown",
   "metadata": {},
   "source": [
    "### ZMIENNE KLASY"
   ]
  },
  {
   "cell_type": "code",
   "execution_count": 4,
   "metadata": {},
   "outputs": [
    {
     "name": "stdout",
     "output_type": "stream",
     "text": [
      "{'_KlasaPrzykladowa__pierwsza': 1} 3\n",
      "{'_KlasaPrzykladowa__pierwsza': 2} 3\n",
      "{'_KlasaPrzykladowa__pierwsza': 4} 3\n"
     ]
    }
   ],
   "source": [
    "class KlasaPrzykladowa:\n",
    "    licznik = 0\n",
    "    def __init__(self, wartosc = 1):\n",
    "        self.__pierwsza = wartosc\n",
    "        KlasaPrzykladowa.licznik += 1\n",
    "\n",
    "\n",
    "przykladowy_obiekt1 = KlasaPrzykladowa()\n",
    "przykladowy_obiekt2 = KlasaPrzykladowa(2)\n",
    "przykladowy_obiekt3 = KlasaPrzykladowa(4)\n",
    "\n",
    "print(przykladowy_obiekt1.__dict__, przykladowy_obiekt1.licznik)\n",
    "print(przykladowy_obiekt2.__dict__, przykladowy_obiekt2.licznik)\n",
    "print(przykladowy_obiekt3.__dict__, przykladowy_obiekt3.licznik)\n"
   ]
  },
  {
   "cell_type": "markdown",
   "metadata": {},
   "source": [
    "Zmienna klasy jest właściwością, która istnieje tylko w jednym egzemplarzu i jest przechowywana poza którymkolwiek z obiektów.\n",
    "\n",
    "Uwaga: żadna zmienna instancji nie istnieje jeśli klasa nie posiada obiektu; zmienna klasy istnieje w jednym egzemplarzu nawet jeśli sama klasa nie posiada żadnych obiektów.\n",
    "\n",
    "Zmienne klasy tworzy się inaczej niż zmienne instancji. Ten przykład zobrazuje to nieco lepiej:\n",
    "\n",
    "class KlasaPrzykladowa:\n",
    "    licznik = 0\n",
    "    def __init__(self, wartosc = 1):\n",
    "        self.__pierwsza = wartosc\n",
    "        KlasaPrzykladowa.licznik += 1\n",
    "\n",
    "\n",
    "przykladowy_obiekt1 = KlasaPrzykladowa()\n",
    "przykladowy_obiekt2 = KlasaPrzykladowa(2)\n",
    "przykladowy_obiekt3 = KlasaPrzykladowa(4)\n",
    "\n",
    "print(przykladowy_obiekt1.__dict__, przykladowy_obiekt1.licznik)\n",
    "print(przykladowy_obiekt2.__dict__, przykladowy_obiekt2.licznik)\n",
    "print(przykladowy_obiekt3.__dict__, przykladowy_obiekt3.licznik)\n",
    "\n",
    "\n",
    "\n",
    "\n",
    "Spójrz:\n",
    "\n",
    "pierwsza lista definicji klasy zawiera przypisanie - ustawia ono zmienną o nazwie licznink do wartości 0; inicjalizacja zmiennej wewnątrz klasy ale poza którąkolwiek z jej metod sprawia, że zmienna staje się zmienną klasy;\n",
    "aby uzyskać dostęp do takiej zmiennej należy uczynić to samo, co w przypadku dowolnego atrybutu instancji - dobrze to widać w ciele konstruktora; jak widzisz, to konstruktor zwiększa wartość zmiennej o jeden; w rezultacie, zmienna zlicza wszystkie stworzone obiekty.\n",
    "Uruchomienie kodu skutkować będzie wyświetleniem poniższego:\n",
    "\n",
    "{'_KlasaPrzykladowa__pierwsza': 1} 3\n",
    "{'_KlasaPrzykladowa__pierwsza': 2} 3\n",
    "{'_KlasaPrzykladowa__pierwsza': 4} 3\n",
    "output\n",
    "\n",
    "Analiza przykładu pozwala nam wyciągnąć dwa ważne wnioski:\n",
    "\n",
    "zmienne klasy nie są ukazane w obiekcie __dict__ (to naturalne ponieważ zmienne klasy nie są częścią składową obiektu), ale można zawsze spróbować zajrzeć do środka zmiennej noszącą tę samą nazwę, tyle że z poziomu klasy - niebawem ci to zademonstrujemy;\n",
    "zmienna klasy zawsze posiada jedną wartość we wszystkich instancjach klasy (obiektach)"
   ]
  },
  {
   "cell_type": "markdown",
   "metadata": {},
   "source": [
    "Dekorowanie nazw zmiennych klasy ma taki sam efekt jak w znanych ci już przypadkach.\n",
    "\n",
    "Zerknij na przykład w edytorze. Czy umiesz przewidzieć wynik takiego działania?\n",
    "\n",
    "Uruchom program i sprawdź, czy oczekiwany przez ciebie wynik jest poprawny. Wszystko działa tak, jak oczekiwałeś, nieprawdaż?\n",
    "\n"
   ]
  },
  {
   "cell_type": "code",
   "execution_count": null,
   "metadata": {},
   "outputs": [],
   "source": [
    "class KlasaPrzykladowa:\n",
    "    __licznik = 0\n",
    "    def __init__(self, wartosc = 1):\n",
    "        self.__pierwsza = wartosc\n",
    "        KlasaPrzykladowa.__licznik += 1\n",
    "\n",
    "\n",
    "przykladowy_obiekt_1 = KlasaPrzykladowa()\n",
    "przykladowy_obiekt_2 = KlasaPrzykladowa(2)\n",
    "przykladowy_obiekt_3 = KlasaPrzykladowa(4)\n",
    "\n",
    "print(przykladowy_obiekt_1.__dict__, przykladowy_obiekt_1._KlasaPrzykladowa__licznik)\n",
    "print(przykladowy_obiekt_2.__dict__, przykladowy_obiekt_2._KlasaPrzykladowa__licznik)\n",
    "print(przykladowy_obiekt_3.__dict__, przykladowy_obiekt_3._KlasaPrzykladowa__licznik)\n"
   ]
  },
  {
   "cell_type": "markdown",
   "metadata": {},
   "source": [
    "Jak już wspomnieliśmy zmienne klasy istnieją nawet kiedy nie stworzono żadnej instancji klasy (obiektu).\n",
    "\n",
    "Teraz skorzystamy z okazji i pokażemy ci różnicę między tymi dwiema zmiennymi __dict__, czyli tą z klasy i tą z obiektu.\n",
    "\n",
    "Zerknij na kod w edytorze. Oto dowód.\n",
    "\n",
    "Przyjrzyjmy się mu bliżej.\n",
    "definiujemy jedną klasę KlasaPrzykladowa;\n",
    "klasa definiuje jedną zmienną klasy o nazwie zmienna;\n",
    "konstruktor klasy przypisuje zmiennej wartość parametru;\n",
    "nazewnictwo zmiennej jest najważniejszym aspektem tego przykładu ponieważ:\n",
    "zmiana przypisania na self.zmienna  = wartosc stworzyłaby instancję zmiennej tej samej nazwy co zmienna klasy;\n",
    "zmiana przypisani na zmienna = wartosc działałaby na lokalnej zmiennej metody; (zachęcamy cię do przetestowania obydwu przypadków - tak łatwiej zapamiętasz różnicę)\n",
    "pierwszy wiersz kodu spoza klasy wyświetla wartość atrybutu KlasaPrzykladowa.zmienna; uwaga - używamy wartości przed inicjalizacją pierwszego obiektu klasy.\n",
    "Uruchom program w edytorze i zobacz, co zostanie wygenerowane.\n",
    "\n",
    "Jak widzisz, __dict__ należący do klasy zawiera dużo więcej informacji niż swój odpowiednik na poziomie obiektu. Większość z nich jest teraz bezużyteczna - te, które chcesz sprawdzić, pokazują bieżącą wartość zmienna.\n",
    "\n",
    "Zauważ, że __dict__ obiektu jest pusty - obiekt nie posiada instancji zmiennych."
   ]
  },
  {
   "cell_type": "code",
   "execution_count": null,
   "metadata": {},
   "outputs": [],
   "source": [
    "class KlasaPrzykladowa:\n",
    "    zmienna = 1\n",
    "    def __init__(self, wartosc):\n",
    "        KlasaPrzykladowa.zmienna = wartosc\n",
    "\n",
    "\n",
    "print(KlasaPrzykladowa.__dict__)\n",
    "przykladowy_obiekt = KlasaPrzykladowa(2)\n",
    "\n",
    "print(KlasaPrzykladowa.__dict__)\n",
    "print(przykladowy_obiekt.__dict__)\n"
   ]
  },
  {
   "cell_type": "markdown",
   "metadata": {},
   "source": [
    "Podejście języka Python do instancji wiąże się z jedną ważną kwestią - w przeciwieństwie do innych języków programowania nie można oczekiwać, że wszystkie obiekty tej samej klasy mają takie same zestawy właściwości.\n",
    "\n",
    "Zerknij na przykład w edytorze. Spójrz uważnie.\n",
    "\n",
    "Obiekt stworzony przez konstruktor może mieć tylko jeden z dwóch możliwych atrybutów: a lub b.\n",
    "\n",
    "Uruchomienie kodu skutkować będzie wyświetleniem poniższego:\n",
    "\n",
    "1\n",
    "Traceback (most recent call last):\n",
    "  File \".main.py\", line 11, in \n",
    "    print(przykladowy_obiekt.b)\n",
    "AttributeError: 'KlasaPrzykladowa' object has no attribute 'b'\n",
    "output\n",
    "\n",
    "Jak widzisz, dostęp do nieistniejącego atrybutu obiektu (klasy) powoduje wyjątek AttributeError."
   ]
  },
  {
   "cell_type": "code",
   "execution_count": null,
   "metadata": {},
   "outputs": [],
   "source": [
    "class KlasaPrzykladowa:\n",
    "    def __init__(self, wartosc):\n",
    "        if wartosc % 2 != 0:\n",
    "            self.a = 1\n",
    "        else:\n",
    "            self.b = 1\n",
    "\n",
    "\n",
    "przykladowy_obiekt = KlasaPrzykladowa(1)\n",
    "\n",
    "print(przykladowy_obiekt.a)\n",
    "print(przykladowy_obiekt.b)\n"
   ]
  },
  {
   "cell_type": "markdown",
   "metadata": {},
   "source": [
    "### Sprawdzanie, czy dany atrybut istnieje: kontynuacja"
   ]
  },
  {
   "cell_type": "code",
   "execution_count": 1,
   "metadata": {},
   "outputs": [
    {
     "name": "stdout",
     "output_type": "stream",
     "text": [
      "1\n"
     ]
    }
   ],
   "source": [
    "class KlasaPrzykladowa:\n",
    "    def __init__(self, wartosc):\n",
    "        if wartosc % 2 != 0:\n",
    "            self.a = 1\n",
    "        else:\n",
    "            self.b = 1\n",
    "\n",
    "\n",
    "przykladowy_obiekt = KlasaPrzykladowa(1)\n",
    "print(przykladowy_obiekt.a)\n",
    "\n",
    "try:\n",
    "    print(przykladowy_obiekt.b)\n",
    "except AttributeError:\n",
    "    pass\n"
   ]
  },
  {
   "cell_type": "markdown",
   "metadata": {},
   "source": [
    "\n",
    "\n",
    "Instrukcja try-except pozwala uniknąć problemów związanych z nieistniejącymi właściwościami.\n",
    "\n",
    "To proste - spójrz na kod w edytorze.\n",
    "\n",
    "Jak widzisz, operacja ta nie jest bardzo wyszukana. Zasadniczo, zamietliśmy problem pod dywan.\n",
    "\n",
    "Na szczęście jest jeszcze jeden sposób, który pomoże nam uporać się z tą kwestią.\n",
    "\n",
    "\n",
    "Język Python zapewnia funkcję, która potrafi bezpiecznie sprawdzić, czy dany obiekt/klasa zawiera określoną właściwość. Funkcja ta nosi nazwę \n",
    "\n",
    "### hasattr()\n",
    "\n",
    "i oczekuje dwóch argumentów, które winny zostać jej przekazane:\n",
    "\n",
    "klasę lub obiekt podlegający sprawdzeniu;\n",
    "nazwę właściwości, której której istnienie należy potwierdzić lub zanegować (uwaga: musi to być ciąg znaków zawierający nazwę atrybutu, a nie sama nazwa)\n",
    "Funkcja zwraca True lub False.\n",
    "\n",
    "Oto jak można użyć tej funkcji:"
   ]
  },
  {
   "cell_type": "code",
   "execution_count": null,
   "metadata": {},
   "outputs": [],
   "source": [
    "class KlasaPrzykladowa:\n",
    "    def __init__(self, wartosc):\n",
    "        if wartosc % 2 != 0:\n",
    "            self.a = 1\n",
    "        else:\n",
    "            self.b = 1\n",
    "\n",
    "\n",
    "przykladowy_obiekt = KlasaPrzykladowa(1)\n",
    "print(przykladowy_obiekt.a)\n",
    "\n",
    "if hasattr(przykladowy_obiekt, 'b'):\n",
    "    print(przykladowy_obiekt.b)\n",
    "\n"
   ]
  },
  {
   "cell_type": "markdown",
   "metadata": {},
   "source": [
    "Nie zapomnij, że funkcja hasattr() operuje również na klasach. Możesz jej użyć, aby dowiedzieć się, czy zmienna klasy jest dostępna, dokładnie tak, jak zostało to ukazana w przykładzie.\n",
    "\n",
    "Funkcja zwraca True jeśli podana klasa zawiera dany atrybut False jeśli go nie posiada.\n",
    "\n",
    "Umiesz przewidzieć, co zwróci nasz kod? Uruchom i sprawdź swoje przypuszczenia.\n",
    "\n",
    "\n",
    "I jeszcze jeden przykład - spójrz na kod przedstawiony poniżej i ponowie spróbuj przewidzieć wynik działania programu:"
   ]
  },
  {
   "cell_type": "code",
   "execution_count": null,
   "metadata": {},
   "outputs": [],
   "source": [
    "class KlasaPrzykladowa:\n",
    "    a = 1\n",
    "    def __init__(self):\n",
    "        self.b = 2\n",
    "\n",
    "\n",
    "przykladowy_obiekt = KlasaPrzykladowa()\n",
    "\n",
    "print(hasattr(przykladowy_obiekt, 'b'))\n",
    "print(hasattr(przykladowy_obiekt, 'a'))\n",
    "print(hasattr(KlasaPrzykladowa, 'b'))\n",
    "print(hasattr(KlasaPrzykladowa, 'a'))\n"
   ]
  },
  {
   "cell_type": "markdown",
   "metadata": {},
   "source": [
    "Udało ci się? Uruchom i sprawdź swoje przypuszczenia.\n",
    "\n",
    "Dobrze, dotarliśmy właśnie do końca tej sekcji. W następnej kolejności porozmawiamy o metodach, ponieważ to właśnie one stanowią siłę napędową obiektów i zmuszają je do działania."
   ]
  },
  {
   "cell_type": "markdown",
   "metadata": {},
   "source": [
    "### Kluczowe zagadnienia"
   ]
  },
  {
   "cell_type": "markdown",
   "metadata": {},
   "source": [
    "1. Zmienna instancji to właściwość, której istnienie zależy od utworzenia obiektu. Każdy obiekt może mieć inny zestaw zmiennych instancji.\n",
    "\n",
    "Ponadto można je dowolnie dodawać i usuwać z obiektów w trakcie ich istnienia. Wszystkie zmienne instancji obiektu są przechowywane w dedykowanym słowniku o nazwie __dict__, zawartym w każdym obiekcie oddzielnie.\n",
    "\n",
    "\n",
    "2. Zmienna instancji może być prywatna, gdy jej nazwa zaczyna się od __, ale nie zapominaj, że taka właściwość jest nadal dostępna spoza klasy przy użyciu zniekształconej nazw skonstruowanej jako  _NazwaKlasy__NazwaPrywatnejWłaściwości.\n",
    "\n",
    "\n",
    "3. Zmienna klasy to właściwość, która istnieje dokładnie w jednej kopii i nie potrzebuje żadnego utworzonego obiektu, aby być dostępną. Takie zmienne nie są wyświetlane jako zawartość __dict__.\n",
    "\n",
    "Wszystkie zmienne klasy są przechowywane w dedykowanym słowniku o nazwie __dict__, zawartym w każdej klasie oddzielnie.\n",
    "\n",
    "\n",
    "4. Funkcja o nazwie hasattr() może służyć do określenia, czy jakikolwiek obiekt/klasa zawiera określoną właściwość.\n",
    "\n",
    "For example:"
   ]
  },
  {
   "cell_type": "code",
   "execution_count": null,
   "metadata": {},
   "outputs": [],
   "source": [
    "class Przykład:\n",
    "    gamma = 0 # Zmienna klasy.\n",
    "    def __init__(self):\n",
    "        self.alpha = 1 # Zmienna instancji.\n",
    "        self.__delta = 3 # Zmienna instancji prywatnej.\n",
    "\n",
    "\n",
    "obj = Przykład()\n",
    "obj.beta = 2  # Inna zmienna instancji (istniejąca tylko w instancji „obj”).\n",
    "print(obj.__dict__)\n"
   ]
  },
  {
   "cell_type": "markdown",
   "metadata": {},
   "source": [
    "Które z właściwości klasy Python są zmiennymi instancji, a które zmiennymi klas? Które z nich są prywatne?\n",
    "\n",
    "class Python:\n",
    "    populacja = 1\n",
    "    ofiary = 0\n",
    "    def __init__(self):\n",
    "        self.length_ft = 3\n",
    "        self.__jadowity = False\n",
    "\n",
    "Sprawdź\n",
    "populacja oraz ofiary są zmiennymi klasy, a length i __jadowity są zmiennymi instancji (ta ostatnia jest również prywatna ).\n",
    "\n",
    "\n",
    "\n",
    "\n",
    "Zamierzasz zanegować właściwość __jadowity obiektu wersja_2, ignorując fakt, że właściwość jest prywatna. Jak to zrobisz?\n",
    "\n",
    "wersja_2 = Python()\n",
    "\n",
    "\n",
    "Sprawdź\n",
    "wersja_2._Python__jadowity = not wersja_2._Python__jadowity\n",
    "\n",
    "\n",
    "\n",
    "\n",
    "Napisz instrukcję sprawdzającą, czy obiekt wersja_2 zawiera właściwość instancji o nazwie constrictor (tak, constrictor!).\n",
    "\n",
    "Sprawdź\n",
    "hasattr(wersja_2, 'constrictor')\n"
   ]
  },
  {
   "cell_type": "markdown",
   "metadata": {},
   "source": [
    "### metody w szczególach"
   ]
  },
  {
   "cell_type": "markdown",
   "metadata": {},
   "source": [
    "Podsumujmy wszystkie fakty dotyczące użycia metod w klasach języka Python.\n",
    "\n",
    "Jak już wiesz, metoda jest funkcją osadzoną w klasie.\n",
    "\n",
    "Jest jeden podstawowy warunek - metoda musi mieć przynajmniej jeden parametr (nie ma czegoś takiego jak metody bez parametrów - metoda może być wywołana bez argumentu, ale nie może być zadeklarowana bez parametrów).\n",
    "\n",
    "Pierwszy (lub jedyny) parametr zazwyczaj nosi nazwę self. Sugerujemy, abyś stosował się do tej konwencji - jest powszechnie używana a używając do tego innych nazw, spowodujesz trochę niespodzianek.\n",
    "\n",
    "Nazwa self sugeruje cel parametru - identyfikuje obiekt, dla którego wywołana jest metoda.\n",
    "\n",
    "Jeśli zamierzasz wywołać metodę, nie możesz przekazać argumentu dla parametru self - język Python zrobi to za ciebie.\n",
    "\n",
    "Przykład w edytorze pokazuje różnicę.\n",
    "\n",
    "Wynik kodu to:\n",
    "\n",
    "metoda\n",
    "output\n",
    "\n",
    "Zwróć uwagę na sposób, w jaki stworzyliśmy obiekt - potraktowaliśmy nazwę klasy jak funkcję, zwracając nowo utworzony obiekt klasy.\n",
    "\n",
    "Jeśli chcesz, aby metoda akceptowała parametry inne niż self, powinieneś:\n",
    "\n",
    "umieścić je po self w definicji metody;\n",
    "podać je podczas wywoływania bez określania self (jak poprzednio)\n",
    "Tak jak tutaj:\n",
    "\n",
    "class Classy: \n",
    "    def metoda(self, par): \n",
    "        print(\"metoda:\", par) \n",
    "\n",
    "\n",
    "obj = Classy() \n",
    "obj.metoda(1) \n",
    "obj.metoda(2) \n",
    "obj.metoda(3)\n",
    "\n",
    "\n",
    "Wynik kodu to:\n",
    "\n",
    "metoda: 1 \n",
    "metoda: 2 "
   ]
  },
  {
   "cell_type": "markdown",
   "metadata": {},
   "source": [
    "Parametr self jest używany w celu uzyskania dostępu do instancji obiektu i zmiennych klasy.\n",
    "\n",
    "W przykładzie pokazano oba sposoby wykorzystania self:"
   ]
  },
  {
   "cell_type": "code",
   "execution_count": 5,
   "metadata": {},
   "outputs": [
    {
     "name": "stdout",
     "output_type": "stream",
     "text": [
      "2 3\n"
     ]
    }
   ],
   "source": [
    "class Classy: \n",
    "    varia = 2 \n",
    "    def metoda(self): \n",
    "        print(self.varia, self.zmienna)\n",
    "    \n",
    "    \n",
    "obj = Classy() \n",
    "obj.zmienna = 3 \n",
    "obj.metoda()\n"
   ]
  },
  {
   "cell_type": "markdown",
   "metadata": {},
   "source": [
    "Parametr self jest również używany do wywoływania innych metod obiektów/klas z poziomu klasy.\n",
    "\n",
    "Tak jak tutaj:"
   ]
  },
  {
   "cell_type": "code",
   "execution_count": null,
   "metadata": {},
   "outputs": [],
   "source": [
    "class Classy: \n",
    "    def inna(self): \n",
    "        print(\"inna\")\n",
    "\n",
    "    def metoda(self): \n",
    "        print(\"metoda\") \n",
    "        self.inna() \n",
    "        \n",
    "        \n",
    "obj = Classy() \n",
    "obj.metoda()"
   ]
  },
  {
   "cell_type": "markdown",
   "metadata": {},
   "source": [
    "eśli nazwiesz metodę w ten sposób: __init__, nie będzie to zwykła metoda - będzie to konstruktor.\n",
    "\n",
    "Jeśli klasa ma konstruktor, jest wywoływana automatycznie i domyślnie, gdy tworzona jest instancja obiektu klasy.\n",
    "\n",
    "Konstruktor:\n",
    "\n",
    "musi mieć parametr self (jest ustawiany automatycznie, jak zwykle);\n",
    "może (ale nie musi) mieć więcej parametrów niż tylko self; jeśli tak się stanie, sposób, w jaki nazwa klasy jest używana do utworzenia obiektu, musi odzwierciedlać definicję __init__;\n",
    "może służyć do stworzenia obiektu, tzn. poprawnie zainicjować jego stan wewnętrzny, utworzyć zmienne instancji, utworzyć instancję dowolnych innych obiektów, jeśli ich istnienie jest wymagane, itp.\n",
    "Spójrz na kod w edytorze. Przykład pokazuje bardzo prosty konstruktor.\n",
    "\n",
    "Uruchom go. Kod wyświetla:\n",
    "\n",
    "obiekt\n",
    "output\n",
    "\n",
    "Zauważ, że konstruktor:\n",
    "\n",
    "nie może zwrócić wartości, ponieważ jest przeznaczony do zwrócenia nowo utworzonego obiektu i niczego więcej;\n",
    "nie może zostać wywołany bezpośrednio z obiektu lub z wewnątrz klasy (możesz wywołać konstruktor z dowolnej nadklasy obiektu, ale omówimy to później)."
   ]
  },
  {
   "cell_type": "code",
   "execution_count": null,
   "metadata": {},
   "outputs": [],
   "source": [
    "class Classy: \n",
    "    def __init__(self, wartość): \n",
    "        self.zmienna = wartość \n",
    "\n",
    "\n",
    "obj1 = Classy(\"obiekt\") \n",
    "\n",
    "print(obj1.zmienna) \n"
   ]
  },
  {
   "cell_type": "markdown",
   "metadata": {},
   "source": [
    "Ponieważ __init__ jest metodą, a metoda jest funkcją, możesz wykonywać te same triki z konstruktorami/metodami, co w przypadku zwykłych funkcji\n",
    "\n",
    "Przykład w edytorze pokazuje, jak zdefiniować konstruktor z domyślną wartością argumentu. Sprawdź to\n",
    "\n",
    "Wynik kodu to:\n",
    "\n",
    "obiekt \n",
    "None\n",
    "output\n",
    "\n",
    "Wszystko, co powiedzieliśmy o dekorowaniu nazw właściwości, dotyczy również nazw metod - metoda, której nazwa zaczyna się od __ jest (częściowo) ukryta.\n",
    "\n",
    "Przykład pokazuje ten efekt:\n"
   ]
  },
  {
   "cell_type": "code",
   "execution_count": null,
   "metadata": {},
   "outputs": [],
   "source": [
    "class Classy: \n",
    "    def widoczny(self): \n",
    "        print(\"widoczny\") \n",
    "\n",
    "    def __ukryty(self): \n",
    "        print(\"ukryty\") \n",
    "\n",
    "\n",
    "obj = Classy() \n",
    "obj.widoczny() \n",
    "\n",
    "try: \n",
    "    obj.__widoczny() \n",
    "except: \n",
    "    print(\"niepowodzenie\") \n",
    "\n",
    "obj._Classy__ukryty()"
   ]
  },
  {
   "cell_type": "code",
   "execution_count": null,
   "metadata": {},
   "outputs": [],
   "source": [
    "class Classy: \n",
    "    def __init__(self, wartość = None): \n",
    "        self.var = wartość \n",
    "\n",
    "\n",
    "obj1 = Classy(\"obiekt\") \n",
    "obj2 = Classy() \n",
    "\n",
    "print(obj1.zmienna) \n",
    "print(obj2.zmienna) \n"
   ]
  },
  {
   "cell_type": "markdown",
   "metadata": {},
   "source": [
    "Każda klasa języka Python i każdy obiekt języka Pythona jest wstępnie wyposażony w zestaw przydatnych atrybutów, które można wykorzystać do zbadania jego możliwości.\n",
    "\n",
    "Znasz już jedną z nich - jest to właściwość __dict__.\n",
    "\n",
    "Zobaczmy, jak radzi sobie z metodami - spójrz na kod w edytorze.\n",
    "\n",
    "Uruchom go, aby zobaczyć, co wygeneruje. Dokładnie sprawdź wynik.\n",
    "\n",
    "Znajdź wszystkie zdefiniowane metody i atrybuty. Zlokalizuj kontekst, w którym istnieją: wewnątrz obiektu lub wewnątrz klasy."
   ]
  },
  {
   "cell_type": "code",
   "execution_count": null,
   "metadata": {},
   "outputs": [],
   "source": [
    "class Classy: \n",
    "    zmie = 1 \n",
    "    def __init__(self): \n",
    "        self.zmienna = 2 \n",
    "\n",
    "    def metoda(self): \n",
    "        pass \n",
    "\n",
    "    def __ukryty(self): \n",
    "        pass \n",
    "\n",
    "\n",
    "obj = Classy() \n",
    "\n",
    "print(obj.__dict__) \n",
    "print(Classy.__dict__) \n"
   ]
  },
  {
   "cell_type": "markdown",
   "metadata": {},
   "source": [
    "__dict__ to słownik. Kolejna wbudowana właściwość, o której warto wspomnieć, to __name__, która jest łańcuchem znaków.\n",
    "\n",
    "Właściwość ta zawiera nazwę klasy. To nic ciekawego, po prostu łańcuch.\n",
    "\n",
    "Uwaga: atrybut __name__ jest nieobecny w obiekcie - istnieje tylko wewnątrz klas.\n",
    "\n",
    "\n",
    "Jeśli chcesz znaleźć klasę określonego obiektu, możesz użyć funkcji o nazwie type(), która jest w stanie (między innymi) znaleźć klasę, która została użyta do utworzenia instancji dowolnego obiektu.\n",
    "\n",
    "Spójrz na kod w edytorze, uruchom go i przekonaj się sam.\n",
    "\n",
    "Wynik kodu to:\n",
    "\n",
    "Classy \n",
    "Classy\n",
    "output\n",
    "\n",
    "Uwaga: instrukcja taka jak ta:\n",
    "\n",
    "print(obj.__name__)\n",
    "\n",
    "\n",
    "spowoduje błąd.\n",
    "\n"
   ]
  },
  {
   "cell_type": "code",
   "execution_count": null,
   "metadata": {},
   "outputs": [],
   "source": [
    "class Classy: \n",
    "    pass \n",
    "\n",
    "\n",
    "print(Classy.__name__) \n",
    "obj = Classy() \n",
    "print(type(obj).__name__) \n"
   ]
  },
  {
   "cell_type": "markdown",
   "metadata": {},
   "source": [
    "__module__ to również łańcuch znaków - przechowuje on nazwę modułu, który zawiera definicję klasy.\n",
    "\n",
    "Sprawdźmy to - uruchom kod w edytorze.\n",
    "\n",
    "Wynik kodu to:\n",
    "\n",
    "__main__ \n",
    "__main__\n",
    "output\n",
    "\n",
    "Jak wiesz, każdy moduł o nazwie __main__ w rzeczywistości nie jest modułem, ale aktualnie uruchamianym plikiem."
   ]
  },
  {
   "cell_type": "code",
   "execution_count": null,
   "metadata": {},
   "outputs": [],
   "source": [
    "class Classy:\n",
    "    pass\n",
    "\n",
    "\n",
    "print(Classy.__module__) \n",
    "obj = Classy() \n",
    "print(obj.__module__) \n"
   ]
  },
  {
   "cell_type": "markdown",
   "metadata": {},
   "source": [
    "__bases __ jest krotką. Krotka zawiera klasy (nie nazwy klas), które są bezpośrednimi nadklasami dla klasy.\n",
    "\n",
    "Kolejność jest taka sama, jak w definicji klasy.\n",
    "\n",
    "Pokażemy ci tylko bardzo prosty przykład, ponieważ chcemy podkreślić działanie dziedziczenia.\n",
    "\n",
    "Ponadto pokażemy ci, jak używać tego atrybutu, gdy omawiamy obiektowe aspekty wyjątków.\n",
    "\n",
    "Uwaga: tylko klasy mają ten atrybut - obiekty go nie mają.\n",
    "\n",
    "Zdefiniowaliśmy funkcję o nazwie printbases(), zaprojektowaną by wyraźnie zaprezentować zawartość krotki.\n",
    "\n",
    "Spójrz na kod w edytorze. Przeanalizuj go i uruchom. Jego wynik to:\n",
    "\n",
    "( object )\n",
    "( object )\n",
    "( SuperJeden SuperDwa )\n",
    "output\n",
    "\n",
    "Uwaga: klasa bez wyraźnych nadklas wskazuje na obiekt (predefiniowana klasa języka Python) jako na bezpośredniego przodka."
   ]
  },
  {
   "cell_type": "code",
   "execution_count": null,
   "metadata": {},
   "outputs": [],
   "source": [
    "class SuperJeden: \n",
    "    pass \n",
    "\n",
    "\n",
    "class SuperDwa: \n",
    "    pass \n",
    "\n",
    "\n",
    "class Sub(SuperJeden, SuperDwa): \n",
    "    pass \n",
    "\n",
    "\n",
    "def printBases(cls): \n",
    "    print('( ', end='') \n",
    "\n",
    "    for x in cls.__bases__: \n",
    "        print(x.__name__, end=' ') \n",
    "    print(')') \n",
    "    \n",
    "\n",
    "printBases(SuperJeden) \n",
    "printBases(SuperDwa) \n",
    "printBases(Sub) "
   ]
  },
  {
   "cell_type": "markdown",
   "metadata": {},
   "source": [
    "\n",
    "### Refleksja i introspekcja\n",
    "Wszystkie te środki pozwalają programiście języka Python wykonać dwie ważne czynności specyficzne dla wielu języków obiektowych. Są to:\n",
    "\n",
    "- introspekcja, czyli zdolność programu do sprawdzenia typu lub właściwości obiektu w środowisku wykonawczym;\n",
    "- refleksja, które idzie o krok dalej i jest zdolnością programu do manipulowania wartościami, właściwościami i/lub funkcjami obiektu w środowisku wykonawczym.\n",
    "Innymi słowy, nie musisz znać kompletnej definicji klasy/obiektu, aby manipulować obiektem, ponieważ obiekt i/lub jego klasa zawierają metadane umożliwiające rozpoznanie ich cech podczas wykonywania programu.\n",
    "\n"
   ]
  },
  {
   "cell_type": "markdown",
   "metadata": {},
   "source": [
    "Badanie klas\n",
    "\n",
    "Czego możesz dowiedzieć się o klasach w języku Python? Odpowiedź jest prosta - wszystkiego.\n",
    "\n",
    "Zarówno refleksja, jak i introspekcja umożliwiają programiście zrobienie czegokolwiek z każdym obiektem, bez względu na to, skąd taki obiekt pochodzi.\n",
    "\n",
    "Przeanalizuj przykładowy kod w edytorze.\n",
    "\n",
    "Funkcja o nazwie incIntsI() pobiera obiekt dowolnej klasy, skanuje jego zawartość, aby znaleźć wszystkie atrybuty liczb całkowitych z nazwami zaczynającymi się od i i zwiększa je o jeden.\n",
    "\n",
    "Niemożliwe? Absolutnie!\n",
    "\n",
    "Oto, jak to działa:\n",
    "\n",
    "linia 1: zdefiniuj bardzo prostą klasę ...\n",
    "linie od 3 do 10: ... i wypełnij je jakimiś atrybutami;\n",
    "linia 12: to jest nasza funkcja!\n",
    "linia 13: zeskanuj atrybut __dict__, szukając wszystkich nazw atrybutów;\n",
    "linia 14: jeśli nazwa zaczyna się od i...\n",
    "linia 15: ... użyj funkcji getattr(), aby uzyskać aktualną wartość; Uwaga: getattr() bierze dwa argumenty: obiekt i nazwę jego właściwości (jako łańcuch znaków) i zwraca wartość bieżącego atrybutu;\n",
    "linia 16: sprawdź, czy wartość jest typu liczby całkowitej używając w tym celu funkcji isinstance() (omówimy to później);\n",
    "linia 17: jeśli kontrola przebiegnie pomyślnie, zwiększ wartość właściwości za pomocą funkcji setattr(); funkcja przyjmuje trzy argumenty: obiekt, nazwę właściwości (jako łańcuch znaków) i nową wartość właściwości.\n",
    "Wynik kodu to:\n",
    "\n",
    "{'a': 1, 'integer': 4, 'b': 2, 'i': 3, 'z': 5, 'ireal': 3.5} \n",
    "{'a': 1, 'integer': 5, 'b': 2, 'i': 4, 'z': 5, 'ireal': 3.5}\n",
    "output\n",
    "\n",
    "To wszystko!"
   ]
  },
  {
   "cell_type": "code",
   "execution_count": null,
   "metadata": {},
   "outputs": [],
   "source": [
    "class MojaKlasa: \n",
    "    pass  \n",
    "\n",
    "\n",
    "obj = MojaKlasa()\n",
    "obj.a = 1 \n",
    "obj.b = 2 \n",
    "obj.i = 3 \n",
    "obj.ireal = 3.5 \n",
    "obj.integer = 4 \n",
    "obj.z = 5\n",
    "\n",
    "\n",
    "def incIntsI(obj): \n",
    "    for name in obj.__dict__.keys(): \n",
    "        if name.startswith('i'): \n",
    "            val = getattr(obj, name) \n",
    "            if isinstance(val, int): \n",
    "                setattr(obj, name, val + 1) \n",
    "\n",
    "\n",
    "print(obj.__dict__) \n",
    "incIntsI(obj) \n",
    "print(obj.__dict__) \n"
   ]
  },
  {
   "cell_type": "markdown",
   "metadata": {},
   "source": [
    "### Kluczowe zagadnienia\n",
    "\n",
    "1. Metoda to funkcja osadzona w klasie. Pierwszy (lub jedyny) parametr każdej metody nosi zwykle nazwę self, co ma na celu identyfikację obiektu, dla którego metoda jest wywoływana, w celu uzyskania dostępu do właściwości obiektu lub wywołania jego metod.\n",
    "\n",
    "\n",
    "2. Jeśli klasa zawiera konstruktor (metodę o nazwie __init__), nie może zwrócić żadnej wartości i nie można jej wywołać bezpośrednio.\n",
    "\n",
    "\n",
    "3. Wszystkie klasy (ale nie obiekty) zawierają właściwość o nazwie __name__, która przechowuje nazwę klasy. Ponadto właściwość o nazwie __module__ przechowuje nazwę modułu, w którym klasa została zadeklarowana, podczas gdy właściwość o nazwie __bases__ jest krotką zawierającą nadklasy klasy.\n",
    "\n",
    "Na przykład:\n"
   ]
  },
  {
   "cell_type": "code",
   "execution_count": null,
   "metadata": {},
   "outputs": [],
   "source": [
    "class Przykład:\n",
    "    def __init__(self):\n",
    "        self.name = Przykład.__name__\n",
    "    def myself(self):\n",
    "        print(\"Nazywam się \" + self.name + \" i mieszkam w \" + Przykład.__module__)\n",
    "\n",
    "\n",
    "obj = Przykład()\n",
    "obj.myself()\n"
   ]
  },
  {
   "cell_type": "markdown",
   "metadata": {},
   "source": [
    "Ćwiczenie 1\n",
    "\n",
    "Deklarację klasy Wąż podano poniżej. Wzbogać klasę o metodę o nazwie zwiększ(), dodając 1 do właściwości __ofiary.\n",
    "\n",
    "class Wąż:\n",
    "    def __init__(self):\n",
    "        self.ofiary = 0\n",
    "\n",
    "Sprawdź\n",
    "class Wąż:\n",
    "    def __init__(self):\n",
    "        self.ofiary = 0\n",
    "\n",
    "    def zwiększ(self):\n",
    "        self.ofiary += 1\n",
    "\n",
    "\n",
    "\n",
    "\n",
    "Ćwiczenie 2\n",
    "\n",
    "Przedefiniuj konstruktor klasy Wąż tak, aby zawierał parametr do zainicjowania pola ofiary wartością przekazaną do obiektu podczas konstruowania.\n",
    "\n",
    "sprawdz\n",
    "class Wąż:\n",
    "    def __init__(self, ofiary):\n",
    "        self.ofiary = ofiary\t\n",
    "\n",
    "\n",
    "\n",
    "Ćwiczenie 3\n",
    "\n",
    "Czy możesz przewidzieć wynik następującego kodu?\n",
    "\n",
    "class Wąż:\n",
    "    pass\n",
    "\n",
    "\n",
    "class Python(Wąż):\n",
    "    pass\n",
    "\n",
    "\n",
    "print(Python.__name__, 'to', Wąż.__name__)\n",
    "print(Python.__bases__[0].__name__, 'to na przykład', Python.__name__)\n",
    "\n",
    "\n",
    "Sprawdź\n",
    "Python to Wąż\n",
    "Wąż to na przykład Python"
   ]
  },
  {
   "cell_type": "markdown",
   "metadata": {},
   "source": [
    "### Dziedziczenie"
   ]
  },
  {
   "cell_type": "code",
   "execution_count": 1,
   "metadata": {},
   "outputs": [
    {
     "name": "stdout",
     "output_type": "stream",
     "text": [
      "<__main__.Gwiazda object at 0x7fe2a3c6cdd8>\n"
     ]
    }
   ],
   "source": [
    "class Gwiazda: \n",
    "    def __init__(self, nazwa, galaktyka): \n",
    "        self.nazwa = nazwa \n",
    "        self.galaktyka = galaktyka \n",
    "\n",
    "\n",
    "słońce = Gwiazda(\"Slonce\", \"Droga Mleczna\") \n",
    "print(słońce)"
   ]
  },
  {
   "cell_type": "markdown",
   "metadata": {},
   "source": [
    "Kiedy język Python musi przedstawić jakąkolwiek klasę/obiekt w postaci łańcucha znaków (umieszczenie obiektu jako argumentu w wywołaniu funkcjiprint() spełnia ten warunek) próbuje wywołać metodę o nazwie __str__() z obiektu i użyć łańcucha znaków, który zwróci.\n",
    "\n",
    "Domyślna metoda __str__() zwraca poprzedni łańcuch znaków - brzydki i niezbyt jasny. Możesz to zmienić po prostu definiując własną metodę nazwy.\n",
    "\n",
    "Właśnie to zrobiliśmy - spójrz na kod w edytorze.\n",
    "\n",
    "Ta nowa metoda __str__() tworzy łańcuch składający się z nazw gwiazd i galaktyk - nic specjalnego, ale wynik wygląda teraz lepiej, prawda?\n",
    "\n",
    "Czy potrafisz odgadnąć wynik? Uruchom kod, aby sprawdzić, czy masz rację.\n",
    "\n",
    "\n"
   ]
  },
  {
   "cell_type": "code",
   "execution_count": null,
   "metadata": {},
   "outputs": [],
   "source": [
    "class Gwiazda: \n",
    "    def __init__(self, nazwa, galaktyka): \n",
    "        self.nazwa = nazwa \n",
    "        self.galaktyka = galaktyka \n",
    "\n",
    "    def __str__(self): \n",
    "        return self.nazwa + ' in ' + self.galaktyka \n",
    "\n",
    "\n",
    "sun = Gwiazda(\"Slonce\", \"Droga Mleczna\") \n",
    "print(słońce) \n"
   ]
  },
  {
   "cell_type": "markdown",
   "metadata": {},
   "source": [
    "\n",
    "* Najważniejszym czynnikiem w procesie jest relacja między nadklasą i wszystkimi jej podklasami (uwaga: jeśli B jest podklasą A a C jest podklasą B oznacza to również, że C jest podklasą A, ponieważ relacja między nimi jest w pełni przechodnia)."
   ]
  },
  {
   "cell_type": "code",
   "execution_count": null,
   "metadata": {},
   "outputs": [],
   "source": [
    "# Oto bardzo prosty przykład dziedziczenia dwupoziomowego:\n",
    "\n",
    "class Pojazdy:\n",
    "    pass\n",
    "\n",
    "\n",
    "class PojazdyLadowe(Pojazdy):\n",
    "    pass\n",
    "\n",
    "\n",
    "class PojazdyGasiennicowe(PojazdyLadowe):\n",
    "    pass\n"
   ]
  },
  {
   "cell_type": "markdown",
   "metadata": {},
   "source": [
    "Można powiedzieć, że:\n",
    "\n",
    "- Klasa Pojazdy jest nadklasą dla klas PojazdyLadowe i PojazdyGasiennicowe;\n",
    "- Klasa PojazdyLadowe jest podklasą klasy Pojazdy i zarazem nadklasą klasy PojazdyGasiennicowe;\n",
    "- Klasa PojazdyGasiennicowe jest w tym samym czasie podklasą klas Pojazdy i"
   ]
  },
  {
   "cell_type": "markdown",
   "metadata": {},
   "source": [
    "Język Python oferuje funkcję, która jest w stanie zidentyfikować związek między dwiema klasami i chociaż jego diagnoza nie jest wysublimowana, może sprawdzić, czy dana klasa jest podklasą jakiejkolwiek innej klasy.\n",
    "\n",
    "Oto, jak to działa:\n",
    "\n",
    "### issubclass(KlasaJeden, KlasaDwa)\n",
    "\n",
    "\n",
    "Funkcja zwraca True jeśli KlasaJeden jest podklasą klasy KlasaDwa, i False w przeciwnym wypadku.\n",
    "\n",
    "Zobaczmy to w akcji - możesz być zaskoczony. Spójrz na kod w edytorze. Przeczytaj uważnie."
   ]
  },
  {
   "cell_type": "code",
   "execution_count": null,
   "metadata": {},
   "outputs": [],
   "source": [
    "class Pojazdy: \n",
    "    pass \n",
    "\n",
    "\n",
    "class PojazdyLadowe(Pojazdy): \n",
    "    pass \n",
    "\n",
    "\n",
    "class PojazdyGasienicowe(PojazdyLadowe): \n",
    "    pass \n",
    "\n",
    "\n",
    "for cls1 in [Pojazdy, PojazdyLadowe, PojazdyGasienicowe]: \n",
    "    for cls2 in [Pojazdy, PojazdyLadowe, PojazdyGasienicowe]: \n",
    "        print(issubclass(cls1, cls2), end=\"\\t\") \n",
    "    print() \n"
   ]
  },
  {
   "cell_type": "markdown",
   "metadata": {},
   "source": [
    "Istnieją dwie zagnieżdżone pętle. Ich celem jest sprawdzenie wszystkich możliwych uporządkowanych par klas i wydrukowanie wyników sprawdzenia w celu określenia, czy para pasuje do relacji podklasa-nadklasa.\n",
    "\n",
    "\n",
    "\n",
    "↓ jest podklasą →\tPojazdy\t  PojazdyLadowe\t  PojazdyGasiennicowe\n",
    "Pojazdy\t             True\t           False\t         False\n",
    "PojazdyLadowe\t     True\t           True\t             False\n",
    "PojazdyGasiennicowe\t True\t           True\t             True\n"
   ]
  },
  {
   "cell_type": "markdown",
   "metadata": {},
   "source": [
    "Jak już wiesz, obiekt jest inkarnacją klasy. Oznacza to, że obiekt jest jak ciasto upieczone przy użyciu przepisu, który jest zawarty w klasie.\n",
    "\n",
    "\n",
    "Kluczowe znaczenie może także mieć informacja, czy obiekt ma (lub nie ma) określone cechy. Innymi słowy, czy jest obiektem określonej klasy, czy nie.\n",
    "\n",
    "Taki fakt mógłby zostać wykryty przez funkcję o nazwie isinstance():\n",
    "\n",
    "### isinstance(objectNazwa, ClassNazwa)\n",
    "\n",
    "\n",
    "Funkcja zwraca True jeśli obiekt jest instancją klasy, a jeśli nie jest, zwraca False.\n",
    "\n",
    "Bycie instancją klasy oznacza, że obiekt (ciasto) zostało przygotowane przy użyciu przepisu zawartego w klasie lub jednej z nadklas.\n",
    "\n",
    "\n",
    "! Nie zapominaj: jeśli podklasa zawiera co najmniej takie same elementy, jak każda z jej nadklas, oznacza to, że obiekty podklasy mogą robić to samo, co obiekty pochodzące z nadklasy, zatem jest to instancja swojej klasy macierzystej i dowolnej jej nadklasy."
   ]
  },
  {
   "cell_type": "code",
   "execution_count": null,
   "metadata": {},
   "outputs": [],
   "source": [
    "class Pojazdy: \n",
    "    pass \n",
    "\n",
    "\n",
    "class PojazdyLadowe(Pojazdy): \n",
    "    pass \n",
    "\n",
    "\n",
    "class PojazdyGasienicowe(PojazdyLadowe): \n",
    "    pass\n",
    "    \n",
    "\n",
    "moj_pojazd = Pojazdy()\n",
    "moj_pojazd_ladowy = PojazdyLadowe()\n",
    "moj_pojazd_gasienicowy = PojazdyGasienicowe()\n",
    "\n",
    "for obj in [moj_pojazd, moj_pojazd_ladowy, moj_pojazd_gasienicowy]: \n",
    "    for cls in [Pojazdy, PojazdyLadowe, PojazdyGasienicowe]: \n",
    "        print(isinstance(obj, cls), end=\"\\t\") \n",
    "    print() \n"
   ]
  },
  {
   "cell_type": "markdown",
   "metadata": {},
   "source": [
    "Istnieje również operator języka Python, o którym warto wspomnieć, ponieważ odnosi się bezpośrednio do obiektów - oto on:\n",
    "\n",
    "### ob_1 \n",
    "### is ob_2\n",
    "\n",
    "Operator is sprawdza, czy dwie zmienne (tutaj ob_1 i ob_2) odnoszą się do tego samego obiektu.\n",
    "\n",
    "Nie zapominaj, że zmienne nie przechowują samych obiektów, ale jedynie uchwyty wskazujące na wewnętrzną pamięć języka Python.\n",
    "\n"
   ]
  },
  {
   "cell_type": "code",
   "execution_count": null,
   "metadata": {},
   "outputs": [],
   "source": [
    "class PrzykladowaKlasa: \n",
    "    def __init__(self, wartosc): \n",
    "        self.wartosc = wartosc\n",
    "\n",
    "\n",
    "ob_1 = PrzykladowaKlasa(0) \n",
    "ob_2 = PrzykladowaKlasa(2) \n",
    "ob_3 = ob_1 \n",
    "ob_3.wartosc += 1\n",
    "\n",
    "print(ob_1 is ob_2) \n",
    "print(ob_2 is ob_3) \n",
    "print(ob_3 is ob_1) \n",
    "print(ob_1.wartosc, ob_2.wartosc, ob_3.wartosc) \n",
    "\n",
    "str_1 = \"Ala ma \" \n",
    "str_2 = \"Ala ma kota\" \n",
    "str_1 += \"kota\" \n",
    "\n",
    "print(str_1 == str_2, str_1 is str_2) \n"
   ]
  },
  {
   "cell_type": "markdown",
   "metadata": {},
   "source": [
    "Spójrz na kod w edytorze. Przeanalizujmy go:\n",
    "\n",
    "- istnieje bardzo prosta klasa wyposażona w prosty konstruktor, tworzący tylko jedną właściwość. Ta klasa służy do tworzenia instancji dwóch obiektów. Ten pierwszy jest następnie przypisywany do innej zmiennej, a jego właściwość wartosc jest zwiększana o jeden.\n",
    "- następnie operator is jest stosowany trzykrotnie w celu sprawdzenia wszystkich możliwych par obiektów, a wszystkie wartości właściwości wartosc również są wyświetlane.\n",
    "- ostatnia część kodu wykonuje kolejny eksperyment. Po trzech przypisaniach oba łańcuchy zawierają te same teksty, ale te teksty są przechowywane w różnych obiektach."
   ]
  },
  {
   "cell_type": "markdown",
   "metadata": {},
   "source": [
    "istnieje klasa o nazwie Super, która definiuje własny konstruktor służący do przypisania właściwości obiektu, o nazwie imie.\n",
    "klasa definiuje również metodę __str__(), dzięki czemu klasa jest w stanie przedstawić swoją tożsamość w przejrzystej formie tekstu.\n",
    "klasa jest następnie używana jako baza do stworzenia podklasy o nazwieSub. KlasaSub definiuje własny konstruktor, który wywołuje konstruktor z nadklasy. Zwróć uwagę, jak to zrobiliśmy: Super.__init__(self, imie).\n",
    "wyraźnie nazwaliśmy nadklasę i wskazaliśmy metodę wywołania __init__(), podając wszystkie potrzebne argumenty.\n",
    "stworzyliśmy instancję jednego obiektu klasy Sub i wyświetliliśmy go.\n"
   ]
  },
  {
   "cell_type": "code",
   "execution_count": null,
   "metadata": {},
   "outputs": [],
   "source": [
    "class Super: \n",
    "    def __init__(self, imie): \n",
    "        self.imie = imie \n",
    "\n",
    "    def __str__(self): \n",
    "        return \"Moje imie to \" + self.imie + \".\" \n",
    "\n",
    "\n",
    "class Sub(Super): \n",
    "    def __init__(self, imie): \n",
    "        Super.__init__(self, imie) \n",
    "\n",
    "\n",
    "obj = Sub(\"Adam\") \n",
    "\n",
    "\n",
    "print(obj) \n"
   ]
  },
  {
   "cell_type": "markdown",
   "metadata": {},
   "source": [
    "Uwaga: Ponieważ nie ma metody __str__() w klasie Sub, wyświetlony łańcuch ma zostać stworzony w klasie Super. Oznacza to, że metoda __str__() została odziedziczona przez klasę Sub."
   ]
  },
  {
   "cell_type": "markdown",
   "metadata": {},
   "source": [
    "W ostatnim przykładzie wyraźnie nazwaliśmy nadklasę. W tym przykładzie korzystamy z funkcji super(), która uzyskuje dostęp do nadklasy bez konieczności znajomości jej nazwy:\n",
    "\n",
    "super().__init__(name)"
   ]
  },
  {
   "cell_type": "code",
   "execution_count": null,
   "metadata": {},
   "outputs": [],
   "source": [
    "class Super: \n",
    "    def __init__(self, imie): \n",
    "        self.imie = imie \n",
    "\n",
    "    def __str__(self): \n",
    "        return \"Moje imie \" + self.imie + \".\" \n",
    "\n",
    "\n",
    "class Sub(Super): \n",
    "    def __init__(self, imie): \n",
    "        super().__init__(imie) \n",
    "\n",
    "\n",
    "obj = Sub(\"Adam\") \n",
    "\n",
    "\n",
    "\n",
    "print(obj) \n"
   ]
  },
  {
   "cell_type": "markdown",
   "metadata": {},
   "source": [
    "Funkcja super() tworzy kontekst, w którym nie musisz (co więcej nie wolno ci) przekazywać argumentu self do wywoływanej metody - dlatego możliwe jest aktywowanie konstruktora nadklasy używając tylko jednego argumentu.\n",
    "\n",
    "\n",
    "!!!Uwaga: możesz użyć tego mechanizmu nie tylko do wywołania konstruktora nadklasy, ale także do uzyskania dostępu do dowolnego zasobu dostępnego w nadklasie.\n",
    "\n",
    "Spróbujmy zrobić coś podobnego, ale z właściwościami (dokładniej: ze __zmiennymi klasy__)."
   ]
  },
  {
   "cell_type": "code",
   "execution_count": null,
   "metadata": {},
   "outputs": [],
   "source": [
    "# Testowanie wlasciwosci: zmienne klasy\n",
    "class Super: \n",
    "    zmiennaSup = 1 \n",
    "\n",
    "\n",
    "class Sub(Super): \n",
    "    zmiennaSub = 2 \n",
    "\n",
    "\n",
    "obj = Sub() \n",
    "\n",
    "print(obj.zmiennaSub) \n",
    "print(obj.zmiennaSup) \n"
   ]
  },
  {
   "cell_type": "markdown",
   "metadata": {},
   "source": [
    "Jak widać, klasa Super definiuje jedną zmienną klasy o nazwie supVar, a klasa Sub definiuje zmienną o nazwie subVar.\n",
    "\n",
    "Obie te zmienne są widoczne wewnątrz obiektu klasy Sub -"
   ]
  },
  {
   "cell_type": "markdown",
   "metadata": {},
   "source": [
    "Ten sam efekt można zaobserwować w przypadku zmiennych __instancji__ - spójrz na drugi przykład w edytorze."
   ]
  },
  {
   "cell_type": "code",
   "execution_count": null,
   "metadata": {},
   "outputs": [],
   "source": [
    "# Testowanie wlasciwosci: zmienne instancji\n",
    "class Super: \n",
    "    def __init__(self): \n",
    "        self.zmiennaSup = 11 \n",
    "\n",
    "\n",
    "class Sub(Super): \n",
    "    def __init__(self): \n",
    "        super().__init__() \n",
    "        self.zmiennaSub = 12 \n",
    "\n",
    "\n",
    "obj = Sub() \n",
    "\n",
    "print(obj.zmiennaSub) \n",
    "print(obj.zmiennaSup) \n"
   ]
  },
  {
   "cell_type": "markdown",
   "metadata": {},
   "source": [
    "!! Uwaga: istnienie zmiennej zmiennaSup jest oczywiście zależne od wywołania konstruktora klasy Super. Pominięcie go spowodowałoby brak zmiennej w utworzonym obiekcie (spróbuj sam)."
   ]
  },
  {
   "cell_type": "markdown",
   "metadata": {},
   "source": [
    "_____________________________________\n",
    "\n",
    "Przy próbie dostępu do bytu dowolnego obiektu, język Python spróbuje (w tej kolejności):\n",
    "\n",
    "- znaleźć go wewnątrz samego obiektu;\n",
    "- znaleźć go we wszystkich klasach związanych z linią dziedziczenia obiektu od dołu do góry;\n",
    "\n",
    "Jeśli oba powyższe kroki się nie powiodą, zgłoszony zostanie wyjątek (AttributeError)."
   ]
  },
  {
   "cell_type": "code",
   "execution_count": null,
   "metadata": {},
   "outputs": [],
   "source": [
    "class Poziom1: \n",
    "    zmienna_1 = 100 \n",
    "    def __init__(self): \n",
    "        self.zm_1 = 101 \n",
    "\n",
    "    def fun_1(self): \n",
    "        return 102\n",
    "    \n",
    "    \n",
    "class Poziom2(Poziom1): \n",
    "    zmienna_2 = 200 \n",
    "    def __init__(self): \n",
    "        super().__init__() \n",
    "        self.zm_2 = 201 \n",
    "\n",
    "    def fun_2(self): \n",
    "        return 202\n",
    "\n",
    "\n",
    "class Poziom3(Poziom2): \n",
    "    zmienna_3 = 300 \n",
    "    def __init__(self): \n",
    "        super().__init__() \n",
    "        self.zm_3 = 301 \n",
    "\n",
    "    def fun_3(self): \n",
    "        return 302 \n",
    "      \n",
    "     \n",
    "obj = Poziom3() \n",
    "\n",
    "print(obj.zmienna_1, obj.zm_1, obj.fun_1()) \n",
    "print(obj.zmienna_2, obj.zm_2, obj.fun_2()) \n",
    "print(obj.zmienna_3, obj.zm_3, obj.fun_3()) \n"
   ]
  },
  {
   "cell_type": "markdown",
   "metadata": {},
   "source": [
    "Pierwszy warunek może wymagać dodatkowej uwagi. Jak wiesz, wszystkie obiekty pochodzące z konkretnej klasy mogą mieć różne zestawy atrybutów, a niektóre atrybuty mogą być dodawane do obiektu jeszcze długo po utworzeniu takiego obiektu.\n",
    "\n",
    "Przykład w edytorze podsumowuje to w __trzypoziomowej.linii.dziedziczenia__. Dokładnie ją przeanalizuj:\n",
    "\n",
    "Wszystkie komentarze, które poczyniliśmy do tej pory, odnoszą się do __dziedziczenia.pojedynczego__, gdy podklasa ma dokładnie jedną nadklasę. Jest to najczęstsza sytuacja (i również zalecana).\n",
    "\n",
    "Jednak język Python oferuje w tym obszarze znacznie więcej. Podczs kolejnych lekcji pokażemy ci kilka przykładów __dziedziczenia.wielokrotnego__.\n",
    "\n",
    "Wielokrotne dziedziczenie występuje, gdy klasa ma więcej niż jedną nadklasę.\n",
    "\n"
   ]
  },
  {
   "cell_type": "code",
   "execution_count": null,
   "metadata": {},
   "outputs": [],
   "source": [
    "class SuperA:\n",
    "    zm_A = 10\n",
    "    def fun_A(self):\n",
    "        return 11\n",
    "\t\t\n",
    "\n",
    "class SuperB:\n",
    "    zm_B = 20\n",
    "    def fun_B(self):\n",
    "        return 21\n",
    "\n",
    "\n",
    "class Sub(SuperA, SuperB):\n",
    "    pass\n",
    "\n",
    "\n",
    "obj = Sub()\n",
    "\n",
    "print(obj)\n",
    "\n",
    "print(obj.zm_A, obj.fun_A())\n",
    "print(obj.zm_B, obj.fun_B())\n"
   ]
  },
  {
   "cell_type": "markdown",
   "metadata": {},
   "source": [
    "Klasa Sub ma dwie nadklasy: SuperA i SuperB. Oznacza to, że klasa Sub dziedziczy wszystkie dobra oferowane przez SuperA i SuperB.\n"
   ]
  },
  {
   "cell_type": "markdown",
   "metadata": {},
   "source": [
    "### Nadpisywanie"
   ]
  },
  {
   "cell_type": "code",
   "execution_count": null,
   "metadata": {},
   "outputs": [],
   "source": [
    "class Poziom1:\n",
    "    zm = 100\n",
    "    def fun(self):\n",
    "        return 101\n",
    "\n",
    "\n",
    "class Poziom2:\n",
    "    zm = 200\n",
    "    def fun(self):\n",
    "        return 201\n",
    "\n",
    "\n",
    "class Poziom3(Poziom2):\n",
    "    pass\n",
    "\n",
    "\n",
    "obj = Poziom3()\n",
    "\n",
    "print(obj.zm, obj.fun())\n"
   ]
  },
  {
   "cell_type": "markdown",
   "metadata": {},
   "source": [
    "Obie klasy Poziom1 i Poziom2 definiują metodę o nazwie fun() i właściwość o nazwie zm. Czy to oznacza, że obiekt klasy Poziom3 będzie miał dostęp do dwóch kopii każdego bytu? Otóż nie.\n",
    "\n",
    "Byt zdefiniowany później (w znaczeniu dziedziczenia) nadpisuje ten sam zdefiniowany wcześniej byt. Dlatego kod generuje następujący wynik."
   ]
  },
  {
   "cell_type": "code",
   "execution_count": null,
   "metadata": {},
   "outputs": [],
   "source": [
    "class Lewa: \n",
    "    zm = \"L\" \n",
    "    zm_lewa = \"LL\" \n",
    "    def fun(self): \n",
    "        return \"Lewa\" \n",
    "\n",
    "\n",
    "class Prawa: \n",
    "    zm = \"P\" \n",
    "    zm_prawa = \"PP\" \n",
    "    def fun(self): \n",
    "        return \"Prawa\" \n",
    "\n",
    "\n",
    "class Sub(Lewa, Prawa): \n",
    "    pass \n",
    "\n",
    "\n",
    "obj = Sub() \n",
    "\n",
    "print(obj.zm, obj.zm_lewa, obj.zm_prawa, obj.fun()) \n"
   ]
  },
  {
   "cell_type": "markdown",
   "metadata": {},
   "source": [
    "To jest jasne. Ale skąd się bierze zm? Czy można to zgadnąć? Ten sam problem występuje w przypadku metody fun() - czy zostanie wywołany z Lewa czy z Prawa? \n",
    "\n",
    "wniosek\n",
    "\n",
    "Możemy powiedzieć, że język Python szuka składników obiektu w następującej kolejności:\n",
    "\n",
    "- wewnątrz samego obiektu;\n",
    "- w swoich nadklasach, od dołu do góry;\n",
    "- jeśli istnieje więcej niż jedna klasa na określonej ścieżce dziedziczenia, język Python skanuje je od lewej do prawej.\n",
    "\n",
    "zamień: class Sub(Lewa, Prawa): na: class Sub(Prawa, Lewa): wynik sie zmieni"
   ]
  },
  {
   "cell_type": "markdown",
   "metadata": {},
   "source": [
    "### hierarchia klas"
   ]
  },
  {
   "cell_type": "code",
   "execution_count": null,
   "metadata": {},
   "outputs": [],
   "source": [
    "class Jeden:\n",
    "    def zrob_to(self):\n",
    "        print(\"zrob_to od Jeden\")\n",
    "\n",
    "    def zrobcokolwiek(self):\n",
    "        self.zrob_to()\n",
    "\n",
    "\n",
    "class Dwa(Jeden):\n",
    "    def zrob_to(self):\n",
    "        print(\"zrob_to od Dwa\")\n",
    "\n",
    "\n",
    "jeden = Jeden()\n",
    "dwa = Dwa()\n",
    "\n",
    "jeden.zrobcokolwiek()\n",
    "dwa.zrobcokolwiek()"
   ]
  },
  {
   "cell_type": "markdown",
   "metadata": {},
   "source": [
    "Spójrz na przykład w edytorze. Przeanalizujmy go:\n",
    "\n",
    "- istnieją dwie klasy o nazwach Jeden i Dwa, a Dwa pochodzi od Jeden. Nic specjalnego. Jednak jedna rzecz wygląda niesamowicie - metoda zrob_to().\n",
    "- Metoda zrob_to() jest zdefiniowana dwukrotnie: po raz pierwszy wewnątrz Jeden, a następnie wewnątrz Dwa. Istota tego przykładu polega na tym, że jest on wywołany tylko raz - wewnątrz Jeden.\n",
    "\n",
    "Druga inwokacja wymaga trochę uwagi. To proste, jeśli pamiętasz, w jaki sposób język Python znajduje komponenty klas. Drugie wywołanie uruchomi zrob_to() w postaci istniejącej wewnątrz klasy Dwa, niezależnie od tego, że wywołanie odbywa się wewnątrz klasy Jeden.\n",
    "\n",
    "\n",
    "!!!!!!\n",
    "Uwaga: sytuacja, w której podklasa jest w stanie zmodyfikować zachowanie swej nadklasy (tak jak w przykładzie) nazywa się \n",
    "### polimorfizmem. \n",
    "Słowo pochodzi z języka greckiego (polys: \"wiele\" i morphe, \"tworzyć, kształtować\"), co oznacza, że jedna i ta sama klasa może przybierać różne formy w zależności od redefinicji dokonywanych przez którąkolwiek z jej podklas.\n",
    "\n",
    "Metoda, która została zredefiniowana na nowo w dowolnej z nadklas, zmieniając w ten sposób zachowanie nadklasy, nazywa się __wirtualna__.\n",
    "\n",
    "\n",
    "Innymi słowy, żadna klasa nie jest dana raz na zawsze. Zachowanie każdej klasy może być w dowolnym momencie modyfikowane przez każdą z jej podklas.\n",
    "\n"
   ]
  },
  {
   "cell_type": "code",
   "execution_count": null,
   "metadata": {},
   "outputs": [],
   "source": [
    "import time\n",
    "\n",
    "class PojazdyGasienicowe:\n",
    "    def kontrola_gasienic(lewa, stop):\n",
    "        pass\n",
    "\n",
    "    def skret(lewa):\n",
    "        kontrola_gasienic(lewa, True)\n",
    "        time.sleep(0.25)\n",
    "        kontrola_gasienic(lewa, False)\n",
    "\n",
    "\n",
    "class PojazdyKolowe:\n",
    "    def skrec_przednie_kola(lewa, wlacz):\n",
    "        pass\n",
    "\n",
    "    def skret(lewa):\n",
    "        skrec_przednie_kola(lewa, True)\n",
    "        time.sleep(0.25)\n",
    "        skrec_przednie_kola(lewa, False)\n"
   ]
  },
  {
   "cell_type": "markdown",
   "metadata": {},
   "source": [
    "Widzisz co jest nie tak z kodem?\n",
    "\n",
    "Metody skret() są zbyt podobne, aby pozostawić je w tej formie.\n",
    "\n",
    "Przebudujmy kod - zamierzamy wprowadzić nadklasę, aby zebrać wszystkie podobne aspekty pojazdów jeżdżących, przenosząc wszystkie szczegóły do podklas."
   ]
  },
  {
   "cell_type": "markdown",
   "metadata": {},
   "source": [
    "- zdefiniowaliśmy nadklasę o nazwie Pojazdy, która używa metody skret() do wprowadzenia ogólnego schematu skręcania, podczas gdy samo skręcanie odbywa się za pomocą metody o nazwie zmien_kierunek(); uwaga: pierwsza metoda jest pusta, ponieważ wszystkie szczegóły zostaną umieszczone w podklasie (taka metoda jest często nazywana __metodą.abstrakcyjną__, ponieważ demonstruje tylko pewną możliwość, która zostanie później wyrażona instancją)\n",
    "- zdefiniowaliśmy podklasę o nazwie PojazdyGasienicowe (uwaga: pochodzi ona z klasy Pojazdy), która tworzy instancję metody zmien_kierunek(), używając specyficznej (konkretnej) metody o nazwie kontrola_gasienic()\n",
    "- odpowiednio, podklasa o nazwie PojazdyKolowe robi tę samą sztuczkę, ale używa metody skrecprzednimikolami(), aby wymusić obrót pojazdu.\n",
    "Najważniejszą zaletą (pomijając kwestie związane z czytelnością) jest to, że ta forma kodu umożliwia implementację zupełnie nowego algorytmu skrętu jedynie poprzez modyfikację metody skret(), która może być wykonana tylko w jednym miejscu, ponieważ wszystkie pojazdy będą jej posłuszne.\n",
    "\n",
    "W ten sposób polimorfizm pomaga programiście zachować przejrzystość i spójność kodu."
   ]
  },
  {
   "cell_type": "code",
   "execution_count": null,
   "metadata": {},
   "outputs": [],
   "source": [
    "import time \n",
    "\n",
    "class Pojazdy: \n",
    "    def zmien_kierunek(lewa, wlacz): \n",
    "        pass \n",
    "\n",
    "    def skret(lewa): \n",
    "        zmien_kierunek(lewa, True) \n",
    "        time.sleep(0.25) \n",
    "        zmien_kierunek(lewa, False) \n",
    "\n",
    "\n",
    "class PojazdyGasienicowe(Pojazdy): \n",
    "    def kontrola_gasienic(lewa, stop): \n",
    "        pass \n",
    "\n",
    "    def zmien_kierunek(lewa, wlacz): \n",
    "      kontrola_gasienic(lewa, wlacz) \n",
    "\n",
    "\n",
    "class PojazdyKolowe(Pojazdy): \n",
    "    def skretprzednimikolami(lewa, wlacz): \n",
    "        pass \n",
    "\n",
    "    def zmien_kierunek(lewa, wlacz): \n",
    "        skrecprzednimikolami(lewa, wlacz) \n"
   ]
  },
  {
   "cell_type": "markdown",
   "metadata": {},
   "source": [
    "Dziedziczenie to nie jedyny sposób na tworzenie adaptowalnych klas. Możesz osiągnąć te same cele (nie zawsze, ale bardzo często), stosując technikę o nazwie\n",
    "## kompozycja.\n",
    "\n",
    "Kompozycja to proces komponowania obiektu przy użyciu różnych innych obiektów\n",
    " Obiekty użyte w kompozycji dostarczają zestaw pożądanych cech (właściwości i/lub metody), więc możemy powiedzieć, że zachowują się jak bloki użyte do zbudowania bardziej skomplikowanej struktury.\n",
    "\n",
    "Można powiedzieć, że:\n",
    "\n",
    "- dziedziczenie poszerza możliwości klasy przez dodanie nowych komponentów i modyfikację tych już istniejących; innymi słowy, pełna receptura zawarta jest w samej klasie i wszystkich jej przodkach; obiekt zabiera wszystkie rzeczy należące do klasy i wykorzystuje je;\n",
    "- kompozycja przedstawia klasę jako kontener zdolny przechowywać i wykorzystywać inne obiekty (pochodzące z innych klas), z których każdy implementuje część pożądanego zachowania klasy.\n"
   ]
  },
  {
   "cell_type": "code",
   "execution_count": null,
   "metadata": {},
   "outputs": [],
   "source": [
    "import time \n",
    "\n",
    "class Gasienicowe: \n",
    "    def zmien_kierunek(self, lewa, wlacz): \n",
    "        print(\"gasienice: \", lewa, wlacz) \n",
    "\n",
    "\n",
    "class Kolowe: \n",
    "    def zmien_kierunek(self, lewa, wlacz): \n",
    "        print(\"kola: \", lewa, wlacz) \n",
    "\n",
    "\n",
    "class Pojazdy: \n",
    "    def __init__(self, kontroler): \n",
    "        self.kontroler = kontroler \n",
    "\n",
    "    def skret(self, lewa): \n",
    "        self.kontroler.zmien_kierunek(lewa, True) \n",
    "        time.sleep(0.25) \n",
    "        self.kontroler.zmien_kierunek(lewa, False) \n",
    "\n",
    "\n",
    "kolowe = Pojazdy(Kolowe()) \n",
    "gasienicowe = Pojazdy(Gasienicowe()) \n",
    "\n",
    "kolowe.skret(True) \n",
    "gasienicowe.skret(False) \n"
   ]
  },
  {
   "cell_type": "markdown",
   "metadata": {},
   "source": [
    "Zilustrujmy różnicę, używając wcześniej zdefiniowanych pojazdów. Poprzednie podejście doprowadziło nas do hierarchii klas, w której najwyższa klasa była świadoma ogólnych zasad stosowanych podczas skrętu pojazdu, ale nie wiedziała, jak kontrolować odpowiednie komponenty (koła lub gąsienice).\n",
    "\n",
    "Podklasy implementowały tę umiejętność, wprowadzając specjalistyczne mechanizmy. Zróbmy (prawie) to samo, ale używając kompozycji. Klasa - podobnie jak w poprzednim przykładzie - jest świadoma, jak obrócić pojazd, ale faktyczny skręt jest wykonywany przez wyspecjalizowany obiekt przechowywany we właściwości o nazwie kontroler. Kontroler może sterować pojazdem, manipulując odpowiednimi jego częściami.\n",
    "\n",
    "Zajrzyj do edytora - może to wyglądać tak.\n",
    "\n",
    "Istnieją dwie klasy o nazwach Gasienice i Kola - wiedzą one, jak kontrolować kierunek jazdy. Istnieje również klasa o nazwie Pojazdy, która może używać dowolnego z dostępnych kontrolerów (dwóch już zdefiniowanych lub dowolnych innych zdefiniowanych w przyszłości) - sam kontroler jest przekazywany do klasy podczas inicjalizacji.\n",
    "\n",
    "W ten sposób zdolność skrętu pojazdu jest tworzona za pomocą zewnętrznego obiektu, a nie zaimplementowana w klasie Pojazdy.\n",
    "\n",
    "Innymi słowy, mamy uniwersalny pojazd i możemy zamontować na nim gąsienice lub koła.s"
   ]
  },
  {
   "cell_type": "markdown",
   "metadata": {},
   "source": [
    "- pojedyncza klasa dziedziczenia jest zawsze prostsza, bezpieczniejsza i łatwiejsza do zrozumienia i utrzymania;\n",
    "\n",
    "- dziedziczenie wielokrotne jest zawsze ryzykowne, ponieważ masz dużo więcej możliwości popełnienia błędu w identyfikowaniu tych części nadklas, które skutecznie wpłyną na nową klasę;\n",
    "\n",
    "- dziedziczenie wielokrotne może sprawić, że nadpisywanie będzie niezwykle trudne; co więcej, użycie funkcji super() staje się niejednoznaczne;\n",
    "\n",
    "\n",
    "- dziedziczenie wielokrotne narusza zasadę pojedynczej odpowiedzialności (więcej szczegółów tutaj: https://en.wikipedia.org/wiki/Single_responsibility_principle), ponieważ tworzy nową klasę dwóch (lub więcej) klas, które nic o sobie nie wiedzą;\n",
    "\n",
    "- Zdecydowanie zalecamy dziedziczenie wielokrotne jako ostatnie ze wszystkich możliwych rozwiązań - jeśli naprawdę potrzebujesz wielu różnych funkcjonalności oferowanych przez różne klasy, kompozycja może być lepszą alternatywą.\n"
   ]
  },
  {
   "cell_type": "markdown",
   "metadata": {},
   "source": [
    "Funkcja bez parametrów o nazwie super() zwraca odniesienie do najbliższej nadklasy klasy. Na przykład:\n",
    "\n",
    "class Mouse:\n",
    "    def __str__(self):\n",
    "        return \"Mouse\"\n",
    "\n",
    "\n",
    "class LabMouse(Mouse):\n",
    "    def __str__(self):\n",
    "        return \"Laboratory \" + super().__str__()\n",
    "\n",
    "\n",
    "doctor_mouse = LabMouse();\n",
    "print(doctor_mouse)  # Prints \"Laboratory Mouse\".\n"
   ]
  },
  {
   "cell_type": "markdown",
   "metadata": {},
   "source": [
    "zadanka\n",
    "\n",
    "\n",
    "\n",
    "\n",
    "Ćwiczenie 1\n",
    "\n",
    "Jaki jest oczekiwany wynik następującego fragmentu kodu?\n",
    "\n",
    "print(rocky)\n",
    "print(luna)\n",
    "\n",
    "Sprawdź\n",
    "Collie mówi: Hau! Nie uciekaj, mała owieczko!\n",
    "Dobermann mówi: Hau! Zostań tam, gdzie jesteś, panie intruzie!\n",
    "\n",
    "\n",
    "\n",
    "Ćwiczenie 2\n",
    "\n",
    "Jaki jest oczekiwany wynik następującego fragmentu kodu?\n",
    "\n",
    "print(issubclass(PiesPasterski, Pies), issubclass(PiesPasterski, PiesObronny))\n",
    "print(isinstance(rocky, PiesObronny), isinstance(luna, PiesObronny))\n",
    "\n",
    "Sprawdź\n",
    "True False\n",
    "False True\n",
    "\n",
    "\n",
    "\n",
    "Ćwiczenie 3\n",
    "\n",
    "Jaki jest oczekiwany wynik następującego fragmentu kodu?\n",
    "\n",
    "print(luna is luna, rocky is luna)\n",
    "print(rocky.buda)\n",
    "\n",
    "Sprawdź\n",
    "True False\n",
    "2\n",
    "\n",
    "\n",
    "\n",
    "Ćwiczenie 4\n",
    "\n",
    "Zdefiniuj podklasę PiesPasterski o nazwie PiesNizinny i wyposaż ją w metodę __str__() przesłaniającą dziedziczoną metodę o tej samej nazwie. Nowa metoda Pies __str__() powinna zwrócić ciąg „Hau! Nie lubię gór!” .\n",
    "\n",
    "Sprawdź\n",
    "class PiesNizinny(PiesPasterski):\n",
    "\tdef __str__(self):\n",
    "\t\treturn Pies.__str__(self) + \" Nie lubię gór!\"\n",
    "\t\t"
   ]
  },
  {
   "cell_type": "code",
   "execution_count": null,
   "metadata": {},
   "outputs": [],
   "source": [
    "class Pies:\n",
    "    buda = 0\n",
    "    def __init__(self, rasa):\n",
    "        self.rasa = rasa\n",
    "        Pies.buda += 1\n",
    "    def __str__(self):\n",
    "        return self.rasa + \" says: Woof!\"\n",
    "\n",
    "\n",
    "class PiesPasterski(Pies):\n",
    "    def __str__(self):\n",
    "        return super().__str__() + \" Nie uciekaj, mała owieczko!\"\n",
    "\n",
    "\n",
    "class PiesObronny(Pies):\n",
    "    def __str__(self):\n",
    "        return super().__str__() + \" Zostań tam, gdzie jesteś, panie intruzie!\"\n",
    "\n",
    "\n",
    "rocky = PiesPasterski(\"Collie\")\n",
    "luna = PiesObronny(\"Dobermann\")\n",
    "\n"
   ]
  },
  {
   "cell_type": "markdown",
   "metadata": {},
   "source": [
    "### wiecej o wyjatkach"
   ]
  },
  {
   "cell_type": "markdown",
   "metadata": {},
   "source": [
    "Blok try-except można też rozszerzyć w jeszcze jeden sposób - poprzez dodanie części zapoczątkowanej słowem kluczowym finally (musi to być ostatnia gałąź kodu oddelegowana w celu obsługi wyjątków)."
   ]
  },
  {
   "cell_type": "code",
   "execution_count": 1,
   "metadata": {},
   "outputs": [
    {
     "name": "stdout",
     "output_type": "stream",
     "text": [
      "invalid literal for int() with base 10: 'Halo!'\n",
      "invalid literal for int() with base 10: 'Halo!'\n"
     ]
    }
   ],
   "source": [
    "try:\n",
    "    i = int(\"Halo!\")\n",
    "except Exception as e:\n",
    "    print(e)\n",
    "    print(e.__str__())\n"
   ]
  },
  {
   "cell_type": "markdown",
   "metadata": {},
   "source": [
    "Jak widzisz klauzula except została rozszerzona i zwiera dodatkową frazę rozpoczynającą się od słowa kluczowego as po którym następuje identyfikator. Jego zadaniem jest przechwycenie obiektu wyjątku tak, by można było przeanalizować jego charakter i wysnuć właściwe konkluzje.\n",
    "\n",
    "Uwaga: zakres identyfikatora pokrywa gałąź except ale nie sięga poza nią.\n",
    "\n",
    " (jak widzisz, produkt jest wynikiem działania metody __str__() obiekty) i zawiera krótką wiadomość opisująca powód."
   ]
  },
  {
   "cell_type": "code",
   "execution_count": null,
   "metadata": {},
   "outputs": [],
   "source": [
    "def wyswietl_drzewko(klasa, zagniezdzenie = 0):\n",
    "    if zagniezdzenie > 1:\n",
    "        print(\"   |\" * (zagniezdzenie - 1), end=\"\")\n",
    "    if zagniezdzenie > 0:\n",
    "        print(\"   +---\", end=\"\")\n",
    "\n",
    "    print(klasa.__name__)\n",
    "\n",
    "    for podklasa in klasa.__subclasses__():\n",
    "        wyswietl_drzewko(podklasa, zagniezdzenie +1)\n",
    "\n",
    "\n",
    "wyswietl_drzewko(BaseException,3)"
   ]
  },
  {
   "cell_type": "markdown",
   "metadata": {},
   "source": [
    "Ponieważ drzewko jest idealnym przykładem __rekurencyjnej.struktury__, rekurencja zdaje się najlepszym narzędziem, żeby przejść przez drzewko. Funkcja wyswietl_drzewko() przyjmuje dwa argumenty:\n",
    "- punkt wewnątrz drzewka, od którego należy rozpocząć jego przeszukiwanie;\n",
    "- poziom zagnieżdżenia (wykorzystamy go do uproszczonego rysunku gałęzi drzewka)\n",
    "\n",
    "Zacznijmy od korzenia - korzeniem klasy wyjątków języka Python jest klasa BaseException (to klasa, z której czerpią wszystkie inne wyjątki).\n",
    "\n",
    "Dla każdej napotkanej klasy wykonaj te same operacje:\n",
    "\n",
    "wyświetl nazwę, wziętą z właściwości __name__;\n",
    "iteruj przez listę podklas dostarczonych przez metodę __subclasses__() oraz wywołaj rekurencyjnie funkcję wyswietl_drzewko(), zwiększ odpowiednio poziom zagnieżdżenia.\n",
    "Zauważ jak narysowaliśmy gałęzie i rozwidlenia. Informacje zwrotne nie są w żaden sposób posortowane - sam możesz podjąć się próby sortowania, jeśli masz ochotę zmierzyć się z wyzwaniem. Ponadto, występują.pewne drobne nieścisłość jeśli chodzi o to, jak zaprezentowano pewne gałęzie. To też można naprawić, jeśli chcesz"
   ]
  },
  {
   "cell_type": "markdown",
   "metadata": {},
   "source": [
    "\n",
    "\n",
    "kart francuza 17 18 21 22 26\n",
    "6 cw sformuwania z bezokolicznikami jesc cos ram gdzies tam np\n",
    " bezokoliczniki i slowka\n",
    " nowy nauczyciel frranc\n",
    " jesc w restauracji itp"
   ]
  },
  {
   "cell_type": "markdown",
   "metadata": {},
   "source": [
    "## Anatomia wyjątkow\n",
    "\n",
    "Przyjrzyjmy się bliżej temu jak wygląda obiekt wyjątku, ponieważ znajdziemy tu naprawdę ciekawe elementy (niebawem powrócimy do tego zagadnienia, a będzie to przy okazji rozważań na temat podstawowych technik wejścia/wyjścia języka Python z uwagi na fakt, że ich system wyjątków nieco rozszerza te obiekty).\n",
    "\n",
    "Klasa BaseException wprowadza właściwość o nazwie args. \n",
    "- To krotka zaprojektowana, by zbierać argumenty przekazywane konstruktorowi. \n",
    "\n",
    "Jest ona pusta, jeśli konstruktor wywołano bez argumentów lub zawiera wyłącznie pojedynczy element, gdy konstruktorowi przekazano jeden argument (nie liczymy argumentu self) i tak dalej.\n",
    "\n",
    "Przygotowaliśmy prostą funkcję wyświetlającą właściwość args i to w całkiem elegancki sposób. Możesz ujrzeć tę funkcję w edytorze.\n",
    "\n",
    "\n",
    "Użyliśmy funkcji do wyświetlenia zawartości właściwości args w trzech różnych klasach, gdzie klasa Exception zostaje wywołana na trzy różne sposoby. Aby uczynić wszystko bardziej widowiskowym, wyświetliliśmy również obiekt razem z wynikiem wywołania __str__().\n",
    "\n",
    "Pierwszy przypadek wygląda rutynowo - mamy do czynienia jedynie z nazwą Exception umieszczoną po słowie kluczowym raise. Oznacza to, że obiekt tej klasy został utworzony w rutynowy sposób.\n",
    "\n",
    "Drugi i trzeci przypadek może wyglądać nieco dziwnie na pierwszy rzut oka, ale nie ma tam nic nadzwyczajnego - to jedynie wywołania konstruktora. W drugiej instrukcji raise, konstruktor zostaje wywołany z jednym argumentem, a w trzeciej instrukcji z dwoma.\n",
    "\n",
    "Jak widać, wynik programu to odzwierciedla i odpowiednio ukazuje zawartość właściwości args:"
   ]
  },
  {
   "cell_type": "code",
   "execution_count": null,
   "metadata": {},
   "outputs": [],
   "source": [
    "def print_args(args):\n",
    "    lng = len(args)\n",
    "    if lng == 0:\n",
    "        print(\"\")\n",
    "    elif lng == 1:\n",
    "        print(args[0])\n",
    "    else:\n",
    "        print(str(args))\n",
    "\n",
    "\n",
    "try:\n",
    "    raise Exception\n",
    "except Exception as e:\n",
    "    print(e, e.__str__(), sep=' : ' ,end=' : ')\n",
    "    print_args(e.args)\n",
    "\n",
    "try:\n",
    "    raise Exception(\"moj wyjatek\")\n",
    "except Exception as e:\n",
    "    print(e, e.__str__(), sep=' : ', end=' : ')\n",
    "    print_args(e.args)\n",
    "\n",
    "try:\n",
    "    raise Exception(\"moj\", \"wyjatek\")\n",
    "except Exception as e:\n",
    "    print(e, e.__str__(), sep=' : ', end=' : ')\n",
    "    print_args(e.args)\n"
   ]
  },
  {
   "cell_type": "markdown",
   "metadata": {},
   "source": [
    "### Jak stworzyć własny wyjątek\n",
    "\n",
    "Może się to okazać użyteczne jeśli tworzysz skomplikowane moduły, które wykrywają błędy i wywołują wyjątki, a ty chcesz, żeby wyjątki mogły być w prosty sposób odróżnione od pozostałych wyjątków występujących w języku Python.\n",
    "\n",
    "to\n",
    "Można tego dokonać definiując swoje własne, nowe wyjątki jako podklasy wywodzące się z predefiniowanych klas.\n",
    "\n",
    "!!!\n",
    "Uwaga: jeśli chcesz stworzyć wyjątek, który będzie wykorzystywany jako specjalistyczny przypadek wbudowanego wyjątku, wyprowadź go tylko z jednego. Jeśli chcesz zbudować swoją własną hierarchię i nie chcesz być zbyt sztywno powiązany z drzewem wyjątków języka Python, wyprowadź swoje wyjątki z którejkolwiek z nadrzędnych klas wyjątków takich jak Exception.\n",
    "\n",
    "- Zdefiniowaliśmy własny wyjątek o nazwie MojZeroDivisionError, wywodzący się z wbudowanego ZeroDivisionError. Jak widzisz, zdecydowaliśmy, że nie dodamy do niego nowych podkategorii klasy.\n",
    "W rezultacie, wyjątkiem tej klasy może być - w zależności od punktu widzenia - traktowany jak zwykły ZeroDivisionError lub rozważony oddzielnie.\n",
    "\n",
    "- Funkcja podziel() wywołuje albo wyjątek MojZeroDivisionError albo ZeroDivisionError w zależności od wartości argumentu.\n"
   ]
  },
  {
   "cell_type": "code",
   "execution_count": null,
   "metadata": {},
   "outputs": [],
   "source": [
    "class MojZeroDivisionError(ZeroDivisionError):\t\n",
    "\tpass\n",
    "\n",
    "\n",
    "def podziel(moje):\n",
    "\tif moje:\n",
    "\t\traise MojZeroDivisionError(\"fatalne wiesci\")\n",
    "\telse:\t\t\n",
    "\t\traise ZeroDivisionError(\"zle wiesci\")\n",
    "\n",
    "\n",
    "for tryb in [False, True]:\n",
    "\ttry:\n",
    "\t\tpodziel(tryb)\n",
    "\texcept ZeroDivisionError:\n",
    "\t\tprint(\"Dzielenie przez zero\")\n",
    "\n",
    "for tryb in [False, True]:\n",
    "\ttry:\n",
    "\t\tpodziel(tryb)\n",
    "\texcept MojZeroDivisionError:\n",
    "\t\tprint(\"Moje dzielenie przez zero\")\n",
    "\texcept ZeroDivisionError:\n",
    "\t\tprint(\"zwykle dzielenie przez zero\")\t"
   ]
  },
  {
   "cell_type": "markdown",
   "metadata": {},
   "source": [
    "\n",
    "Poprzednie rozwiązanie, choć eleganckie i wydajne, ma jedną istotną.słabość Z powodu prostoty deklaracji konstruktorów, owe wyjątki nie mogą być wykorzystane takimi jakie są, bez pełnej listy wymaganych argumentów.\n",
    "\n",
    "Pozbędziemy się tej słabości poprzez ustawienie wartości domyślnych dla wszystkich parametrów konstruktora. Spójrz na to:"
   ]
  },
  {
   "cell_type": "code",
   "execution_count": null,
   "metadata": {},
   "outputs": [],
   "source": [
    "class PizzaError(Exception):\n",
    "    def __init__(self, pizza = 'nieznana', wiadomosc=''):\n",
    "        Exception.__init__(self, wiadomosc)\n",
    "        self.pizza = pizza\n",
    "\n",
    "\n",
    "class ZaDuzoSeraError(PizzaError):\n",
    "    def __init__(self, pizza = 'nieznana', ser = '>100', wiadomosc=''):\n",
    "        PizzaError.__init__(self, pizza, wiadomosc)\n",
    "        self.ser = ser\n",
    "\n",
    "\n",
    "def zrobPizze(pizza, ser):\n",
    "\tif pizza not in ['margherita', 'capricciosa', 'calzone']:\n",
    "\t\traise PizzaError(pizza, \"brak wybranej pizzy w menu\")\n",
    "\tif ser > 100:\n",
    "\t\traise ZaDuzoSeraError(pizza, ser, \"za duzo sera\")\n",
    "\tprint(\"Pizza gotowa!\")\n",
    "\n",
    "for (pz, s) in [('calzone', 0), ('margherita', 110), ('mafia', 20)]:\n",
    "\ttry:\n",
    "\t\tzrobPizze(pz, s)\n",
    "\texcept ZaDuzoSeraError as tmce:\n",
    "\t\tprint(tmce, ':', tmce.ser)\n",
    "\texcept PizzaError as pe:\n",
    "\t\tprint(pe, ':', pe.pizza)\n"
   ]
  },
  {
   "cell_type": "markdown",
   "metadata": {},
   "source": [
    "### Generatory\n",
    "\n",
    "Generator w języku Python to fragment wyspecjalizowanego kodu będący w stanie wygenerować szereg wartości i kontrolować proces iteracji. Właśnie dlatego generatory są często nazywane iteratorami i chociaż można znaleźć pomiędzy nimi bardzo subtelne różnice, potraktujemy je tako tożsame.\n",
    "\n",
    "\n",
    "for i in range(5): \n",
    "    print(i)\n",
    "\n",
    "\n",
    "Funkcja range() jest w rzeczywistości generatorem, który jest (właśnie) iteratorem\n",
    "\n",
    "Jaka jest różnica?\n",
    "\n",
    "Funkcja zwraca jedną, dobrze zdefiniowaną wartość - może to być wynik bardziej lub mniej złożonej kalkulacji np. wielomianu i jest wywoływana raz - tylko raz.\n",
    "\n",
    "Generator zwraca serię wartości i generalnie jest (niejawnie) wywoływany więcej niż jeden raz.\n"
   ]
  },
  {
   "cell_type": "markdown",
   "metadata": {},
   "source": [
    "protokół iteratora.\n",
    "\n",
    "Protokół iteratora to sposób, w jaki obiekt powinien zachowywać się zgodnie z zasadami narzuconymi przez kontekst instrukcji for i in. Obiekt zgodny z protokołem iteratora nazywany jest iteratorem.\n",
    "\n",
    "Iterator musi zapewnić dwie metody:\n",
    "\n",
    "- __iter__(), która powinna zwrócić sam obiekt, i która jest wywoływana raz (jest to potrzebne do pomyślnego rozpoczęcia iteracji w języku Python)\n",
    "- __next__(), która ma na celu zwrócić następną wartość (pierwszą, drugą, itd.) wybranej serii - zostanie wywołana przez instrukcje for/in w celu przejścia przez następną iterację; jeśli nie ma więcej wartości do dostarczenia, metoda powinna zgłosić wyjątek StopIteration."
   ]
  },
  {
   "cell_type": "code",
   "execution_count": null,
   "metadata": {},
   "outputs": [],
   "source": [
    "class Fib:\n",
    "\tdef __init__(self, nn):\n",
    "\t\tprint(\"__init__\")\n",
    "\t\tself.__n = nn\n",
    "\t\tself.__i = 0\n",
    "\t\tself.__p1 = self.__p2 = 1\n",
    "\n",
    "\tdef __iter__(self):\n",
    "\t\tprint(\"__iter__\")\t\t\n",
    "\t\treturn self\n",
    "\n",
    "\tdef __next__(self):\n",
    "\t\tprint(\"__next__\")\t\t\t\t\n",
    "\t\tself.__i += 1\n",
    "\t\tif self.__i > self.__n:\n",
    "\t\t\traise StopIteration\n",
    "\t\tif self.__i in [1, 2]:\n",
    "\t\t\treturn 1\n",
    "\t\tret = self.__p1 + self.__p2\n",
    "\t\tself.__p1, self.__p2 = self.__p2, ret\n",
    "\t\treturn ret\n",
    "\n",
    "\n",
    "for i in Fib(10):\n",
    "\tprint(i)\n"
   ]
  },
  {
   "cell_type": "markdown",
   "metadata": {},
   "source": [
    "Poprzedni przykład pokazuje rozwiązanie, w którym obiekt iteratora jest częścią bardziej złożonej klasy.\n",
    "\n"
   ]
  },
  {
   "cell_type": "code",
   "execution_count": null,
   "metadata": {},
   "outputs": [],
   "source": [
    "class Fib:\n",
    "\tdef __init__(self, nn):\n",
    "\t\tself.__n = nn\n",
    "\t\tself.__i = 0\n",
    "\t\tself.__p1 = self.__p2 = 1\n",
    "\n",
    "\tdef __iter__(self):\n",
    "\t\tprint(\"Fib iter\")\n",
    "\t\treturn self\n",
    "\n",
    "\tdef __next__(self):\n",
    "\t\tself.__i += 1\n",
    "\t\tif self.__i > self.__n:\n",
    "\t\t\traise StopIteration\n",
    "\t\tif self.__i in [1, 2]:\n",
    "\t\t\treturn 1\n",
    "\t\tret = self.__p1 + self.__p2\n",
    "\t\tself.__p1, self.__p2 = self.__p2, ret\n",
    "\t\treturn ret\n",
    "\n",
    "class Class:\n",
    "\tdef __init__(self, n):\n",
    "\t\tself.__iter = Fib(n)\n",
    "\n",
    "\tdef __iter__(self):\n",
    "\t\tprint(\"Class iter\")\n",
    "\t\treturn self.__iter;\n",
    "\n",
    "\n",
    "object = Class(8)\n",
    "\n",
    "for i in object:\n",
    "\tprint(i)"
   ]
  },
  {
   "cell_type": "markdown",
   "metadata": {},
   "source": [
    "Zbudowaliśmy iterator Fib w innej klasie (możemy powiedzieć, że wkomponowaliśmy go do klasy Class). Tworzenie jego instancji przebiega razem z tworzeniem instancji obiektu Class.\n",
    "\n",
    "Obiekt klasy może być użyty jako iterator wtedy (i tylko wtedy), gdy pozytywnie odpowiada na wywołanie __iter__ - klasa ta może to zrobić, a jeśli jest wywoływana w ten sposób, to zapewnia obiekt zdolny do przestrzegania protokołu iteracji.\n",
    "\n",
    "Dlatego wynik kodu jest taki sam jak poprzednio, chociaż obiekt klasy Fib nie jest jawnie używany w kontekście pętli for."
   ]
  },
  {
   "cell_type": "markdown",
   "metadata": {},
   "source": [
    "### instrukcja yield\n",
    "\n"
   ]
  },
  {
   "cell_type": "code",
   "execution_count": 6,
   "metadata": {},
   "outputs": [
    {
     "data": {
      "text/plain": [
       "<generator object frajda at 0x7f37600e6258>"
      ]
     },
     "execution_count": 6,
     "metadata": {},
     "output_type": "execute_result"
    }
   ],
   "source": [
    "def frajda(n): \n",
    "    for i in range(n): \n",
    "        return i\n",
    "\n",
    "#frajda(8)\n",
    "\n",
    "# funkcja taka jak ta nie może zostać użyta jako generator.\n",
    "\n",
    "\n",
    "# ! Możemy powiedzieć, że taka funkcja nie jest w stanie zapisać i przywrócić swego stanu między kolejnymi wywołaniami.\n",
    "\n",
    "def frajda(n): \n",
    "    for i in range(n): \n",
    "        yield i\n",
    "\n",
    "\n",
    "frajda(8)\n"
   ]
  },
  {
   "cell_type": "markdown",
   "metadata": {},
   "source": [
    "Dodaliśmy yield zamiast return. Ta niewielka poprawka zamienia funkcję w generator, a wykonanie instrukcji yield daje kilka bardzo interesujących efektów.\n",
    "\n",
    "Przede wszystkim podaje wartość wyrażenia podanego po słowie kluczowym yield, podobnie jak return, ale nie gubi stanu funkcji.\n",
    "\n",
    "Wszystkie wartości zmiennych są zamrożone i czekają na następne wywołanie, kiedy to wykonanie zostanie wznowione (nie odbywa się od zera, jak po return).\n",
    "\n",
    "\n",
    "\n",
    "\n",
    "\n",
    "\n",
    "Jest jedno ważne ograniczenie: taka funkcja nie powinna być wywoływana jawnie, ponieważ - w rzeczywistości - nie jest już funkcją; jest obiektem generatora.\n",
    "\n",
    "Wywołanie zwróci identyfikator obiektu, a nie serię, której oczekujemy od generatora."
   ]
  },
  {
   "cell_type": "markdown",
   "metadata": {},
   "source": [
    "### Jak zbudować generator"
   ]
  },
  {
   "cell_type": "code",
   "execution_count": 7,
   "metadata": {},
   "outputs": [
    {
     "name": "stdout",
     "output_type": "stream",
     "text": [
      "0\n",
      "1\n",
      "2\n",
      "3\n",
      "4\n",
      "1\n",
      "2\n",
      "4\n",
      "8\n",
      "16\n",
      "32\n",
      "64\n",
      "128\n"
     ]
    }
   ],
   "source": [
    "def frajda(n): \n",
    "    for i in range(n): \n",
    "        yield i \n",
    "\n",
    "for v in frajda(5): \n",
    "    print(v)\n",
    "\n",
    "\n",
    "\n",
    "def liczba_do_kwadratu(n):\n",
    "    kwadrat = 1\n",
    "    for i in range(n):\n",
    "        yield kwadrat\n",
    "        kwadrat *= 2\n",
    "\n",
    "\n",
    "for v in liczba_do_kwadratu(8):\n",
    "    print(v)\n",
    "\n",
    "# wersja dla debili\n",
    "\n",
    "def liczba_do_kwadratu(n):\n",
    "    kwadrat = 1\n",
    "    print('heh')\n",
    "    for i in range(n):\n",
    "        print(kwadrat,'1')\n",
    "        yield kwadrat,2\n",
    "        print(kwadrat,'3')\n",
    "        kwadrat *= 2\n",
    "        print('\\n')\n",
    "\n",
    "\n",
    "for v in liczba_do_kwadratu(8):\n",
    "    print(v)\n"
   ]
  },
  {
   "cell_type": "markdown",
   "metadata": {},
   "source": [
    "Generatory mogą być również używane w wyrażeniach listowych, tak jak tutaj:"
   ]
  },
  {
   "cell_type": "code",
   "execution_count": 8,
   "metadata": {},
   "outputs": [
    {
     "name": "stdout",
     "output_type": "stream",
     "text": [
      "[1, 2, 4, 8, 16]\n"
     ]
    }
   ],
   "source": [
    "def liczba_do_kwadratu(n):\n",
    "    kwadrat = 1\n",
    "    for i in range(n):\n",
    "        yield kwadrat\n",
    "        kwadrat *= 2\n",
    "\n",
    "\n",
    "t = [x for x in liczba_do_kwadratu(5)]\n",
    "print(t)"
   ]
  },
  {
   "cell_type": "markdown",
   "metadata": {},
   "source": [
    "\n",
    "Funkcja list()\n",
    "\n",
    "Funkcja list() może przekształcić serię kolejnych wywołań generatora w prawdziwą listę:"
   ]
  },
  {
   "cell_type": "code",
   "execution_count": 9,
   "metadata": {},
   "outputs": [
    {
     "name": "stdout",
     "output_type": "stream",
     "text": [
      "[1, 2, 4]\n"
     ]
    }
   ],
   "source": [
    "def liczba_do_kwadratu(n):\n",
    "    kwadrat = 1\n",
    "    for i in range(n):\n",
    "        yield kwadrat\n",
    "        kwadrat *= 2\n",
    "\n",
    "\n",
    "t = list(liczba_do_kwadratu(3))\n",
    "print(t)"
   ]
  },
  {
   "cell_type": "markdown",
   "metadata": {},
   "source": [
    "Co więcej, kontekst stworzony przez operator in pozwala również na użycie generatora.\n"
   ]
  },
  {
   "cell_type": "code",
   "execution_count": 10,
   "metadata": {},
   "outputs": [
    {
     "name": "stdout",
     "output_type": "stream",
     "text": [
      "1\n",
      "2\n",
      "4\n",
      "8\n"
     ]
    }
   ],
   "source": [
    "def liczba_do_kwadratu(n):\n",
    "    pow = 1\n",
    "    for i in range(n):\n",
    "        yield pow\n",
    "        pow *= 2\n",
    "\n",
    "\n",
    "for i in range(20):\n",
    "    if i in liczba_do_kwadratu(4):\n",
    "        print(i)\n"
   ]
  },
  {
   "cell_type": "markdown",
   "metadata": {},
   "source": [
    "Aktualizacja liczb Fibonacciego"
   ]
  },
  {
   "cell_type": "code",
   "execution_count": null,
   "metadata": {},
   "outputs": [],
   "source": [
    "def Fib(n):\n",
    "    p = pp = 1\n",
    "    for i in range(n):\n",
    "        if i in [0, 1]:\n",
    "            yield 1\n",
    "        else:\n",
    "            n = p + pp\n",
    "            pp, p = p, n\n",
    "            yield n\n",
    "\n",
    "fibs = list(Fib(10))\n",
    "print(fibs)\n"
   ]
  },
  {
   "cell_type": "markdown",
   "metadata": {},
   "source": [
    "### Więcej o wyrażeniach listowych\n"
   ]
  },
  {
   "cell_type": "code",
   "execution_count": 11,
   "metadata": {},
   "outputs": [
    {
     "name": "stdout",
     "output_type": "stream",
     "text": [
      "[1, 10, 100, 1000, 10000, 100000]\n",
      "[1, 10, 100, 1000, 10000, 100000]\n"
     ]
    }
   ],
   "source": [
    "lista_1 = []\n",
    "\n",
    "for ex in range(6):\n",
    "    lista_1.append(10 ** ex)\n",
    "\n",
    "lista_2 = [10 ** ex for ex in range(6)]\n",
    "\n",
    "print(lista_1)\n",
    "print(lista_2)\n"
   ]
  },
  {
   "cell_type": "markdown",
   "metadata": {},
   "source": [
    "### wyrażenie warunkowe - sposób wyboru jednej z dwóch różnych wartości w oparciu o wynik wyrażenia boolowskiego."
   ]
  },
  {
   "cell_type": "code",
   "execution_count": null,
   "metadata": {},
   "outputs": [],
   "source": [
    "lista = []\n",
    "\n",
    "for x in range(10):\n",
    "    lista.append(1 if x % 2 == 0 else 0)\n",
    "\n",
    "print(lista)\n"
   ]
  },
  {
   "cell_type": "markdown",
   "metadata": {},
   "source": [
    "wyrażenie_jeden if warunek else wyrażenie_dwa\n",
    "\n",
    "Na pierwszy rzut oka może to wyglądać zaskakująco, ale trzeba pamiętać, że to nie jest instrukcja warunkowa. Co więcej, to wcale nie jest instrukcja. To operator.\n",
    "\n",
    "Wartość, którą podaje, jest równa wyrażenie_jeden, gdy warunek jest True, a jeśli nie, wartość jest równa wyrażenie_dwa.\n",
    "\n",
    "Dobry przykład powie ci więcej. Spójrz na kod w edytorze.\n",
    "\n",
    "Kod wypełnia listę wartościami 1 i 0 - jeśli indeks danego elementu jest nieparzysty, element jest ustawiony na 0, w przeciwnym razie na 1.\n",
    "\n",
    "Proste? Może nie na pierwszy rzut oka. Eleganckie? Bezsprzecznie.\n",
    "\n",
    "Czy można użyć tej samej sztuczki w wyrażeniu listowym? Tak, możesz."
   ]
  },
  {
   "cell_type": "code",
   "execution_count": null,
   "metadata": {},
   "outputs": [],
   "source": [
    "lista = [1 if x % 2 == 0 else 0 for x in range(10)]\n",
    "\n",
    "print(lista)\n"
   ]
  },
  {
   "cell_type": "markdown",
   "metadata": {},
   "source": [
    "Tylko jedna zmiana może przemienić jakiekolwiek wyrażenie w generator.\n",
    "\n",
    "\n",
    "### Wyrażenia listowe a generatory\n",
    "\n",
    "To nawiasy okrągłe. Nawiasy kwadratowe tworzą wyrażenia listowe, nawiasy okrągłe tworzą generator.\n",
    "\n"
   ]
  },
  {
   "cell_type": "code",
   "execution_count": null,
   "metadata": {},
   "outputs": [],
   "source": [
    "lista = [1 if x % 2 == 0 else 0 for x in range(10)]\n",
    "generator = (1 if x % 2 == 0 else 0 for x in range(10))\n",
    "\n",
    "for v in lista:\n",
    "    print(v, end=\" \")\n",
    "print()\n",
    "\n",
    "for v in generator:\n",
    "    print(v, end=\" \")\n",
    "print()\n"
   ]
  },
  {
   "cell_type": "markdown",
   "metadata": {},
   "source": [
    "Skąd wiadomo, że drugie zadanie tworzy generator, a nie listę?\n",
    "\n",
    "Jest dowód, który możemy ci pokazać. Zastosuj funkcję len() do obu tych bytów.\n",
    "\n",
    "len(lista) obliczy do 10. Jasne i przewidywalne. len(generator) spowoduje zgłoszenie wyjątku, i zobaczysz następujący komunikat:\n",
    "\n",
    "TypeError: object of type 'generator' has no len()\n",
    "output\n",
    "\n",
    "Oczywiście zapisanie listy lub generatora nie jest konieczne - możesz je utworzyć dokładnie tam, gdzie ich potrzebujesz - tak jak tutaj:"
   ]
  },
  {
   "cell_type": "markdown",
   "metadata": {},
   "source": [
    "# Lambda"
   ]
  },
  {
   "cell_type": "code",
   "execution_count": 5,
   "metadata": {},
   "outputs": [
    {
     "name": "stdout",
     "output_type": "stream",
     "text": [
      "-4\n",
      "-2\n",
      "0\n",
      "2\n",
      "4\n"
     ]
    }
   ],
   "source": [
    "two = lambda : 2\n",
    "kwadrat = lambda x : x * x\n",
    "potega = lambda x, y : x ** y\n",
    "\n",
    "for a in range(-2, 3):\n",
    "    print(kwadrat(a), end=\" \")\n",
    "    print(potega(a, dwa()))\n",
    "s"
   ]
  },
  {
   "cell_type": "markdown",
   "metadata": {},
   "source": [
    "Funkcja lambda jest pojęciem zapożyczonym z matematyki, a dokładniej z części zwanej rachunkiem Lambda, ale te dwa zjawiska nie są tożsame.\n",
    "\n",
    "Matematycy używają rachunku Lambda w wielu systemach formalnych związanych z logiką, rekurencją lub dowodami twierdzeń. Programiści używają funkcji lambda w celu uproszczenia kodu, aby uczynić go jaśniejszym i łatwiejszym do zrozumienia.\n",
    "\n",
    "Funkcja lambda jest funkcją bez nazwy (możesz też nazwać ją anonimową funkcją). Oczywiście takie stwierdzenie od razu rodzi pytanie: w jaki sposób wykorzystuje się coś, czego nie można zidentyfikować?\n",
    "\n",
    "Na szczęście nie stanowi to problemu, ponieważ możesz nazwać taką funkcję, jeśli naprawdę tego potrzebujesz, ale w rzeczywistości w wielu przypadkach funkcja lambda może istnieć i działać, pozostając w pełni incognito.\n",
    "\n",
    "Deklaracja funkcji lambda w żaden sposób nie przypomina zwykłej deklaracji funkcji - zobacz sam:\n",
    "\n",
    "parametry lambda: wyrażenie\n",
    "\n",
    "Taka klauzula zwraca wartość wyrażenia, biorąc pod uwagę aktualną wartość bieżącego argumentu lambda.\n"
   ]
  },
  {
   "cell_type": "markdown",
   "metadata": {},
   "source": [
    "### Jak i kiedy korzystać z funkcji lambda?"
   ]
  },
  {
   "cell_type": "markdown",
   "metadata": {},
   "source": [
    "Najciekawsze w używaniu lambd jest, gdy możesz używać ich w czystej formie - jako anonimowe części kodu przeznaczone do oceny wyniku.\n",
    "\n"
   ]
  },
  {
   "cell_type": "code",
   "execution_count": null,
   "metadata": {},
   "outputs": [],
   "source": [
    "def funkcja_print(argumenty, fun):\n",
    "\tfor x in argumenty:\n",
    "\t\tprint('f(', x,')=', fun(x), sep='')\n",
    "\n",
    "\n",
    "def poly(x):\n",
    "\treturn 2 * x**2 - 4 * x + 2\n",
    "\n",
    "\n",
    "funkcja_print([x for x in range(-2, 3)], poly)\n"
   ]
  },
  {
   "cell_type": "markdown",
   "metadata": {},
   "source": [
    "to samo z uzyciem lambdy"
   ]
  },
  {
   "cell_type": "code",
   "execution_count": null,
   "metadata": {},
   "outputs": [],
   "source": [
    "def funkcja_print(argumenty, fun): \n",
    "        for x in argumenty: \n",
    "                print('f(', x,')=', fun(x), sep='') \n",
    "\n",
    "funkcja_print([x for x in range(-2, 3)], lambda x: 2 * x**2 - 4 * x + 2)\n"
   ]
  },
  {
   "cell_type": "markdown",
   "metadata": {},
   "source": [
    "### Funkcja map()"
   ]
  },
  {
   "cell_type": "markdown",
   "metadata": {},
   "source": [
    "W najprostszym ze wszystkich możliwych przypadków funkcja map():\n",
    "\n",
    "map(funkcja, lista)\n",
    "\n",
    "\n",
    "przyjmuje dwa argumenty:\n",
    "\n",
    "funkcja;\n",
    "lista.\n",
    "\n",
    "Powyższy opis jest niezwykle uproszczony, ponieważ:\n",
    "\n",
    "- drugim argumentem map() może być dowolny byt, który może być iterowany (np. krotka lub po prostu generator)\n",
    "- map() może przyjąć więcej niż dwa argumenty.\n",
    "\n",
    "\n",
    "\n",
    "Funkcja map() stosuje funkcję przekazaną przez jej pierwszy argument do wszystkich elementów jej drugiego argumentu i zwraca iterator dostarczający wszystkie kolejne wyniki funkcji."
   ]
  },
  {
   "cell_type": "code",
   "execution_count": null,
   "metadata": {},
   "outputs": [],
   "source": [
    "lista_1 = [x for x in range(5)]\n",
    "lista_2 = list(map(lambda x: 2 ** x, lista_1))\n",
    "print(lista_2)\n",
    "\n",
    "for x in map(lambda x: x * x, lista_2):\n",
    "\tprint(x,end = ' ' )\n",
    "\t\n",
    "\t\n",
    "print(lista_1)\n"
   ]
  },
  {
   "cell_type": "markdown",
   "metadata": {},
   "source": [
    "### filter()\n",
    "\n",
    "- Oczekuje ona tego samego rodzaju argumentów co map(), ale robi coś innego - filtruje swój drugi argument, kierując się instrukcjami płynącymi z funkcji określonej jako pierwszy argument (funkcja jest wywoływana dla każdego elementu listy, podobnie jak w map()).\n",
    "\n",
    "- Elementy, które zwracają True z funkcji przechodzą przez filtr - pozostałe są odrzucane."
   ]
  },
  {
   "cell_type": "code",
   "execution_count": null,
   "metadata": {},
   "outputs": [],
   "source": [
    "\n",
    "\n",
    "from random import seed, randint\n",
    "\n",
    "seed()\n",
    "dane = [randint(-10,10) for x in range(5)]\n",
    "print(dane)\n",
    "\n",
    "filtr = list(filter(lambda x: x > 0 and x % 2 == 0, dane))\n",
    "\n",
    "print(dane)\n",
    "print(filtr)\n"
   ]
  },
  {
   "cell_type": "markdown",
   "metadata": {},
   "source": [
    "### Domknięcia\n",
    "\n",
    "- domknięcie to technika, która pozwala na przechowywanie wartości, mimo że kontekst, w którym zostały utworzone, już nie istnieje."
   ]
  },
  {
   "cell_type": "code",
   "execution_count": 2,
   "metadata": {},
   "outputs": [
    {
     "name": "stdout",
     "output_type": "stream",
     "text": [
      "1\n"
     ]
    }
   ],
   "source": [
    "def outer(par):\n",
    "    lok = par\n",
    "\n",
    "\n",
    "zm = 1\n",
    "outer(zm)\n",
    "\n",
    "print(zm)\n",
    "print(lok)"
   ]
  },
  {
   "cell_type": "markdown",
   "metadata": {},
   "source": [
    "Przykład jest oczywiście błędny.\n",
    "\n",
    "Ostatnie dwa wiersze spowodują zgłoszenie wyjątku NameError - ani par ani loc nie jest dostępna poza funkcją. Obie zmienne istnieją wtedy i tylko wtedy, gdy wykonywana jest funkcja outer()."
   ]
  },
  {
   "cell_type": "code",
   "execution_count": null,
   "metadata": {},
   "outputs": [],
   "source": [
    "def zewnetrzna(par):\n",
    "\tlok = par\n",
    "\t\n",
    "\tdef wewnetrzna():\n",
    "\t\treturn lok\n",
    "\treturn wewnetrzna\n",
    "\n",
    "\n",
    "zm = 1\n",
    "fun = zewnetrzna(zm)\n",
    "print(fun())"
   ]
  },
  {
   "cell_type": "markdown",
   "metadata": {},
   "source": [
    "Jak to działa? Podobnie jak każda inna funkcja z wyjątkiem faktu, że wewnetrzna() może być wywołana tylko z wewnątrz zewnetrzna(). Można powiedzieć, że wewnetrzna() to prywatne narzędzie zewnetrzna() - żadna inna część kodu nie ma do niej dostępu.\n",
    "\n",
    "Przyjrzyj się uważnie:\n",
    "\n",
    "funkcja wewnetrzna() zwraca wartość zmiennej dostępnej w jej zakresie, ponieważ wewnetrzna() może użyć dowolnego z bytów do dyspozycji zewnetrzna()\n",
    "funkcja zewnetrzna() zwraca samą funkcję wewnetrzna(); dokładniej, zwraca kopię funkcji wewnetrzna(), która została zamrożona w momencie wywołania zewnetrzna(); funkcja zamrożona zawiera pełne środowisko, w tym stan wszystkich zmiennych lokalnych, co również oznacza, że wartość lok została zachowana, chociaż zewnetrzna() przestała istnieć dawno temu.\n",
    "\n",
    "\n",
    "! Funkcja zwrócona podczas wywołania outer() jest domknięciem."
   ]
  },
  {
   "cell_type": "markdown",
   "metadata": {},
   "source": [
    "Domknięcie musi być wywołane w dokładnie taki sam sposób, w jaki zostało zadeklarowane.\n",
    "\n",
    "\n",
    "funkcja wewnetrzna() nie posiadała parametrów, więc musieliśmy wywołać ją bez argumentów.\n",
    "\n",
    "Teraz spójrz na kod w edytorze. Jest zupełnie możliwe, aby zadeklarować domknięcie wyposażone w dowolną liczbę parametrów, np. jeden, tak jak funkcja potega().\n",
    "\n",
    "Oznacza to, że domknięcie nie tylko wykorzystuje zamrożone środowisko, ale może również modyfikować jego zachowanie przy użyciu wartości pobranych z zewnątrz.\n",
    "\n",
    "Ten przykład pokazuje jeszcze jedną interesującą okoliczność - możesz utworzyć tyle domknięć, ile chcesz, używając jednego i tego samego fragmentu kodu. Odbywa się to za pomocą funkcji o nazwie domknij(). Uwaga:\n",
    "\n",
    "pierwsze domknięcie uzyskane z domknij() definiuje narzędzie podnosząc do kwadratu jego argument;\n",
    "drugi jest zaprojektowany aby podnieść argument do sześcianu.\n"
   ]
  },
  {
   "cell_type": "code",
   "execution_count": null,
   "metadata": {},
   "outputs": [],
   "source": [
    "def domknij(par):\n",
    "\tlok = par\n",
    "\t\n",
    "\tdef potega(p):\n",
    "\t\treturn p ** lok\n",
    "\treturn potega\n",
    "\n",
    "\n",
    "fkwadrat = domknij(2)\n",
    "fszescian = domknij(3)\n",
    "\n",
    "for i in range(5):\n",
    "\tprint(i, fkwadrat(i), fszescian(i))\n"
   ]
  },
  {
   "cell_type": "markdown",
   "metadata": {},
   "source": [
    "Kluczowe zagadnienia\n",
    "\n",
    "1. Iterator to obiekt klasy zapewniający co najmniej dwie metody (nie licząc konstruktora!):\n",
    "\n",
    "__iter__() jest wywoływany jeden raz, gdy iterator jest tworzony i zwraca obiekt iteratora sam;\n",
    "__next__() jest wywoływany w celu podania wartości następnej iteracji i wywołuje wyjątek StopIteration, gdy iteracja dobiega końca.\n",
    "\n",
    "2. Instrukcja yield może być używana tylko wewnątrz funkcji. Instrukcja yield zawiesza wykonywanie funkcji i powoduje, że funkcja zwraca argument jako wynik. Takiej funkcji nie można wywołać w normalny sposób - jej jedynym celem jest użycie jako generatora (tj. w kontekście wymagającym szeregu wartości, np. pętla for.)\n",
    "\n",
    "\n",
    "3. Wyrażenie warunkowe to wyrażenie zbudowane przy użyciu operatora if-else. Na przykład:\n",
    "\n",
    "print(True if 0 >=0 else False)\n",
    "\n",
    "\n",
    "daje na wyjściu True.\n",
    "\n",
    "\n",
    "4. Wyrażenie listowe staje się generatorem, gdy jest używane wewnątrz nawiasów (użyte w nawiasach kwadratowych, tworzy regularną listę). Na przykład:\n",
    "\n",
    "for x in (el * 2 for el in range(5)):\n",
    "    print(x)\n",
    "\n",
    "daje na wyjściu 02468.\n",
    "\n",
    "\n",
    "4. Funkcja lambda to narzędzie do tworzenia funkcji anonimowych. Na przykład:\n",
    "\n",
    "def foo(x,f):\n",
    "    return f(x)\n",
    "\n",
    "print(foo(9, lambda x: x ** 0.5))\n",
    "\n",
    "\n",
    "daje na wyjściu 3.0.\n",
    "\n",
    "\n",
    "5. Funkcja map(fun, list) tworzy kopię argumentu list i stosuje funkcję fun do wszystkie jej elementy, zwracając generator, który dostarcza nową zawartość listy element po elemencie. Na przykład:\n",
    "\n",
    "krotka_lista = ['mython', 'python', 'fell', 'on', 'the', 'floor']\n",
    "nowa_lista = list(map(lambda s: s.title(), krotka_lista))\n",
    "print(nowa_lista)\n",
    "\n",
    "\n",
    "daje na wyjściu ['Mython', 'Python', 'Fell', 'On', 'The', 'Floor'].\n",
    "\n",
    "\n",
    "6. Funkcja filter(fun, list) tworzy kopię tych elementów list, które powodują, że funkcja fun zwraca wartość True. Wynikiem funkcji jest generator udostępniający nową zawartość listy element po elemencie. Na przykład:\n",
    "\n",
    "krotka_lista = [1, \"Python\", -1, \"Monty\"]\n",
    "nowa_lista = list(filter(lambda s: isinstance(s, str), krotka_lista))\n",
    "print(nowa_lista)\n",
    "\n",
    "\n",
    "daje na wyjściu ['Python', 'Monty'].\n",
    "\n",
    "\n",
    "7. Zamknięcie to technika, która umożliwia przechowywanie wartości pomimo faktu, że kontekst , w którym zostały utworzone, już nie istnieje . Na przykład:\n",
    "\n",
    "def tag(tg):\n",
    "    tg2 = tg\n",
    "    tg2 = tg[0] + '/' + tg[1:]\n",
    "\n",
    "    def inner(str):\n",
    "        return tg + str + tg2\n",
    "    return inner\n",
    "\n",
    "\n",
    "b_tag = tag('<b>')\n",
    "print(b_tag('Monty Python'))\n",
    "\n",
    "\n",
    "daje na wyjściu <b>Monty Python</b>\n",
    "\n",
    "\n",
    "\n",
    "Ćwiczenie 1\n",
    "\n",
    "Jaki jest oczekiwany wynik poniższego kodu?\n",
    "\n",
    "class Samogloski:\n",
    "    def __init__(self):\n",
    "        self.vow = \"aeiouy \"\n",
    "        self.pos = 0\n",
    "\n",
    "    def __iter__(self):\n",
    "        return self\n",
    "\n",
    "    def __next__(self):\n",
    "        if self.pos == len(self.vow):\n",
    "            raise StopIteration\n",
    "        self.pos += 1\n",
    "        return self.vow[self.pos - 1]\n",
    "\n",
    "\n",
    "Samogloski = Samogloski()\n",
    "for v in Samogloski:\n",
    "    print(v, end=' ')\n",
    "\n",
    "\n",
    "Sprawdź\n",
    "a e i o u y\n",
    "\n",
    "\n",
    "\n",
    "Ćwiczenie 2\n",
    "\n",
    "Napisz funkcję lambda, ustawiając najmniej znaczący bit jej argumentu będącego liczbą całkowitą i zastosuj ją do funkcji map(), aby wyświetlić łańcuch znaków  1 3 3 5  w konsoli.\n",
    "\n",
    "any_list = [1, 2, 3, 4]\n",
    "even_list = # Uzupełnij linię kodu tutaj.\n",
    "print(even_list)\n",
    "\n",
    "\n",
    "Sprawdź\n",
    "list(map(lambda n: n | 1, any_list))\n",
    "\n",
    "\n",
    "\n",
    "Ćwiczenie 3\n",
    "\n",
    "Jaki jest oczekiwany wynik poniższego kodu?\n",
    "\n",
    "def zastap_spacje(replacement='*'):\n",
    "    def nowe_zastapienie(text):\n",
    "        return text.replace(' ', replacement)\n",
    "    return nowe_zastapienie\n",
    "\n",
    "\n",
    "stars = zastap_spacje()\n",
    "print(stars(\"A Teraz Coś Z Zupełnie Innej Beczki\"))\n",
    "\n",
    "\n",
    "Sprawdź\n",
    "A*Teraz*Coś*Z*Zupełnie*Innej*Beczki\n",
    "\n",
    "Uwaga\n",
    "\n",
    "PEP 8, przewodnik po stylach dla kodu Pythona zaleca, aby lambdy nie były przypisywane do zmiennych, ale raczej powinny być definiowane jako funkcje.\n",
    "\n",
    "Oznacza to, że lepiej jest użyć instrukcji def i unikać używania instrukcji przypisania, która wiąże wyrażenie lambda z identyfikatorem. Na przykład:\n",
    "\n",
    "# Zalecane:\n",
    "def f(x): return 3*x\n",
    "\n",
    "\n",
    "# Nie zalecane:\n",
    "f = lambda x: 3*x\n",
    "\n",
    "\n",
    "Powiązanie lambd z identyfikatorami generalnie powiela funkcjonalność instrukcji def. Z drugiej strony, użycie instrukcji def generuje więcej linii kodu.\n",
    "\n",
    "Ważne jest, aby zrozumieć, że rzeczywistość często lubi rysować własne scenariusze, które niekoniecznie są zgodne z konwencjami lub formalnymi zaleceniami. To, czy zdecydujesz się ich przestrzegać, czy nie, będzie zależało od wielu rzeczy: twoich preferencji, innych przyjętych konwencji, wewnętrznych wytycznych firmy, zgodności z istniejącym kodem itp. Miej tego świadomość.\n",
    "\n"
   ]
  },
  {
   "cell_type": "markdown",
   "metadata": {},
   "source": [
    "### Nazawy plikow\n",
    "\n",
    "\n",
    "ROznice:\n",
    "\n",
    "\n",
    "\n",
    "Windows\n",
    "\n",
    "C:\\dirctory\\file\n",
    "\n",
    "unix/linux\n",
    "\n",
    "/directory/Files\n",
    "\n",
    "- Jak widać, systemy wywodzące się z Unixa/Linuxa nie używają litery dysku (np. C:), a wszystkie katalogi wyrastają z jednego katalogu głównego zwanego /, podczas gdy systemy Windows rozpoznają katalog główny jako \\.\n",
    "\n",
    "- Ponadto w nazwach plików systemów Unix/Linux rozróżniana jest wielkość liter. Systemy Windows przechowują informację o wielkości liter używanych w nazwie pliku, ale w ogóle nie stosują rozróżnienia.\n",
    "\n",
    "- Główna i najbardziej uderzająca różnica polega na tym, że musisz użyć dwóch różnych separatorów dla nazw katalogów: \\ w Windowsie i / w Unixie/Linuxie.\n",
    "\n",
    "\n",
    "\n",
    "\n",
    "jeśli spróbujesz kodować to dla systemu Windows:\n",
    "\n",
    "nazwa = \"\\kat\\plik\"\n",
    "\n",
    "\n",
    "dostaniesz nieprzyjemną niespodziankę: język Python wygeneruje błąd, albo wykonanie programu będzie zachowywać się dziwnie, jakby nazwa pliku została w jakiś sposób zniekształcona.\n",
    "\n",
    "W rzeczywistości nie jest to wcale dziwne, ale całkiem oczywiste i naturalne. Język Python używa znaku \\ jako znaku ucieczki (np. \\n).\n",
    "\n",
    "Oznacza to, że nazwy plików systemu Windows muszą być zapisane w następujący sposób:\n",
    "\n",
    "nazwa = \"\\\\kat\\\\plik\"\n",
    "\n",
    "\n",
    "\n"
   ]
  },
  {
   "cell_type": "markdown",
   "metadata": {},
   "source": [
    "Na szczęście istnieje jeszcze jedno rozwiązanie. Język Python jest na tyle sprytny, że potrafi przekształcić ukośniki w ukośniki odwrotne za każdym razem, gdy odkryje, że wymaga tego system operacyjny.\n",
    "\n",
    "Oznacza to, że każde z następujących zadań:\n",
    "\n",
    "nazwa = \"/kat/plik\" \n",
    "nazwa = \"c:/kat/plik\"\n",
    "\n",
    "#### będzie działać również z systemem Windows."
   ]
  },
  {
   "cell_type": "markdown",
   "metadata": {},
   "source": [
    "Program napisany w języku Python (i nie tylko w nim, ponieważ ta konwencja dotyczy praktycznie wszystkich języków programowania) nie komunikuje się bezpośrednio z plikami, ale poprzez niektóre abstrakcyjne byty o różnych nazwach w różnych językach lub środowiskach - najczęściej używane terminy to __uchwyty__ lub __strumienie__ (tutaj będziemy ich używać jako synonimy).\n",
    "\n"
   ]
  },
  {
   "cell_type": "markdown",
   "metadata": {},
   "source": [
    "\n",
    "Aby połączyć (powiązać) strumień z plikiem, konieczne jest wykonanie jawnej operacji.\n",
    "\n",
    "Operacja łączenia strumienia z plikiem nosi nazwę otwierania pliku, a odłączenie tozamykanie pliku.\n",
    "\n",
    "W związku z tym wniosek jest taki, że pierwszą operacją wykonywaną w strumieniu jest zawsze operacją open, a ostatnia to close. W efekcie program może dowolnie manipulować strumieniem pomiędzy tymi dwoma zdarzeniami i obsługiwać powiązany plik."
   ]
  },
  {
   "cell_type": "markdown",
   "metadata": {},
   "source": [
    "### strumienie plikow\n",
    "\n",
    "Otwarcie strumienia nie jest związane tylko z plikiem, ale powinno również zadeklarować sposób przetwarzania strumienia. Ta deklaracja nazywa się __trybem.otwartym__.\n",
    "\n",
    "- Jeśli otwarcie się powiedzie, program będzie mógł wykonywać tylko te operacje, które są zgodne z zadeklarowanym trybem otwartym.\n",
    "\n",
    "W strumieniu wykonywane są dwie podstawowe operacje:\n",
    "\n",
    "- odczyt ze strumienia: fragmenty danych są pobierane z pliku i umieszczane w obszarze pamięci zarządzanym przez program (np. zmienna);\n",
    "- zapis w strumieniu: fragmenty danych z pamięci (np. zmienna) są przesyłane do pliku.\n",
    "\n",
    "Istnieją trzy podstawowe tryby otwarcia strumienia:\n",
    "\n",
    "- tryb odczytu: strumień otwarty w tym trybie pozwala tylko na __operacje_odczytu__ ; próba zapisu w strumieniu spowoduje wyjątek (wyjątek ma nazwę UnsupportedOperation, który dziedziczy OSError i ValueError, i pochodzi z modułu io);\n",
    "- tryb zapisu: strumień otwarty w tym trybie umożliwia tylko __operacje_zapisu__; próba odczytania strumienia spowoduje wyjątek wymieniony powyżej;\n",
    "- tryb aktualizacji: strumień otwarty w tym trybie pozwala na zarówno __zapis__, jak i __odczyt__.\n",
    "\n",
    "\n",
    "\n",
    "trumień zachowuje się prawie jak magnetofon.\n",
    "\n",
    "Gdy odczytujesz coś ze strumienia, wirtualna głowica przesuwa się po strumieniu zgodnie z liczbą bajtów przesłanych ze strumienia.\n",
    "\n",
    "Kiedy zapisujesz coś w strumieniu, ta sama głowica przesuwa się wzdłuż niego zapisując dane z pamięci.\n",
    "\n",
    "Kiedy będziemy mówić o odczycie i zapisie w strumieniu, spróbuj wyobrazić sobie tę analogię. Książki programistyczne odnoszą się do tego mechanizmu jako __aktualna_pozycja_pliku__; my także będziemy używać tego terminu."
   ]
  },
  {
   "cell_type": "markdown",
   "metadata": {},
   "source": [
    "Język Python zakłada, że każdy plik jest ukryty za obiektem odpowiedniej klasy.\n",
    "\n",
    "Oczywiście, trudno nie pytać, jak interpretować słowo odpowiedniej.\n",
    "\n",
    "Pliki mogą być przetwarzane na wiele różnych sposobów - niektóre z nich zależą od zawartości pliku, inne od intencji programisty.\n",
    "\n",
    "W każdym razie różne pliki mogą wymagać różnych zestawów operacji i zachowywać się na różne sposoby.\n",
    "\n",
    "Obiekt odpowiedniej klasy jest tworzony gdy otwierasz plik i unicestwiasz go w momencie zamknięcia.\n",
    "\n",
    "Pomiędzy tymi dwoma zdarzeniami można użyć obiektu do określenia, jakie operacje powinny być wykonywane w danym strumieniu. Operacje, których możesz użyć, są narzucane przez sposób, w jaki otworzyłeś plik.\n",
    "\n",
    "Uwaga: nigdy nie użyjesz konstruktorów do ożywienia tych obiektów. Jedynym sposobem by je uzyskać jest wywołanie funkcji o nazwie open().\n",
    "\n",
    "Funkcja analizuje podane przez ciebie argumenty i automatycznie tworzy wymagany obiekt.\n",
    "\n",
    "Jeśli chcesz pozbyć się obiektu, wywołujesz metodę o nazwie close().\n",
    "\n",
    "Wywołanie spowoduje przerwanie połączenia z obiektem i plikiem, i usunie obiekt.\n",
    "\n",
    "Dla naszych celów zajmujemy się tylko strumieniami reprezentowanymi przez obiekty BufferIOBase i TextIOBase. Wkrótce zrozumiesz dlaczego.( jest jeszcze RawIOBASE)"
   ]
  },
  {
   "cell_type": "markdown",
   "metadata": {},
   "source": [
    "Ze względu na typ zawartości strumienia wszystkie strumienie dzielą się na strumienie tekstowe i binarne.\n",
    "\n",
    "W systemach Unix/Linux końce linii są oznaczone pojedynczym znakiem o nazwie LF (kod ASCII 10) oznaczonym w programach Python jako \\n.\n",
    "\n",
    "Inne systemy operacyjne, zwłaszcza te pochodzące z prehistorycznego systemu CP/M (co dotyczy również systemów rodziny Windows), używają innej konwencji: koniec linii jest oznaczony przez parę znaków, CR i LF (kody ASCII 13 i 10), które mogą być zakodowane jako \\r\\n.\n",
    "\n",
    "Jeśli utworzysz program odpowiedzialny za przetwarzanie pliku tekstowego i jest on napisany dla systemu Windows, możesz rozpoznać końce linii, znajdując znaki \\r\\n, ale ten sam program działający w środowisku Unix/Linux będzie całkowicie bezużyteczne i na odwrót: program napisany dla systemów Unix/Linux może być bezużyteczny w systemie Windows.\n",
    "\n",
    "Takie niepożądane cechy programu, które uniemożliwiają lub utrudniają korzystanie z programu w różnych środowiskach, nazywane są __nieprzenoszalnością__.\n",
    "\n",
    "Tym samym, cechą programu umożliwiającą wykonywanie w różnych środowiskach jest __przenoszalność__. Program wyposażony w taką cechę nazywa się __programem_przenośnym__.\n",
    "\n",
    "\n",
    "\n"
   ]
  },
  {
   "cell_type": "markdown",
   "metadata": {},
   "source": [
    "Zostało to zrobione na poziomie klas, które są odpowiedzialne za odczyt i zapis znaków w strumieniu. Działa to w następujący sposób:\n",
    "\n",
    "- gdy strumień jest otwarty i zaleca się, aby dane w powiązanym pliku zostały przetworzone jako tekst (lub w ogóle nie ma takiej sugestii), to następuje zmiana na tryb tekstowy;\n",
    "\n",
    "- podczas odczytu/zapisu linii z/do powiązanego pliku, nic szczególnego nie występuje w środowisku Unix, ale gdy te same operacje są wykonywane w środowisku Windows, zachodzi proces zwany tłumaczeniem znaków nowej linii: gdy odczytujesz linię z pliku, każda para znaków \\r\\n jest zamieniana na pojedynczy znak \\n i na odwrót; podczas operacji zapisu, każdy znak \\n jest zamieniany na parę znaków \\r\\n;\n",
    "\n",
    "- mechanizm jest całkowicie transparentny dla programu, który można napisać tak, jakby był przeznaczony wyłącznie do przetwarzania plików tekstowych w systemie Unix/Linux; kod źródłowy uruchamiany w środowisku Windows również będzie działał poprawnie;\n",
    "\n",
    "- gdy strumień jest otwarty i zaleca się tak zrobić, jego zawartość jest pobierana tak jak jest, bez żadnej konwersji - żadne bajty nie są dodawane ani pomijane.\n"
   ]
  },
  {
   "cell_type": "markdown",
   "metadata": {},
   "source": [
    "### Otwieranie strumieni\n",
    "\n",
    "Otwarcie strumienia odbywa się za pomocą funkcji, która może być wywołana w następujący sposób:\n",
    "\n",
    "stream = open(plik, tryb = 'r', kodowanie = None)\n",
    "\n",
    "\n",
    "Przeanalizujmy to:\n",
    "\n",
    "-nazwa funkcji (open) mówi sama za siebie; jeśli otwarcie się powiedzie, funkcja zwraca obiekt strumienia; w przeciwnym razie powstaje wyjątek (np. FileNotFoundError jeśli plik, który zamierzasz odczytać, nie istnieje );\n",
    "\n",
    "- pierwszy parametr funkcji (plik) określa nazwę pliku, który ma być powiązany ze strumieniem;\n",
    "\n",
    "- drugi parametr (tryb) określa tryb otwarty używany dla strumienia; jest łańcuchem znaków wypełnionym sekwencją znaków, a każda z nich ma swoje specjalne znaczenie (więcej szczegółów wkrótce);\n",
    "\n",
    "- trzeci parametr (kodowanie) określa typ kodowania (np. UTF-8 podczas pracy z plikami tekstowymi)\n",
    "\n",
    "- otwarcie musi być pierwszą operacją wykonywaną w strumieniu.\n",
    "\n",
    "\n",
    "!!! Uwaga: argumenty tryb i kodowanie można pominąć - przyjmowane są wtedy ich wartości domyślne. Domyślnym trybem otwierania jest odczyt w trybie tekstowym, a domyślne kodowanie zależy od używanej platformy.\n",
    "\n",
    "\n"
   ]
  },
  {
   "cell_type": "markdown",
   "metadata": {},
   "source": [
    "### Otwieranie strumieni: tryby\n",
    "\n",
    "__r__ tryb otwarty: odczyt (ang. read)\n",
    "\n",
    "- strumień zostanie otwarty w trybie odczytu;\n",
    "- plik powiązany ze strumieniem musi istnieć i musi być czytelny, w przeciwnym razie funkcja open() zgłasza wyjątek.\n",
    "\n",
    "__w__ tryb otwarty: zapis (ang. write)\n",
    "\n",
    "- strumień zostanie otwarty w trybie zapisu;\n",
    "- plik powiązany ze strumieniem nie musi istnieć; jeśli nie istnieje, zostanie utworzony; jeśli istnieje, zostanie obcięty do długości zera (skasowany); jeśli utworzenie nie jest możliwe (np. z powodu uprawnień systemu) funkcja open() zgłasza wyjątek.\n",
    "\n",
    "__a__ tryb otwarty: dopisywanie (ang. append)\n",
    "\n",
    "- strumień zostanie otwarty w trybie dopisywania;\n",
    "- plik powiązany ze strumieniem nie musi istnieć; jeśli nie istnieje, zostanie stworzony; jeśli istnieje, wirtualna zapisująca głowica zostanie ustawiona na końcu pliku (poprzednia zawartość pliku pozostaje nietknięta).\n",
    "\n",
    "__r+__ tryb otwarty: odczyt i aktualizacja (ang. read and update)\n",
    "\n",
    "- strumień zostanie otwarty w trybie odczytu i aktualizacji;\n",
    "- plik powiązany ze strumieniem musi istnieć i musi być zapisywalny, w przeciwnym razie funkcja open() zgłasza wyjątek;\n",
    "- zarówno operacje odczytu, jak i zapisu są dozwolone dla strumienia.\n",
    "\n",
    "__w+__ tryb otwarty: zapis i aktualizacja (ang. wirte and update)\n",
    "\n",
    "- strumień zostanie otwarty w trybie zapisu i aktualizacji;\n",
    "- plik powiązany ze strumieniem nie musi istnieć; jeśli nie istnieje, zostanie stworzony; poprzednia zawartość pliku pozostaje nietknięta;\n",
    "- zarówno operacje odczytu, jak i zapisu są dozwolone dla strumienia.\n",
    "\n",
    "\n",
    "#### Wybór trybu tekstu i trybu binarnego\n",
    "Jeśli na końcu łańcucha trybów znajduje się litera b, oznacza to, że strumień ma zostać otwarty w trybie binarnym.\n",
    "\n",
    "Jeśli łańcuch trybu kończy się literą t, strumień jest otwierany w trybie tekstowym.\n",
    "\n",
    "Tryb tekstowy to zachowanie domyślne przyjmowane, gdy nie jest używany specyfikator trybu binarnego/tekstowego.\n",
    "\n",
    "Wreszcie, pomyślne otwarcie pliku ustawi bieżącą pozycję pliku (wirtualną głowicę do odczytu/zapisu) przed pierwszym bajtem pliku jeśli tryb nie jest ustawiony na a i po ostatnim bajcie pliku jeśli tryb jest ustawiony na a.\n",
    "\n",
    "Tryb tekstowy\tTryb binarny\tOpis\n",
    "rt\trb\todczyt\n",
    "wt\twb\tzapis\n",
    "at\tab\tdopisywanie\n",
    "r+t\tr+b\tzapis i zaktualizacja\n",
    "w+t\tw+b\tzapis i zaktualizacja"
   ]
  },
  {
   "cell_type": "markdown",
   "metadata": {},
   "source": [
    "#### Otwarcie strumienia po raz pierwszy\n",
    "\n",
    "\n"
   ]
  },
  {
   "cell_type": "code",
   "execution_count": null,
   "metadata": {},
   "outputs": [],
   "source": [
    "try: \n",
    "    strumien = open(\"C:\\Users\\User\\Desktop\\file.txt\", \"rt\") \n",
    "    # przetwarzanie \n",
    "    strumien.close() \n",
    "except Exception as exc: \n",
    "    print(\"Nie mozna otworzyc pliku:\", exc)\n"
   ]
  },
  {
   "cell_type": "markdown",
   "metadata": {},
   "source": [
    "- otwieramy blok try-except, ponieważ chcemy bezproblemowo obsłużyć błędy środowiska wykonawczego;\n",
    "- używamy funkcji open(), aby spróbować otworzyć określony plik (zwróć uwagę na sposób, w jaki określiliśmy nazwę pliku)\n",
    "- tryb otwarty jest zdefiniowany jako tekst do odczytania (ponieważ tekst jest __ustawieniem_domyślnym__, możemy pominąć t w łańcuchu trybu)\n",
    "- w przypadku pomyślnego działania otrzymujemy obiekt z funkcji open() i przypisujemy go do zmiennej strumienia;\n",
    "- jeśli open() nie powiedzie się, zajmujemy się obsługą wyjątku podającego pełną informację o błędzie (zdecydowanie dobrze jest wiedzieć, co dokładnie się stało)\n"
   ]
  },
  {
   "cell_type": "markdown",
   "metadata": {},
   "source": [
    "Powiedzieliśmy wcześniej, że każda operacja strumienia musi być poprzedzona wywołaniem funkcji open(). Istnieją trzy dobrze zdefiniowane wyjątki od tej reguły.\n",
    "\n",
    "Po uruchomieniu naszego programu trzy strumienie są już otwarte i nie wymagają żadnych dodatkowych przygotowań. Co więcej, twój program może użyć tych strumieni jawnie, jeśli zajmiesz się importem modułu sys:\n",
    "\n",
    "import sys\n",
    "\n",
    "\n",
    "ponieważ właśnie tam znajduje się deklaracja trzech strumieni.\n",
    "\n",
    "\n",
    "\n",
    "Nazwy tych strumieni to:\n",
    "#### sys.stdin, sys.stdout i sys.stderr.\n",
    "\n",
    "Przeanalizujmy je:\n",
    "\n",
    "sys.stdin\n",
    "- stdin (czyli standard input)\n",
    "- strumień stdin jest zwykle związany z klawiaturą, wstępnie otwarty do odczytu i traktowany jako główne źródło danych dla uruchomionych programów;\n",
    "- dobrze znana funkcja input() domyślnie odczytuje dane z stdin.\n",
    "\n",
    "sys.stdout\n",
    "- stdout (czyli standard output)\n",
    "- strumień stdout jest zwykle związany z ekranem, wstępnie otwarty do zapisu, uważany za główny cel dla wyprowadzania danych przez działający program;\n",
    "- dobrze znana funkcja print() przekazuje dane do strumienia stdout.\n",
    "\n",
    "sys.stderr\n",
    "- stderr (czyli standard error output)\n",
    "- strumień stderr jest zwykle związany z ekranem, wstępnie otwarty do zapisu, uważany za główne miejsce, do którego uruchomiony program powinien przesyłać informacje o błędach napotkanych podczas pracy;\n",
    "- nie przedstawiliśmy żadnej metody wysyłania danych do tego strumienia (zrobimy to wkrótce, obiecujemy)\n",
    "- separacja stdout (użyteczne wyniki generowane przez program) od stderr (komunikaty o błędach, niezaprzeczalnie użyteczne, ale nie dostarczają wyników) daje możliwość przekierowania tych dwóch rodzajów informacji do różnych miejsc docelowych. Szersze omówienie tego problemu wykracza poza zakres naszego kursu. Podręcznik systemu operacyjnego poda więcej informacji na temat tego zagadnienia\n",
    "\n",
    "\n",
    "NIE WYMAGAJA ONE ZAMKNIECIA"
   ]
  },
  {
   "cell_type": "markdown",
   "metadata": {},
   "source": [
    "#### zamykanie strumieni \n",
    "\n",
    "a czynność jest wykonywana za pomocą metody wywoływanej z obiektu otwartego strumienia: stream.close().\n",
    "\n",
    "\n",
    "- nazwa funkcji mówi sama za siebie (close())\n",
    "- funkcja nie oczekuje żadnych argumentów; strumienia nie - trzeba otwierać\n",
    "- funkcja nie zwraca nic, ale w razie błędu zgłasza wyjątek IOError;\n",
    "- większość programistów uważa, że funkcja close() zawsze kończy się sukcesem i dlatego nie ma potrzeby sprawdzania, czy poprawnie wykonała ona swoje zadanie.\n",
    "\n",
    "\n",
    "\n",
    "To przekonanie jest tylko częściowo uzasadnione. Jeśli strumień został otwarty do zapisu, a następnie przeprowadzono serię operacji zapisu, może się zdarzyć, że dane wysłane do strumienia nie zostały jeszcze przesłane do urządzenia fizycznego (z powodu mechanizmu zwanego __cachowaniem__ lub __buforowaniem__).\n",
    "\n",
    "Ponieważ zamknięcie strumienia zmusza bufory do ich opróżnienia, może się zdarzyć, że opróżnienie się nie powiedzie i dlatego też close() również się nie powiedzie.\n"
   ]
  },
  {
   "cell_type": "markdown",
   "metadata": {},
   "source": [
    "#### Diagnozowanie problemow strumieni\n",
    "\n",
    "\n",
    "Obiekt IOError jest wyposażony we właściwość o nazwie __errno__ (nazwa pochodzi od frazy error number) i można uzyskać do niego dostęp w ten sposób:\n",
    "\n",
    "try:\n",
    "    # operacje strumieniowe\n",
    "exept IOError as exc:\n",
    "    print(exc.errno)\n",
    "\n",
    "\n",
    "Wartość atrybutu errno można porównać z jedną z predefiniowanych stałych symbolicznych zdefiniowanych w module errno.\n",
    "\n",
    "\n",
    "\n",
    "Rzućmy okiem na wybrane stałe przydatne do wykrywania błędów strumienia:\n",
    "\n",
    "- errno.EACCES → Permission denied\n",
    "\n",
    "Błąd występuje, gdy próbujesz na przykład otworzyć plik z atrybutem tylko do odczytu do zapisu.\n",
    "\n",
    "- errno.EBADF → Bad file number\n",
    "\n",
    "Błąd występuje, gdy próbujesz na przykład działać na nieotwartym strumieniu.\n",
    "\n",
    "- errno.EEXIST → File exists\n",
    " \n",
    "Błąd występuje, gdy próbujesz na przykład zmienić nazwę pliku na poprzednią nazwę.\n",
    "\n",
    "- errno.EFBIG → File too large\n",
    "\n",
    "Błąd występuje, gdy próbujesz utworzyć plik większy niż maksymalny dozwolony przez system operacyjny.\n",
    "\n",
    "- errno.EISDIR → Is a directory\n",
    "\n",
    "Błąd występuje, gdy próbujesz traktować nazwę katalogu jako nazwę zwykłego pliku.\n",
    "\n",
    "- errno.EMFILE → Too many open files\n",
    "\n",
    "Błąd występuje, gdy próbujesz otworzyć jednocześnie więcej strumieni niż jest to dozwolone dla twojego systemu operacyjnego.\n",
    "\n",
    "- errno.ENOENT → No such file or directory\n",
    "\n",
    "Błąd występuje, gdy próbujesz uzyskać dostęp do nieistniejącego pliku/katalogu.\n",
    "\n",
    "- errno.ENOSPC → No space left on device\n",
    "\n",
    "Błąd występuje, gdy na nośniku nie ma wolnego miejsca.\n",
    "Pełna lista jest znacznie dłuższa (zawiera również kody błędów niezwiązane z przetwarzaniem strumienia.)\n"
   ]
  },
  {
   "cell_type": "markdown",
   "metadata": {},
   "source": [
    "istnieje funkcja, która może znacznie uprościć kod obsługi błędów\n",
    "\n",
    "- Ma nazwę __strerror()__ i pochodzi z modułu os, a ponadto wymaga ona tylko jednego argumentu - numeru błędu.\n",
    "\n",
    "\n",
    "!!!! Uwaga: jeśli przekażesz nieistniejący kod błędu (numer, który nie jest związany z żadnym faktycznym błędem), funkcja zgłosi wyjątek ValueError."
   ]
  },
  {
   "cell_type": "code",
   "execution_count": null,
   "metadata": {},
   "outputs": [],
   "source": [
    "import errno \n",
    "\n",
    "try: \n",
    "    s = open(\"c:/users/user/Desktop/file.txt\", \"rt\") \n",
    "    # rzeczywiste przetwarzanie \n",
    "    s.close() \n",
    "except Exception as exc: \n",
    "    if exc.errno == errno.ENOENT: \n",
    "        print(\"Plik nie istnieje.\") \n",
    "    elif exc.errno == errno.EMFILE: \n",
    "        print(\"Otworzyles zbyt wiele plikow.\") \n",
    "    else: \n",
    "        print(\"Numer bledu to:\", exc.errno)\n"
   ]
  },
  {
   "cell_type": "markdown",
   "metadata": {},
   "source": [
    "Teraz możemy uprościć nasz kod w następujący sposób"
   ]
  },
  {
   "cell_type": "code",
   "execution_count": null,
   "metadata": {},
   "outputs": [],
   "source": [
    "from os import strerror\n",
    "\n",
    "try: \n",
    "    s = open(\"c:/users/user/Desktop/file.txt\", \"rt\") \n",
    "    # rzeczywiste przetwarzanie \n",
    "    s.close() \n",
    "except Exception as exc: \n",
    "    print(\"Plik nie mogl zostac otwarty:\", strerror(exc.errno))\n"
   ]
  },
  {
   "cell_type": "markdown",
   "metadata": {},
   "source": [
    "Kluczowe zagadnienia\n",
    "\n",
    "1. Plik musi być otwarty, zanim będzie mógł zostać przetworzony przez program, i powinien zostać zamknięty po zakończeniu przetwarzania.\n",
    "\n",
    "Otwarcie pliku wiąże go ze strumieniem, który jest abstrakcyjną reprezentacją fizycznych danych przechowywanych na nośniku. Sposób przetwarzania strumienia nazywany jest trybem otwartym. Istnieją trzy otwarte tryby:\n",
    "\n",
    "tryb odczytu - dozwolone są tylko operacje odczytu;\n",
    "tryb zapisu - dozwolone są tylko operacje zapisu;\n",
    "tryb aktualizacji - dozwolone są zarówno zapisy, jak i odczyty.\n",
    "\n",
    "2. W zależności od zawartości pliku fizycznego do przetwarzania plików można używać różnych klas języka Python. Ogólnie rzecz biorąc, BufferedIOBase jest w stanie przetworzyć dowolny plik, podczas gdy TextIOBase jest wyspecjalizowaną klasą przeznaczoną do przetwarzania plików tekstowych (tj. plików zawierających tekst widoczny dla człowieka podzielony na linie przy użyciu markerów nowych linii). W ten sposób strumienie można podzielić na binarne i tekstowe.\n",
    "\n",
    "\n",
    "3. Do otwarcia pliku używana jest następująca składnia funkcji open():\n",
    "\n",
    "open(nazwa_pliku, mode=open_mode, encoding=kodowanie_tekstu)\n",
    "\n",
    "Wywołanie tworzy obiekt strumienia i kojarzy go z plikiem o nazwie nazwa_pliku, używając określonego trybu open_mode i ustawiając określone kodowanie tekstu kodowanie_tekstu lub zgłasza wyjątek w przypadku błędu.\n",
    "\n",
    "\n",
    "4. Trzy predefiniowane strumienie są już otwarte w momencie uruchomienia programu:\n",
    "\n",
    "sys.stdin – standardowe wejście;\n",
    "sys.stdout – standardowe wyjście;\n",
    "sys.stderr – standardowy błąd wyjścia.\n",
    "\n",
    "4. Obiekt wyjątku IOError, tworzony w przypadku niepowodzenia jakichkolwiek operacji na plikach (w tym operacji otwierania), zawiera właściwość o nazwie errno, która zawiera kod zakończenia akcji zakończonej niepowodzeniem. Użyj tej wartości, aby zdiagnozować problem.\n",
    "\n",
    "\n",
    "\n",
    "Ćwiczenie 1\n",
    "\n",
    "Jak zakodować wartość argumentu tryb funkcji open(), jeśli zamierzasz utworzyć nowy plik tekstowy, aby wypełnić go tylko artykułem?\n",
    "\n",
    "Sprawdź\n",
    "\"wt\" lub \"w\"\n",
    "\n",
    "\n",
    "\n",
    "Ćwiczenie 2\n",
    "\n",
    "Jakie jest znaczenie wartości reprezentowanej przez errno.EACCES?\n",
    "\n",
    "Sprawdź\n",
    "Odmowa dostępu: nie masz dostępu do zawartości pliku.\n",
    "\n",
    "\n",
    "\n",
    "Ćwiczenie 3\n",
    "\n",
    "Jakie jest oczekiwane wyjście następującego kodu, zakładając, że plik o nazwie plik nie istnieje?\n",
    "\n",
    "import errno\n",
    "\n",
    "try:\n",
    "    stream = open(\"plik\", \"rb\")\n",
    "    print(\"istniejacy\")\n",
    "    stream.close()\n",
    "except IOError as error:\n",
    "    if error.errno == errno.ENOENT:\n",
    "        print(\"nieobecny\")\n",
    "    else:\n",
    "        print(\"nieznany\")\n",
    "\n",
    "\n",
    "Sprawdź\n",
    "nieobecny\n"
   ]
  },
  {
   "cell_type": "markdown",
   "metadata": {},
   "source": [
    "Jeśli twoje pliki tekstowe zawierają znaki diakrytyczne nieobjęte standardowym zestawem znaków ASCII, możesz potrzebować dodatkowego kroku. Twoje wywołanie funkcji open() może wymagać argumentu oznaczającego określone kodowanie tekstu.\n",
    "\n",
    "Na przykład, jeśli używasz systemu operacyjnego Unix/Linux skonfigurowanego do używania UTF-8 jako ustawienia ogólnosystemowego, funkcja open() może wyglądać następująco:\n",
    "\n",
    "strumien = open('file.txt', 'rt', encoding='utf-8')\n",
    "\n",
    "!!!! Zapoznaj się z dokumentacją systemu operacyjnego, aby znaleźć nazwę kodowania odpowiednią dla twojego środowiska.\n",
    "\n"
   ]
  },
  {
   "cell_type": "code",
   "execution_count": null,
   "metadata": {},
   "outputs": [],
   "source": [
    "from os import strerror\n",
    "\n",
    "try:\n",
    "    licznik = 0\n",
    "    s = open('text.txt', \"rt\")\n",
    "    zn = s.read(1)\n",
    "    while zn != '':\n",
    "        print(zn, end='')\n",
    "        licznik += 1\n",
    "        zn = s.read(1)\n",
    "    s.close()\n",
    "    print(\"\\n\\Znaki w pliku:\", licznik)\n",
    "except IOError as e:\n",
    "    print(\"Blad I/O: \", strerr(e.errno))\n"
   ]
  },
  {
   "cell_type": "markdown",
   "metadata": {},
   "source": [
    "Procedura jest raczej prosta:\n",
    "\n",
    "użyj mechanizmu try-except i otwórz plik o wcześniej określonej nazwie (text.txt w naszym przypadku)\n",
    "spróbuj odczytać pierwszy znak z pliku (zn=s.read(1))\n",
    "jeśli ci się uda (jest to potwierdzone pozytywnym wynikiem sprawdzenia warunku while), podaj znak (zwróć uwagę na argument end= - to ważne! Nie chcesz przejść do nowej linii po każdym znaku!)\n",
    "zaktualizuj także licznik (licznik);\n",
    "Spróbuj odczytać następny znak, proces się powtarza.\n",
    "\n"
   ]
  },
  {
   "cell_type": "markdown",
   "metadata": {},
   "source": [
    "Jeśli masz absolutną pewność, że długość pliku jest bezpieczna i możesz od razu odczytać cały plik do pamięci, możesz to zrobić - funkcja read(), wywołaną bez żadnych argumentów lub z argumentem, który wyświetla None, wykona to zadanie za ciebie.\n",
    "\n",
    "!!!! Pamiętaj - odczytanie pliku długiego na terabajt za pomocą tej metody może spowodować zaburzenie twojego systemu operacyjnego ."
   ]
  },
  {
   "cell_type": "code",
   "execution_count": null,
   "metadata": {},
   "outputs": [],
   "source": [
    "from os import strerror\n",
    "\n",
    "try:\n",
    "    cnt = 0\n",
    "    s = open('text.txt', \"rt\")\n",
    "    content = s.read()\n",
    "    for ch in content:\n",
    "        print(ch, end='')\n",
    "        cnt += 1\n",
    "    s.close()\n",
    "    print(\"\\n\\nZnaki w pliku:\", cnt)\n",
    "except IOError as e:\n",
    "    print(\"I/O error occurred: \", strerror(e.errno))\n"
   ]
  },
  {
   "cell_type": "markdown",
   "metadata": {},
   "source": [
    "__readline()__\n",
    "\n",
    "- Jeśli chcesz potraktować zawartość pliku jako zbiór linii, a nie garść znaków, to pomoże ci metoda readline().\n",
    "\n",
    "Metoda ta próbuje odczytać kompletną linię tekstu z pliku i w przypadku powodzenia, zwraca ją jako łańcuch znaków. W przeciwnym razie zwraca pusty łańcuch znaków."
   ]
  },
  {
   "cell_type": "code",
   "execution_count": 4,
   "metadata": {},
   "outputs": [
    {
     "name": "stdout",
     "output_type": "stream",
     "text": [
      "Blad I/O: No such file or directory\n"
     ]
    }
   ],
   "source": [
    "from os import strerror\n",
    "\n",
    "try:\n",
    "    licznikzn = licznikl = 0\n",
    "    s = open('text.txt', 'rt')\n",
    "    linia = s.readline()\n",
    "    while linia != '':\n",
    "        licznikl += 1\n",
    "        for zn in linia:\n",
    "            print(zn, end='')\n",
    "            licznikzn += 1\n",
    "        linia = s.readline()\n",
    "    s.close()\n",
    "    print(\"\\n\\nZnaki w pliku:\", licznikzn)\n",
    "    print(\"Linie w pliku:     \", licznikl)\n",
    "except IOError as e:\n",
    "    print(\"Blad I/O:\", strerror(e.errno))\n"
   ]
  },
  {
   "cell_type": "markdown",
   "metadata": {},
   "source": [
    "__readlines()__\n",
    "\n",
    "Jeśli nie jesteś pewien, czy rozmiar pliku jest wystarczająco mały i nie chcesz testować systemu operacyjnego, możesz przekonać metodę readlines(), aby odczytać nie więcej niż określoną liczbę bajtów na raz (zwracana wartość pozostaje taka sama - jest to lista łańcucha znaków).\n",
    "\n",
    "- Maksymalny dozwolony rozmiar bufora wejściowego jest przekazywany do metody jako jej argument.\n",
    "\n",
    "!!!!!!! Uwaga: gdy nie ma nic do odczytania z pliku, metoda zwraca pustą listę. Użyj jej, aby wykryć koniec pliku.\n",
    "\n",
    "\n",
    "Jeśli chodzi o rozmiar bufora, możesz się spodziewać, że jego zwiększenie może poprawić wydajność wejściową, ale nie ma tu złotej reguły - spróbuj sam znaleźć optymalne wartości.\n",
    "\n",
    "\n"
   ]
  },
  {
   "cell_type": "code",
   "execution_count": null,
   "metadata": {},
   "outputs": [],
   "source": [
    "s = open(\"text.txt\")\n",
    "print(s.readlines(20))\n",
    "print(s.readlines(50))\n",
    "\n",
    "s.close()\n"
   ]
  },
  {
   "cell_type": "code",
   "execution_count": null,
   "metadata": {},
   "outputs": [],
   "source": [
    "from os import strerror\n",
    "\n",
    "try:\n",
    "    licznikzn = licznikl = 0\n",
    "    s = open('text.txt', 'rt')\n",
    "    linie = s.readlines(20)\n",
    "    while len(linie) != 0:\n",
    "        for linia in linie:\n",
    "            licznikl += 1\n",
    "            for zn in linia:\n",
    "                print(zn, end='')\n",
    "                licznikzn += 1\n",
    "        linie = s.readlines(10)\n",
    "    s.close()\n",
    "    print(\"\\n\\nZnaki w pliku:\", licznikzn)\n",
    "    print(\"Linie w pliku:     \", licznikl)\n",
    "except IOError as e:\n",
    "    print(\"Blad I/O:\", strerror(e.errno))\n"
   ]
  },
  {
   "cell_type": "markdown",
   "metadata": {},
   "source": [
    "- W kodzie znajdują się dwie zagnieżdżone pętle: zewnętrzna używa wyniku readlines() do iteracji, podczas gdy wewnętrzna wyświetla linie znak po znaku."
   ]
  },
  {
   "cell_type": "markdown",
   "metadata": {},
   "source": [
    " obiekt jest instancją klasy iterowalnej.\n",
    "\n",
    "Dziwne? Ani trochę! Przydatne? Tak, jak najbardziej.\n",
    "\n",
    "Protokół iteracji zdefiniowany dla obiektu pliku jest bardzo prosty - jego metoda __next__ po prostu zwraca następną linię odczytaną z pliku.\n",
    "\n",
    "Co więcej, możesz oczekiwać, że obiekt automatycznie wywoła close(), gdy któryś z odczytów plików dotrze do końca pliku.\n",
    "\n",
    "Spójrz na edytor i zobacz, jak prosty i przejrzysty stał się kod."
   ]
  },
  {
   "cell_type": "code",
   "execution_count": null,
   "metadata": {},
   "outputs": [],
   "source": [
    "from os import strerror\n",
    "\n",
    "try:\n",
    "\tlicznikzn = licznikl = 0\n",
    "\tfor linia in open('text.txt', 'rt'):\n",
    "\t\tlicznikl += 1\n",
    "\t\tfor zn in linia:\n",
    "\t\t\tprint(zn, end='')\n",
    "\t\t\tlicznikzn += 1\n",
    "\tprint(\"\\n\\nZnaki w pliku:\", licznikzn)\n",
    "\tprint(\"Linie w pliku:     \", licznikl)\n",
    "except IOError as e:\n",
    "\tprint(\"Blad I/O: \", strerror(e.errno))\n"
   ]
  },
  {
   "cell_type": "markdown",
   "metadata": {},
   "source": [
    "#### write()\n",
    "\n",
    "Metoda ta nazywa się write() i wymaga tylko jednego argumentu - łańcucha znaków, który zostanie przesłany do otwartego pliku (nie zapomnij - tryb otwarty powinien odzwierciedlać sposób, w jaki dane zostają przeniesione - zapisanie pliku otwartego w trybie odczytu nie powiedzie się).\n",
    "\n",
    "Do argumentu write() nie jest dodawany znak nowego wiersza, więc musisz go dodać, jeśli chcesz, aby plik był wypełniony jakąś liczbą linii.\n",
    "\n",
    "- Przykład w edytorze pokazuje bardzo prosty kod, który tworzy plik o nazwie nowytxt.txt (uwaga: tryb otwarty w zapewnia, że plik zostanie utworzony od nowa, nawet jeśli już istnieje i zawiera dane), a następnie umieszcza w nim dziesięć linii.\n",
    "\n"
   ]
  },
  {
   "cell_type": "code",
   "execution_count": 3,
   "metadata": {},
   "outputs": [
    {
     "name": "stdout",
     "output_type": "stream",
     "text": [
      "linia #1\n",
      "linia #2\n",
      "linia #3\n",
      "linia #4\n",
      "linia #5\n",
      "linia #6\n",
      "linia #7\n",
      "linia #8\n",
      "linia #9\n",
      "linia #10\n",
      "\n",
      "\n",
      "Znaki w pliku: 91\n",
      "Linie w pliku:      10\n"
     ]
    }
   ],
   "source": [
    "\n",
    "try:\n",
    "\totworzplik = open('nowytxt.txt', 'wt') # utworono nowy plik (nowytxt.txt)\n",
    "\tfor i in range(10):\n",
    "\t\ts = \"linia #\" + str(i+1) + \"\\n\"\n",
    "\t\tfor zn in s:\n",
    "\t\t\totworzplik.write(zn)\n",
    "\totworzplik.close()\n",
    "except IOError as e:\n",
    "\tprint(\"Blad I/O: \", strerror(e.errno))\n",
    "\n",
    "\n",
    "try:\n",
    "\tlicznikzn = licznikl = 0\n",
    "\tfor linia in open('nowytxt.txt', 'rt'):\n",
    "\t\tlicznikl += 1\n",
    "\t\tfor zn in linia:\n",
    "\t\t\tprint(zn, end='')\n",
    "\t\t\tlicznikzn += 1\n",
    "\tprint(\"\\n\\nZnaki w pliku:\", licznikzn)\n",
    "\tprint(\"Linie w pliku:     \", licznikl)\n",
    "except IOError as e:\n",
    "\tprint(\"Blad I/O: \", strerror(e.errno))"
   ]
  },
  {
   "cell_type": "markdown",
   "metadata": {},
   "source": [
    "Spójrz na przykład w edytorze. Zmodyfikowaliśmy poprzedni kod, aby zapisać całe linie do pliku tekstowego.\n",
    "\n",
    "\n",
    "\n",
    "!!!!! Uwaga: możesz użyć tej samej metody do zapisu w strumieniu stderr, ale nie próbuj jej otwierać, ponieważ jest ona zawsze otwarta niejawnie.\n",
    "\n",
    "Na przykład, jeśli chcesz wysłać łańcuch znaków do stderr w celu odróżnienia go od normalnego wyniku programu, może to wyglądać tak:\n",
    "\n",
    "import sys \n",
    "sys.stderr.write(\"Komunikat o bledzie\")\n",
    "\n",
    "\n",
    "print(\"Blad I/O: \", strerr(e.errno))\n",
    "\n",
    "\n",
    "\n"
   ]
  },
  {
   "cell_type": "code",
   "execution_count": 3,
   "metadata": {},
   "outputs": [
    {
     "name": "stdout",
     "output_type": "stream",
     "text": [
      "linia #1\n",
      "linia #2\n",
      "linia #3\n",
      "linia #4\n",
      "linia #5\n",
      "linia #6\n",
      "linia #7\n",
      "linia #8\n",
      "linia #9\n",
      "linia #10\n",
      "\n",
      "\n",
      "Znaki w pliku: 91\n",
      "Linie w pliku:      10\n"
     ]
    }
   ],
   "source": [
    "from os import strerror\n",
    "\n",
    "try:\n",
    "\totworzplik = open('nowytxt.txt', 'wt')\n",
    "\tfor i in range(10):\n",
    "\t\totworzplik.write(\"linia #\" + str(i+1) + \"\\n\")\n",
    "\totworzplik.close()\n",
    "except IOError as e:\n",
    "\tprint(\"Blad I/O: \", strerror(e.errno))\n",
    "\n",
    "\n",
    "try:\n",
    "\tlicznikzn = licznikl = 0\n",
    "\tfor linia in open('nowytxt.txt', 'rt'):\n",
    "\t\tlicznikl += 1\n",
    "\t\tfor zn in linia:\n",
    "\t\t\tprint(zn, end='')\n",
    "\t\t\tlicznikzn += 1\n",
    "\tprint(\"\\n\\nZnaki w pliku:\", licznikzn)\n",
    "\tprint(\"Linie w pliku:     \", licznikl)\n",
    "except IOError as e:\n",
    "\tprint(\"Blad I/O: \", strerror(e.errno))\n"
   ]
  },
  {
   "cell_type": "markdown",
   "metadata": {},
   "source": [
    "### Bytearray - tablica bajtów\n",
    "\n",
    "Zanim zaczniemy mówić o plikach binarnych, musimy opowiedzieć ci o jednej ze specjalistycznych klas używanych przez język Python do przechowywania bezpostaciowych danych.\n",
    "\n",
    "__Dane_bezpostaciowe__ - Dane bezpostaciowe to dane, które nie mają określonego kształtu ani formy - to tylko seria bajtów.\n",
    "\n",
    "Nie oznacza to, że te bajty nie mogą mieć własnego znaczenia lub nie mogą reprezentować żadnego użytecznego obiektu, np. grafiki bitmapowej.\n",
    "\n",
    "Najważniejszym aspektem jest to, że w miejscu, w którym mamy kontakt z danymi, nie jesteśmy w stanie, lub po prostu nie chcemy, dowiedzieć się niczego na ich temat.\n",
    "\n",
    "Amorficzne dane nie mogą być przechowywane przy użyciu żadnego z wcześniej prezentowanych środków - nie są one ani ciągami ani listami.\n",
    "\n",
    "Powinien istnieć specjalny byt zdolny do obsługi takich danych.\n",
    "\n",
    "- Język Python ma więcej niż jeden taki byt - jednym z nich jest specjalistyczna klasa o nazwie bytearray - jak sama nazwa wskazuje, to tablica zawierająca (amorficzne) bajty.\n",
    "\n",
    "\n"
   ]
  },
  {
   "cell_type": "markdown",
   "metadata": {},
   "source": [
    "Jeśli chcesz mieć taki byt, np. aby odczytać obraz bitmapowy i przetworzyć go w jakikolwiek sposób, musisz go utworzyć jawnie, używając jednego z dostępnych konstruktorów.\n",
    "\n",
    "Zobacz:\n",
    "\n",
    "data = bytearray(10)\n",
    "\n",
    "\n",
    "Takie wywołanie tworzy obiekt bytearray, który może przechowywać dziesięć bajtów.\n",
    "\n",
    "Uwaga: taki konstruktor wypełnia całą tablicę zerami."
   ]
  },
  {
   "cell_type": "markdown",
   "metadata": {},
   "source": [
    "Bytearray przypomina listę pod wieloma względami. Na przykład jest mutowalna, jest przedmiotem funkcji len() i można uzyskać dostęp do jej elementów za pomocą konwencjonalnego indeksowania.\n",
    "\n",
    "Jest jedno ważne ograniczenie - nie możesz ustawiać żadnych elementów tablicy bajtowej o wartości, która nie jest liczbą całkowitą (naruszenie tej reguły spowoduje wyjątek TypeError) i nie możesz przypisać wartości, która nie pochodzi z zakresu od 0 do 255 włącznie (chyba że chcemy sprowokować wyjątek ValueError.)\n",
    "\n",
    "Możesz traktować elementy tablicy bajtowej jako wartości całkowite - tak jak w przykładzie w edytorze.\n",
    "\n",
    "Uwaga: użyliśmy dwóch metod do iteracji tablic bajtowych i skorzystaliśmy z funkcji hex(), aby zobaczyć elementy wydrukowane jako wartości szesnastkowe.\n",
    "\n",
    "Teraz pokażemy ci jak zapisać tablicę bajtów do pliku binarnego - binarnego, ponieważ nie chcemy zapisać jej czytelnej reprezentacji - chcemy zapisać kopię jeden do jednego zawartości pamięci fizycznej, bajt po bajcie.\n",
    "\n",
    "\n"
   ]
  },
  {
   "cell_type": "markdown",
   "metadata": {},
   "source": [
    "zapisanie tablicy bajtów w pliku binarnym"
   ]
  },
  {
   "cell_type": "code",
   "execution_count": 5,
   "metadata": {},
   "outputs": [
    {
     "name": "stdout",
     "output_type": "stream",
     "text": [
      "0xa 0xb 0xc 0xd 0xe 0xf 0x10 0x11 0x12 0x13 "
     ]
    }
   ],
   "source": [
    "from os import strerror\n",
    "\n",
    "dane = bytearray(10)\n",
    "\n",
    "for i in range(len(dane)):\n",
    "    dane[i] = 10 + i\n",
    "\n",
    "try:\n",
    "    bf = open('file.bin', 'wb')\n",
    "    bf.write(dane)\n",
    "    bf.close()\n",
    "except IOError as e:\n",
    "    print(\"Blad I/O:\", strerror(e.errno))\n",
    "   \n",
    "# wprowadz tutaj kod, ktory odczytuje bajty ze strumienia\n",
    "\n",
    "dane = bytearray(10)\n",
    "\n",
    "try:\n",
    "    bf = open('file.bin', 'rb')\n",
    "    bf.readinto(dane)\n",
    "    bf.close()\n",
    "\n",
    "    for b in dane:\n",
    "        print(hex(b), end=' ')\n",
    "except IOError as e:\n",
    "    print(\"Blad I/O:\", strerror(e.errno))"
   ]
  },
  {
   "cell_type": "markdown",
   "metadata": {},
   "source": [
    "- najpierw zainicjalizujemy bytearray z kolejnymi wartościami począwszy od 10; jeśli chcesz, aby zawartość pliku była czytelna, zamień 10 na coś takiego jak ord('a') - spowoduje to utworzenie bajtów zawierających wartości odpowiadające alfabetycznej części kodu ASCII (nie myśl, że sprawi to, że plik będzie plikiem tekstowym - nadal jest binarny, ponieważ został utworzony z oznaczeniem wb);\n",
    "- następnie tworzymy plik za pomocą funkcji open() jedyną różnicą w stosunku do poprzednich wariantów jest tryb otwarty zawierający flagę b;\n",
    "- metoda write() przyjmuje swój argument (bytearray) i wysyła go (jako całość) do pliku;\n",
    "- strumień jest następnie zamykany w sposób rutynowy.\n",
    "\n",
    "#### Jak odczytać bajty ze strumienia\n",
    "\n",
    "Odczyt z pliku binarnego wymaga użycia wyspecjalizowanej nazwy metody readinto(), ponieważ metoda nie tworzy nowego obiektu tablicy bajtowej, ale wypełnia poprzednio utworzony obiekt wartościami zaczerpniętymi z pliku binarnego.\n",
    "\n",
    "Uwaga:\n",
    "\n",
    "metoda zwraca liczbę poprawnie odczytanych bajtów;\n",
    "metoda próbuje wypełnić całą dostępną przestrzeń wewnątrz argumentu; jeśli w pliku znajduje się więcej danych niż miejsca, operacja odczytu zatrzyma się przed końcem pliku; w przeciwnym razie wynik metody może wskazywać, że tablica bajtów została tylko częściowo wypełniona (wynik także ci to pokaże, a część tablicy, która nie jest używana przez nowo odczytaną zawartość, pozostaje nietknięta)\n",
    "\n",
    "Przeanalizujmy to:\n",
    "\n",
    "najpierw otwieramy plik (ten, który utworzyłeś używając poprzedniego kodu) w trybie opisanym jako rb;\n",
    "następnie wczytujemy jego zawartość do tablicy bajtów o nazwie data, o rozmiarze dziesięć bajtów;\n",
    "na końcu wyświetlamy zawartość tablicy bajtów - czy jest taka, jak się spodziewałeś?"
   ]
  },
  {
   "cell_type": "markdown",
   "metadata": {},
   "source": [
    "Alternatywny sposób odczytania zawartości pliku binarnego jest oferowany przez metodę o nazwie read().\n",
    "\n",
    "Wywołana bez argumentów, próbuje wczytać całą zawartość pliku do pamięci, czyniąc ją częścią nowo utworzonego obiektu klasy bajtów.\n",
    "\n",
    "Ta klasa ma pewne podobieństwa do bytearray, z wyjątkiem jednej znaczącej różnicy - jest niemutowalna.\n",
    "\n",
    "Na szczęście nie ma przeszkód w tworzeniu tablicy bajtów poprzez wzięcie jej początkowej wartości bezpośrednio z obiektu bajtów, tak jak tutaj:\n",
    "\n",
    "from os import strerror\n",
    "\n",
    "try:\n",
    "    bf = open('file.bin', 'rb')\n",
    "    dane = bytearray(bf.read())\n",
    "    bf.close()\n",
    "\n",
    "    for b in dane:\n",
    "        print(hex(b), end=' ')\n",
    "\n",
    "except IOError as e:\n",
    "    print(\"Blad I/O:\", strerr(e.errno))\n",
    "\n",
    "\n",
    "Uważaj - nie używaj tego rodzaju odczytu, jeśli nie masz pewności, że zawartość pliku pasuje do dostępnej pamięci.\n",
    "\n",
    "\n",
    "\n",
    " \n",
    " Sandbox\n",
    "Code\n",
    "from os import strerror\n",
    "\n",
    "dane = bytearray(10)\n",
    "\n",
    "for i in range(len(dane)):\n",
    "dane[i] = 10 + i\n",
    "\n",
    "try:\n",
    "bf = open('file.bin', 'wb')\n",
    "bf.write(dane)\n",
    "bf.close()\n",
    "except IOError as e:\n",
    "print(\"Blad I/O:\", strerr(e.errno))\n",
    "\n",
    "\n",
    "wprowadz tutaj kod, który odczytuje bajty ze strumienia\n",
    "\n",
    "from os import strerror\n",
    "\n",
    "\n",
    "Console \n"
   ]
  },
  {
   "cell_type": "code",
   "execution_count": null,
   "metadata": {},
   "outputs": [],
   "source": [
    "from os import strerror\n",
    "\n",
    "dane = bytearray(10)\n",
    "\n",
    "for i in range(len(dane)):\n",
    "    dane[i] = 10 + i\n",
    "\n",
    "try:\n",
    "    bf = open('file.bin', 'wb')\n",
    "    bf.write(dane)\n",
    "    bf.close()\n",
    "except IOError as e:\n",
    "    print(\"Blad I/O:\", strerr(e.errno))\n",
    "\n",
    "# wprowadz tutaj kod, który odczytuje bajty ze strumienia\n"
   ]
  },
  {
   "cell_type": "markdown",
   "metadata": {},
   "source": [
    "Jeśli metoda read() zostanie wywołana z argumentem, to określa maksymalną liczbę bajtów do odczytania.\n",
    "\n",
    "Metoda próbuje odczytać żądaną liczbę bajtów z pliku, a długość zwróconego obiektu można wykorzystać do określenia liczby faktycznie odczytanych bajtów.\n",
    "\n",
    "Możesz użyć tej metody tak jak tutaj:"
   ]
  },
  {
   "cell_type": "code",
   "execution_count": null,
   "metadata": {},
   "outputs": [],
   "source": [
    "try:\n",
    "    bf = open('file.bin', 'rb')\n",
    "    dane = bytearray(bf.read(5))\n",
    "    bf.close()\n",
    "\n",
    "    for b in dane:\n",
    "        print(hex(b), end=' ')\n",
    "\n",
    "except IOError as e:\n",
    "    print(\"Blad I/O:\", strerr(e.errno))\n"
   ]
  },
  {
   "cell_type": "markdown",
   "metadata": {},
   "source": [
    "!!! Uwaga: pierwsze pięć bajtów pliku zostało odczytanych przez kod - następne pięć nadal czeka na przetworzenie."
   ]
  },
  {
   "cell_type": "markdown",
   "metadata": {},
   "source": [
    "Urzadzenie do kopiowania plikow"
   ]
  },
  {
   "cell_type": "code",
   "execution_count": 6,
   "metadata": {},
   "outputs": [],
   "source": [
    "from os import strerror\n",
    "\n",
    "exiname = input(\"Wprowadz nazwe pliku zrodlowego: \")\n",
    "try:\n",
    "    src = open(exiname, 'rb')\n",
    "except IOError as e:\n",
    "    print(\"Nie mozna otworzyc pliku zrodlowego: \", strerror(e.errno))\n",
    "    exit(e.errno)\t\n",
    "\t\n",
    "dstfile = input(\"Wprowadz nazwe pliku docelowego: \")\n",
    "try:\n",
    "    dst = open(dstfile, 'wb')\n",
    "except Exception as e:\n",
    "    print(\"Nie mozna utworzyc pliku docelowego: \", strerror(e.errno))\n",
    "    src.close\n",
    "    exit(e.errno)\t\n",
    "\n",
    "bufor = bytearray(65536)\n",
    "suma  = 0\n",
    "try:\n",
    "    wczytany = src.readinto(bufor)\n",
    "    while wczytany > 0:\n",
    "        zapisany = dst.write(bufor[:wczytany])\n",
    "        suma += zapisany\n",
    "        wczytany = src.readinto(bufor)\n",
    "except IOError as e:\n",
    "    print(\"Nie mozna utworzyc pliku docelowego: \", strerror(e.errno))\n",
    "    exit(e.errno)\t\n",
    "    \n",
    "print(suma,'bajt(y) poprawie zapisany')\n",
    "src.close()\n",
    "dst.close()"
   ]
  },
  {
   "cell_type": "markdown",
   "metadata": {},
   "source": [
    "linie od 3 do 8: zapytaj użytkownika o nazwę pliku do skopiowania i spróbuj otworzyć go w celu odczytu; zakończ wykonywanie programu, jeśli open nie powiedzie się; uwaga: użyj funkcji exit(), aby zatrzymać wykonywanie programu i przekazać kod zakończenia do systemu operacyjnego; dowolny kod zakończenia inny niż 0 mówi, że program napotkał pewne problemy; użyj wartości errno, aby określić naturę problemu;\n",
    "linie od 10 do 16: powtórz prawie tę samą czynność, ale tym razem dla pliku wyjściowego;\n",
    "linia 18: przygotuj fragment pamięci do przesłania danych z pliku źródłowego do docelowego; taki obszar przenoszenia jest często nazywany buforem, stąd nazwa zmiennej; rozmiar bufora jest arbitralny - w tym przypadku zdecydowaliśmy się użyć 64 kilobajtów; technicznie rzecz biorąc, większy bufor jest szybszy przy kopiowaniu elementów, ponieważ większy bufor oznacza mniej operacji I/O; w rzeczywistości zawsze istnieje granica, której przekroczenie nie powoduje dalszych ulepszeń; sprawdź sam, jeśli chcesz.\n",
    "linia 19: policz skopiowane bajty - jest to licznik i jego wartość początkowa;\n",
    "linia 21: spróbuj wypełnić bufor po raz pierwszy;\n",
    "linia 22: powtórz te same czynności aż otrzymasz zerową liczbę bajtów;\n",
    "linia 23: zapisz zawartość bufora do pliku wyjściowego (uwaga: użyliśmy wycinku, aby ograniczyć liczbę zapisywanych bajtów, ponieważ write() zawsze woli zapisać cały bufor )\n",
    "linia 24: zaktualizuj licznik;\n",
    "linia 25: odczytaj następny fragment pliku;\n",
    "linie od 30 do 32: końcowe czyszczenie - zadanie zostało wykonane."
   ]
  },
  {
   "cell_type": "markdown",
   "metadata": {},
   "source": [
    "LABO 6.9.1.15 / 16"
   ]
  },
  {
   "cell_type": "markdown",
   "metadata": {},
   "source": [
    "LABO 6.9.1.17"
   ]
  },
  {
   "cell_type": "markdown",
   "metadata": {},
   "source": [
    "Kluczowe zagadnienia\n",
    "\n",
    "1. Aby odczytać zawartość pliku, można użyć następujących metod strumieniowania:\n",
    "\n",
    "read(number) – odczytuje znaki/bajty number z pliku i zwraca je jako łańcuch znaków; potrafi od razu odczytać cały plik;\n",
    "readline() – czyta pojedynczą linię z pliku tekstowego;\n",
    "readlines(number) – czyta linie number z pliku tekstowego; jest w stanie odczytać wszystkie wiersze jednocześnie;\n",
    "readinto(bytearray) – czyta bajty z pliku i wypełnia nimi bytearray;\n",
    "\n",
    "2. Aby zapisać nową zawartość do pliku, można użyć następujących metod strumieniowania:\n",
    "\n",
    "write(string) – zapisuje string do pliku tekstowego;\n",
    "write(bytearray) – wzapisuje wszystkie bajty bytearray do pliku;\n",
    "\n",
    "3. Metoda open() zwraca iterowalny obiekt, który może być użyty do iteracji przez wszystkie linie pliku wewnątrz pętli for. Na przykład:\n",
    "\n",
    "for line in open(\"file\", \"rt\"):\n",
    "    print(line, end='')\n",
    "\n",
    "\n",
    "Kod kopiuje zawartość pliku do konsoli, wiersz po wierszu. Uwaga: strumień zamyka się automatycznie, gdy osiągnie koniec pliku.\n",
    "\n",
    "\n",
    "Ćwiczenie 1\n",
    "\n",
    "Czego oczekujemy od metody readlines(), gdy strumień jest powiązany z pustym plikiem?\n",
    "\n",
    "Sprawdź\n",
    "Pustej listy (listy o zerowej długości).\n",
    "\n",
    "\n",
    "\n",
    "Ćwiczenie 2\n",
    "\n",
    "Co robi poniższy kod?\n",
    "\n",
    "for line in open(\"file\", \"rt\"):\n",
    "    for char in line:\n",
    "        if char.lower() not in \"aeiouy \":\n",
    "            print(char, end='')\n",
    "\n",
    "\n",
    "Sprawdź\n",
    "Kopiuje zawartość file do konsoli, ignorując wszystkie samogłoski.\n",
    "\n",
    "\n",
    "\n",
    "Ćwiczenie 3\n",
    "\n",
    "Zamierzasz przetworzyć bitmapę przechowywaną w pliku o nazwie image.png i chcesz wczytać jej zawartość jako całość do zmiennej bytearray o nazwie image. Dodaj wiersz do następującego kodu, aby osiągnąć ten cel.\n",
    "\n",
    "try:\n",
    "    stream = open(\"image.png\", \"rb\")\n",
    "    # Insert a line here.\n",
    "    stream.close()\n",
    "except IOError:\n",
    "    print(\"failed\")\n",
    "else:\n",
    "    print(\"success\")\n",
    "\n",
    "\n",
    "Sprawdź\n",
    "image = bytearray(stream.read())"
   ]
  }
 ],
 "metadata": {
  "kernelspec": {
   "display_name": "Python 3.6.9 64-bit",
   "language": "python",
   "name": "python3"
  },
  "language_info": {
   "codemirror_mode": {
    "name": "ipython",
    "version": 3
   },
   "file_extension": ".py",
   "mimetype": "text/x-python",
   "name": "python",
   "nbconvert_exporter": "python",
   "pygments_lexer": "ipython3",
   "version": "3.6.9"
  },
  "orig_nbformat": 4,
  "vscode": {
   "interpreter": {
    "hash": "31f2aee4e71d21fbe5cf8b01ff0e069b9275f58929596ceb00d14d90e3e16cd6"
   }
  }
 },
 "nbformat": 4,
 "nbformat_minor": 2
}
