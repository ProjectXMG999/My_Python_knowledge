{
 "cells": [
  {
   "cell_type": "markdown",
   "metadata": {},
   "source": [
    "Na przykład pewien projekt można podzielić na dwie główne części:\n",
    "\n",
    "interfejs użytkownika (część komunikująca się z użytkownikiem za pomocą widżetów i ekranu graficznego)\n",
    "logika (część przetwarzająca dane i podająca wyniki)\n",
    "Każda z tych części może (najprawdopodobniej) być podzielona na mniejsze, i tak dalej. Taki proces często nazywany jest DEKOMPOZYCJA."
   ]
  },
  {
   "cell_type": "markdown",
   "metadata": {},
   "source": [
    "Przestrzeń nazw to przestrzeń (rozumiana w kontekście niefizycznym), w której istnieją pewne nazwy, i te nazwy nie kolidują ze sobą (tzn. nie istnieją dwa różne obiekty o tej samej nazwie). Można powiedzieć, że każda grupa społeczna to przestrzeń nazw - grupa ma tendencję do nazywania każdego z jej członków w unikalny sposób (np. rodzice nie dadzą swoim dzieciom tych samych imion).\n",
    "\n",
    "- np math.sin"
   ]
  },
  {
   "cell_type": "markdown",
   "metadata": {},
   "source": [
    "importowanie metodą:\n",
    "from math import sin, pi\n",
    "\n",
    "- wymienione obiekty (i tylko te) są importowane ze wskazanego modułu;\n",
    "- nazwy importowanych elementów są\n",
    "\n",
    " dostępne bez kwalifikacji.\n",
    "\n",
    "czyli nie uzywamy juz math.sin tylko np\n",
    "\n",
    "print(sin(pi/2))\n",
    "\n",
    "! naddpisuje zmienne o tych samych nazwach\n",
    "\n",
    "Jest tez opcja importu wszystkiego ta sama technika:\n",
    "- from module import *\n"
   ]
  },
  {
   "cell_type": "markdown",
   "metadata": {},
   "source": [
    "ALIASING  - import danej rzeczy z modułu \n",
    "\n",
    "- import module as alias\n",
    "- import math as m\n",
    "- from from module import n as a, m as b itp"
   ]
  },
  {
   "cell_type": "markdown",
   "metadata": {},
   "source": [
    "komenda dir =/= funkcja dir()\n",
    "\n",
    "dir() -  potrafi wyświetlić wszystkie nazwy dostarczane przez konkretny moduł.(który trzeba wczesniej zaimportować)\n"
   ]
  },
  {
   "cell_type": "markdown",
   "metadata": {},
   "source": [
    "MATH"
   ]
  },
  {
   "cell_type": "markdown",
   "metadata": {},
   "source": [
    "TRYGONOMERIA:\n",
    "- sin() asin(x)\n",
    "- cos() acos()\n",
    "- tan() acos()\n",
    "\n",
    "       odwrocone\n",
    "\n",
    "(kąt wyrażony w radianach) \n",
    "\n",
    "- radians(x) stopnie na radiany\n",
    "- pi\n",
    "- degrees() odwr\n",
    "\n",
    "- sinh(x) → hiperboliczny sinus;\n",
    "- cosh(x) → hiperboliczny cosinus;\n",
    "- tanh(x) → hiperboliczny tangens;\n",
    "- asinh(x) → the hiperboliczny arcus sinus;\n",
    "- acosh(x) → hiperboliczny arcus sinus;\n",
    "- atanh(x) → hiperboliczny arcus tangens.\n",
    "\n",
    "\n",
    "\n",
    "\n",
    "- e → stała o wartości stanowiącej średnią wartość liczby Eulera (e)\n",
    "-  -exp(x) → określanie wartości ex;\n",
    "- log(x) → logarytm naturalny z liczby x\n",
    "- log(x, b) → logarytm z liczby x przy podstawie b\n",
    "- log10(x) → logarytm dziesiętny z x (dokładniejszy niż log(x, 10))\n",
    "- log2(x) → logarytm binarny z x (dokładniejszy niż log(x, 2))\n",
    "\n",
    "- pow(x, y) → określa wartość x do potęgi y (zwróć uwagę na domeny)\n",
    "\n",
    "\n",
    "\n",
    "\n",
    "\n",
    "- ceil(x) → sufit liczby x (najmniejsza liczba całkowita większa od lub równa liczbie x)\n",
    "- floor(x) → podłoga liczby x (największa liczba całkowita mniejsza od lub równa liczbie x)\n",
    "- trunc(x) → wartość liczby x podana w formie liczby całkowitej (uwaga - to nie jest to samo, co funkcja ceil lub funkcja floor)\n",
    "- factorial(x) → zwraca x! (x musi być całką i nie może być liczbą ujemną)\n",
    "- hypot(x, y) → zwraca długość przeciwprostokątnej trójkąta prostokątnego, którego długości ramion są równe wartościom x oraz y (podobnie jak sqrt(pow(x, 2) + pow(y, 2)), ale dokładniejsze)\n"
   ]
  },
  {
   "cell_type": "code",
   "execution_count": null,
   "metadata": {},
   "outputs": [],
   "source": [
    "from math import ceil, floor, trunc\n",
    "\n",
    "x = 1.4\n",
    "y = 2.6\n",
    "\n",
    "print(floor(x), floor(y))\n",
    "print(floor(-x), floor(-y))\n",
    "print(ceil(x), ceil(y))\n",
    "print(ceil(-x), ceil(-y))\n",
    "print(trunc(x), trunc(y))\n",
    "print(trunc(-x), trunc(-y))\n",
    "\n"
   ]
  },
  {
   "cell_type": "markdown",
   "metadata": {},
   "source": [
    "RANDOM\n",
    "Generator liczb losowych bierze wartość określaną jako ziarno, traktuje tę wartość jako wartość wejściową, oblicza \"losową\" liczbę w oparciu o ziarno (metoda obliczeń zależy od wybranego algorytmu) i zwraca nową wartość ziarna."
   ]
  },
  {
   "cell_type": "code",
   "execution_count": null,
   "metadata": {},
   "outputs": [],
   "source": [
    "\n",
    "\n",
    "from random import random\n",
    "\n",
    "for i in range(5):\n",
    "    print(random())"
   ]
  },
  {
   "cell_type": "markdown",
   "metadata": {},
   "source": [
    "\n",
    "- seed() - ustawia ziarno jako bieżący czas;\n",
    "- seed(int_value) - ustawia ziarno jako wartość w postaci liczby całkowitej int_value"
   ]
  },
  {
   "cell_type": "code",
   "execution_count": null,
   "metadata": {},
   "outputs": [],
   "source": [
    "from random import random, seed\n",
    "\n",
    "seed(0)\n",
    "\n",
    "for i in range(5):\n",
    "    print(random())"
   ]
  },
  {
   "cell_type": "markdown",
   "metadata": {},
   "source": [
    "- randrange(end)\n",
    "- randrange(beg, end)\n",
    "- randrange(beg, end, step)\n",
    "\n",
    "Zwróć uwagę na domniemane pominięcie prawostronne!\n",
    "\n",
    "\n",
    "- randint(left, right)\n",
    "\n",
    " (bez pominięcia po prawej stronie).\n",
    "\n",
    "######\n",
    "\n",
    "Wyniki moga sie w tych funkcjach powtarzac\n",
    "- jesli chcemy unikalne losowe liczby \n",
    "uzywamy funkcji:\n",
    "\n",
    "choice()\n",
    "sample()\n"
   ]
  },
  {
   "cell_type": "code",
   "execution_count": null,
   "metadata": {},
   "outputs": [],
   "source": [
    "from random import choice, sample\n",
    "\n",
    "lst = [1, 2, 3, 4, 5, 6, 7, 8, 9, 10]\n",
    "\n",
    "print(choice(lst))\n",
    "print(sample(lst, 5))\n",
    "print(sample(lst, 10))"
   ]
  },
  {
   "cell_type": "markdown",
   "metadata": {},
   "source": [
    "Plattform"
   ]
  },
  {
   "cell_type": "code",
   "execution_count": null,
   "metadata": {},
   "outputs": [],
   "source": [
    "from random import choice, sample\n",
    "\n",
    "lst = [1, 2, 3, 4, 5, 6, 7, 8, 9, 10]\n",
    "\n",
    "print(choice(lst))\n",
    "print(sample(lst, 5))\n",
    "print(sample(lst, 10))"
   ]
  },
  {
   "cell_type": "code",
   "execution_count": null,
   "metadata": {},
   "outputs": [],
   "source": [
    "from platform import platform\n",
    "\n",
    "print(platform())\n",
    "print(platform(1))\n",
    "print(platform(0, 1))\n",
    "\n",
    "platform(aliased = False, terse = False)"
   ]
  },
  {
   "cell_type": "markdown",
   "metadata": {},
   "source": [
    "aliased → domyślnie ustawione jako True (albo inną wartość różną od zera) sprawia, że funkcja może zaprezentować alternatywne nazwy związane z niższymi warstwami środowiska zamiast ich zwyczajowych odpowiedników.\n",
    "terse → domyślnie ustawione jako True (albo inną wartość różną od zera) potrafi sprawić, że funkcja przedstawi wyniki w skróconej formie (jeśli jest to możliwe)"
   ]
  },
  {
   "cell_type": "markdown",
   "metadata": {},
   "source": [
    "Czasami chcesz po prostu znać ogólną nazwę procesora, który napędza twój system operacyjny oraz język Python i twój kod - a funkcja o nazwie machine() zwróci ci wszystkie te informacje. Podobnie jak wcześniej, funkcja zwraca łańcuch\n",
    "\n",
    "- machine()\n",
    "\n",
    "Funkcja processor() zwraca łańcuch znaków zawierający rzeczywistą nazwę procesora (jeśli jest to możliwe).\n",
    "\n",
    "- processor()\n",
    "\n",
    "Funkcja o nazwie system() zwraca ogólną nazwę systemu operacyjnego w postaci łańcucha znaków.\n",
    "\n",
    "- system()\n",
    "\n",
    "Wersja systemu operacyjnego zostaje zwrócona jako łańcuch znaków przez funkcję version().\n",
    "\n",
    "- version()\n",
    "\n",
    "- python_implementation()\n",
    "\n",
    " → zwraca łańcuch oznaczający implementację języka Python (oczekuj, że w tym miejscu ujrzysz nazwę CPython, chyba że wybrałeś którąś z niekanonicznych implementacji)\n",
    "\n",
    "- python_version_tuple() \n",
    "\n",
    "→ zwraca trójelementową krotkę, na którą składają się następujące dane:\n",
    "główny numer wersji języka Python;\n",
    "podrzędny numer wersji;\n",
    "numer korekty."
   ]
  },
  {
   "cell_type": "markdown",
   "metadata": {},
   "source": [
    "- moduł to typ kontenera wypełnionego funkcjami "
   ]
  },
  {
   "cell_type": "markdown",
   "metadata": {},
   "source": [
    "PLIKI PYCACHE\n",
    "\n",
    "Jest tam plik o nazwie (identycznej lub zbliżonej) module.cpython-xy.pyc gdzie x i y to cyfry pochodzące od twojej wersji języka Python (np. mogą to być 3 i 4 jeśli korzystasz z wersji Python 3.4).\n",
    "\n",
    "Nazwa pliku jest taka sama jak nazwa twojego modułu (w naszym przypadku nazwa modułu to module). Część następująca po pierwszej kropce mówi, która implementacja języka Python stworzyła plik (CPython w naszym przypadku) oraz wskazuje na numer wersji. Ostatnia część (pyc) pochodzi od słów Python oraz compiled.\n",
    "\n",
    "Kiedy język Python importuje jakiś moduł pierwszy raz, tłumaczy jego zawartość format po części poddany kompilacji.\n",
    "\n",
    "Plik nie zawiera kodu maszynowego - to wewnętrzny na wpół skompilowany kod języka Python, gotowy do uruchomienia przez interpreter języka Python. Ponieważ taki plik nie potrzebuje wielu etapów weryfikacji, które wymagane są przez czysty plik źródłowy, wykonanie zaczyna się znacznie szybciej i szybciej się również odbywa\n",
    "\n",
    "Dzięki temu, każdy kolejny import przebiegnie szybciej niż interpretowanie tekstu źródłowego od początku.\n",
    "Język Python potrafi sprawdzić, czy plik źródłowy danego modułu został uprzednio zmodyfikowany (w tym przypadku, plik pyc zostanie odbudowany), czy nie (kiedy plik pyc może do razu zostać uruchomiony). Jako że proces ten jest całkowicie automatyczny i transparentny, nie musisz sobie nim zawracać głowy.\n",
    "\n"
   ]
  },
  {
   "cell_type": "markdown",
   "metadata": {},
   "source": [
    "Wyobraź sobie, że:\n",
    "\n",
    "istnieje moduł o nazwie mod1;\n",
    "istnieje moduł o nazwie mod2 i zawiera on instrukcję import mod1;\n",
    "istnieje też główny plik, zawierający instrukcje import mod1 i import mod2.\n",
    "Na pierwszy rzut oka możesz pomyśleć, że mod1 zostanie dwukrotnie zaimportowany - na szczęście, tylko pierwszy import ma miejsce. Język Python pamięta importowane moduły i dyskretnie pomija wszelkie kolejne importy."
   ]
  },
  {
   "cell_type": "markdown",
   "metadata": {},
   "source": [
    "__name__\n",
    "\n",
    "Możemy stwierdzić, że:\n",
    "\n",
    "kiedy bezpośrednio uruchamiasz plik, jego zmienna __name__ jest ustawiona jako __main__.\n",
    "kiedy plik importowany jest jako moduł, jego zmiennej __name__ zostaje przypisana nazwa pliku (z pominięciem .py)\n",
    "\n",
    "if __name__ == \"__main__\":\n",
    "    print(\"Wole byc modulem.\")\n",
    "else:\n",
    "    print(\"Chce byc modulem.\")\n",
    "\n",
    "\n",
    "####\n",
    "\n",
    "Jest pewien sprytny sposób na wykorzystanie wspomnianej zmiennej. Jeśli jednak tworzysz moduł z wieloma złożonymi funkcjami, możesz wykorzystać tę zmienną w celu umieszczenia serii testów sprawdzających poprawne działanie funkcji.\n",
    "\n",
    "Każdorazowo kiedy modyfikujesz którąkolwiek z funkcji, wystarczy po prostu uruchomić moduł testowy, żeby upewnić się, że twoje zmiany nie zepsuły kodu. Testy te będą pominięte, jeśli kod został zaimportowany jako moduł."
   ]
  },
  {
   "cell_type": "markdown",
   "metadata": {},
   "source": [
    "#!/usr/bin/env python3 \n",
    "\n",
    "wiersz, rozpoczynający się od znaków #! jest różnie nazywany - może nosić nazwę shabang, shebang, hashbang, poundbang lub nawet hashpling (nie pytaj dlaczego). Sama nazwa nie niesie za sobą żadnego znaczenia - dużo ważniejsza jest rola jaką pełni. Z punktu widzenia języka Python, wiersz to tylko komentarz ponieważ rozpoczyna się od znaku #. Jeśli chodzi o systemy operacyjne typu Unix lub jemu podobne (łącznie z MacOS) taki wiersz mówi systemowi operacyjnemu jak wykonać zawartość pliku (innymi słowy, czego program potrzebuje, żeby zostać uruchomionym i żeby doszło do interpretacji tekstu). W niektórych środowiskach (zwłaszcza tych związanych z serwisami internetowymi) brak takiego wiersza spowoduje kłopoty."
   ]
  },
  {
   "cell_type": "markdown",
   "metadata": {},
   "source": [
    "łańcuch znaków (może nawet kilkuwierszowy)\n",
    "\n",
    "\"\"\" module.py - przykładowy moduł w języku Python \"\"\"\n",
    "\n",
    " umieszczony przed instrukcjami modułu (łącznie z importami) nosi nazwę doc-string i powinien zwięźle wyjaśniać cel oraz zawartość modułu;"
   ]
  },
  {
   "cell_type": "code",
   "execution_count": 1,
   "metadata": {},
   "outputs": [
    {
     "name": "stdout",
     "output_type": "stream",
     "text": [
      "/home/maciej/KURSY/Python_institute/intermediate_level\n",
      "/usr/lib/python36.zip\n",
      "/usr/lib/python3.6\n",
      "/usr/lib/python3.6/lib-dynload\n",
      "\n",
      "/usr/local/lib/python3.6/dist-packages\n",
      "/usr/lib/python3/dist-packages\n",
      "/usr/local/lib/python3.6/dist-packages/IPython/extensions\n",
      "/root/.ipython\n"
     ]
    }
   ],
   "source": [
    "import sys\n",
    "\n",
    "for p in sys.path:\n",
    "    print(p)\n",
    "\n",
    "\n",
    "# Uwaga: folder, w którym rozpoczyna się wykonanie wyszczególniony jest jako element pierwszej ze ścieżek.\n",
    "\n",
    "# Uwaga druga: jednym z elementów ścieżki est plik w formacie zip - to nie pomyłka. Język Python jest w stanie obsługiwać pliki typu zip files jak zwykłe foldery - umiejętność ta potrafi zaoszczędzić wiele miejsca.\n",
    "\n",
    "\n",
    "# Czy domyślasz się jak rozwiązaliśmy problem? Można to zrobić poprzez dodanie do zmiennej \"path\" folderu zawierającego moduł (można ją modyfikować)."
   ]
  },
  {
   "cell_type": "markdown",
   "metadata": {},
   "source": [
    "Żeby odpowiedzieć na to pytanie, musimy wspomnieć o tym jak język Python przeszukuje moduły. Istnieje specjalna zmienna (w zasadzie lista), która przechowuje wszystkie lokalizacje (foldery/katalogi) przeczesywane w celu odnalezienia modułu spełniającego żądanie instrukcji import.\n",
    "\n",
    "Język Python przegląda te foldery według porządku zgodnego z ich kolejnością na wspomnianej liście - jeśli moduł nie może być odnaleziony w żadnym z tych katalogów, import kończy się niepowodzeniem.\n",
    "\n",
    "W przeciwnym razie, pierwszy folder zawierający moduł o pożądanej nazwie, zostanie wzięty pod uwagę (jeśli którykolwiek z pozostałych modułów nosi taką samą nazwę jak szukana nazwa, zostanie zignorowany)."
   ]
  },
  {
   "cell_type": "markdown",
   "metadata": {},
   "source": [
    "Podwoiliśmy znak \\ wewnątrz nazwy folderu - wiesz dlaczego?\n",
    "\n",
    "path.append('..\\\\modules')\n",
    "\n",
    "\n",
    "Sprawdź\n",
    "Ukośnik wsteczny używany jest jako znak ucieczki w stosunku do innych znaków - jeśli chcesz użyć po prostu ukośnika wstecznego, musisz uciec przed jego działaniem."
   ]
  },
  {
   "cell_type": "markdown",
   "metadata": {},
   "source": [
    "użyliśmy relatywnej nazwy folderu - ten sposób zadziała, jeśli rozpoczniesz plik main.py bezpośrednio z folderu macierzystego, a nie będzie działać jeśli nie będzie zgodności ze ścieżką relatywną; zawsze możesz użyć ścieżki absolutnej, jak zrobiono to tutaj:\n",
    "\n",
    "path.append('C:\\\\Users\\\\user\\\\py\\\\modules')"
   ]
  },
  {
   "cell_type": "markdown",
   "metadata": {},
   "source": [
    "użyliśmy metody append() - w rezultacie, nowa ścieżka zajmie ostatnie element w liście ścieżek; jeśli nie podoba się tobie ten pomysł, możesz w zamian skorzystać z metody insert()"
   ]
  },
  {
   "cell_type": "markdown",
   "metadata": {},
   "source": [
    "######\n",
    "\n",
    "TWORZENIE PAKIETÓW"
   ]
  },
  {
   "cell_type": "markdown",
   "metadata": {},
   "source": [
    "- Jeśli przyjmiemy, że extra to nazwa nowo stworzonego pakietu (pomyśl o tym jak o korzeniu pakietu) nasze założenie wymusi zasadę nazewnictwa, która pozwoli zrozumiale nazwać każdy byt składający się na nasze drzewko.\n",
    "\n",
    "Na przykład:\n",
    "\n",
    "- lokalizacja funkcji o nazwie funT() z pakietu tau może być opisana w następujący sposób:\n",
    "\n",
    "extra.good.best.tau.funT()\n",
    "\n",
    "\n",
    "- funkcja oznaczona jako:\n",
    "\n",
    "extra.ugly.psi.funP()\n",
    "\n",
    "\n",
    "pochodzi z modułu psi przechowywanego w subpakiecie ugly i należącego do pakietu extra\n"
   ]
  },
  {
   "cell_type": "markdown",
   "metadata": {},
   "source": [
    "jak przekształcić takie drzewko (w zasadzie jego część) w prawdziwy pakiet języka Python (innymi słowy, jak przekonać język Python, że takie drzewko nie jest po prostu stertą bezużytecznych plików, ale zestawem modułów)?\n",
    "gdzie trzeba umiejscowić nasze drzewko, żeby stało się dostępne dla języka Python?\n",
    "Na pierwsze pytanie mamy dość zaskakującą odpowiedź: pakiety, podobnie jak moduły, mogą wymagać inicjalizacji.\n",
    "\n",
    "Inicjalizacja modułu odbywa się poprzez niezwiązany z żadną funkcją kod (kod, który nie stanowi części żadnej funkcji), który umieszcza się wewnątrz pliku modułu. Ponieważ pakiet nie jest plikiem, technika ta nie sprawdzi się w przypadku inicjalizacji pakietów.\n",
    "\n",
    "Trzeba zastosować inną sztuczkę - język Python oczekuje, że wewnątrz folderu z pakietem jest pewien plik o wyjątkowej nazwie: __init__.py.\n",
    "\n",
    "##\n",
    "\n",
    "Zawartość tego pliku jest wykonywana podczas importu dowolnego modułu, wchodzącego w skład pakietu. Jeśli nie życzysz sobie żadnych specjalnych inicjalizacji, możesz zostawić ten plik pusty, ale nie wolno ci go pominąć.\n",
    "\n"
   ]
  },
  {
   "cell_type": "markdown",
   "metadata": {},
   "source": [
    "Uwaga: nie tylko folder root może zawierać plik __init.py__ - można go również umieścić wewnątrz dowolnego subfolderu (subpakietu). Może okazać się przydatny jeśli pewne subpakiety wymagają indywidualnego podejścia i specjalnych typów inicjalizacji.\n",
    "\n",
    "\n",
    "Teraz przyszła pora odpowiedzieć na drugie z pytań - odpowiedź jest prosta: gdziekolwiek. Trzeba jedynie zapewnić, by język Python znał lokalizację pakietu. Już wiesz jak to zrobić.\n",
    "\n",
    "Jesteś już gotowy wykorzystać swój pierwszy pakiet."
   ]
  },
  {
   "cell_type": "markdown",
   "metadata": {},
   "source": [
    "Uwaga:\n",
    "\n",
    "zmodyfikowaliśmy zmienną path tak, żeby była osiągalna dla języka Python;\n",
    "instrukcja import nie wskazuje bezpośrednio na moduł, ale określa w pełni kwalifikowaną ścieżkę z góry pakietu;\n",
    "zastąpienie import extra.iota przez import iota spowoduje błąd."
   ]
  },
  {
   "cell_type": "markdown",
   "metadata": {},
   "source": [
    "1. Podczas gdy moduł jest zaprojektowany tak, aby łączyć ze sobą pewne powiązane elementy (funkcje, zmienne, stałe itp.), pakiet jest kontenerem, który umożliwia połączenie kilku powiązanych modułów w jeden. Taki kontener może być dystrybuowany w stanie, w jakim jest (jako partia plików rozmieszczonych w poddrzewie katalogów) lub może być spakowany w pliku zip.\n",
    "\n",
    "\n",
    "2. Podczas pierwszego importu właściwego modułu, Python tłumaczy swój kod źródłowy na format częściowo skompilowany przechowywany w plikach pyc i wdraża te pliki do katalogu __pycache__ znajdujący się w katalogu domowym modułu.\n",
    "\n",
    "\n",
    "3. Jeśli chcesz poinstruować użytkownika swojego modułu, że dana jednostka powinna być traktowana jako prywatna (tj. nie może być jawnie używana poza modułem), możesz oznaczyć jej nazwę za pomocą _ lub __. Nie zapominaj, że to tylko zalecenie, a nie wymagane działanie.\n",
    "\n",
    "\n",
    "4. Nazwy shabang, shebang, hasbang, poundbang i hashpling opisują dwuznak napisane jako #!, używany do instruowania systemów uniksopodobnych, w jaki sposób należy uruchomić plik źródłowy Pythona. Ta konwencja nie działa w systemie MS Windows.\n",
    "\n",
    "\n",
    "5. Jeśli chcesz przekonać Pythona, że powinien uwzględniać katalog niestandardowego pakietu, jego nazwę należy wstawić/dopisać do listy katalogów importu przechowywanej w zmiennej path zawartej w module sys.\n",
    "\n",
    "\n",
    "6. Plik Pythona o nazwie __init__.py jest uruchamiany niejawnie, gdy pakiet zawierający go jest przedmiotem importu i jest używany do inicjalizacji pakietu i/lub jego pakietów podrzędnych (jeśli istnieją). Plik może być pusty, ale nie może go brakować.\n",
    "\n"
   ]
  },
  {
   "cell_type": "markdown",
   "metadata": {},
   "source": [
    "Chcesz uniemożliwić użytkownikowi modułu uruchamianie twojego kodu jako zwykłego skryptu. Jak osiągniesz taki efekt?\n",
    "\n",
    "import sys\n",
    "\n",
    "if __name__ == \"__main__\":\n",
    "    print \"Nie rób tego!\"\n",
    "    sys.exit()"
   ]
  },
  {
   "cell_type": "markdown",
   "metadata": {},
   "source": [
    "Niektóre dodatkowe i niezbędne pakiety są przechowywane w katalogu D:\\Python\\Project\\Modules. Napisz kod zapewniający przeszukiwanie katalogu przez język Python w celu znalezienia wszystkich żądanych modułów.\n",
    "\n",
    "\n",
    "import sys\n",
    "\n",
    "# zwróć uwagę na podwójne ukośniki wsteczne\n",
    "sys.path.append(\"D:\\\\Python\\\\Project\\\\Modules\")"
   ]
  },
  {
   "cell_type": "markdown",
   "metadata": {},
   "source": [
    "Oznaczenie oprogramowanie I18N jest już standardem w obecnych czasach. Każdy program winien być napisany w sposób, który sprawi, że będzie mógł on być używany na całym świecie, w różnych kulturach, językach i alfabetach."
   ]
  },
  {
   "cell_type": "markdown",
   "metadata": {},
   "source": [
    "Ten o nazwie ASCII (skrót od American Standard Code for Information Interchange) jest najbardziej rozpowszechniony i można śmiało zakładać, że prawie wszystkie nowoczesne urządzenia (jak komputery, drukarki, telefony komórkowe, tablety, itp.) posługują się tym kodem."
   ]
  },
  {
   "cell_type": "markdown",
   "metadata": {},
   "source": [
    "Punkt kodowy to liczba tworząca znak. Na przykład, 32 to punkt kodowy, który tworzy spację w kodowaniu ASCII. Można powiedzieć, że standardowy kod ASCII składa się z 128 punktów kodowych."
   ]
  },
  {
   "cell_type": "markdown",
   "metadata": {},
   "source": [
    "Punkt kodowy to liczba tworząca znak. Na przykład, 32 to punkt kodowy, który tworzy spację w kodowaniu ASCII. Można powiedzieć, że standardowy kod ASCII składa się z 128 punktów kodowych."
   ]
  },
  {
   "cell_type": "markdown",
   "metadata": {},
   "source": [
    "Ponieważ standardowo ASCII zajmuje 128 z 256 możliwych punktów kodowych, można jedynie wykorzystać pozostałe 128.\n",
    "\n",
    "Czy można ustawić drugą połowę punktów kodowych inaczej dla różnych języków? Tak, można. Takie zjawisko nosi nazwę strony kodowej.\n",
    "\n"
   ]
  },
  {
   "cell_type": "markdown",
   "metadata": {},
   "source": [
    "Punkt kodowy to liczba tworząca znak. Na przykład, 32 to punkt kodowy, który tworzy spację w kodowaniu ASCII. Można powiedzieć, że standardowy kod ASCII składa się z 128 punktów kodowych.\n",
    "\n",
    "Ponieważ standardowo ASCII zajmuje 128 z 256 możliwych punktów kodowych, można jedynie wykorzystać pozostałe 128.\n",
    "\n",
    "Czy można ustawić drugą połowę punktów kodowych inaczej dla różnych języków? Tak, można. Takie zjawisko nosi nazwę strony kodowej\n",
    "\n",
    "Strona kodowa to standard do wykorzystywania wyższych 128 punktów kodowych do przechowywania znaków diakrytycznych danego języka. Dla przykładu, istnieją różne strony kodowe dla Europy Zachodniej i Wschodniej, cyrylicy i alfabetu greckiego, języków arabskich i hebrajskiego itd.\n",
    "\n",
    "\n",
    "Koncepcja, która stanowi długofalowe rozwiązanie problemu to Unicode."
   ]
  },
  {
   "cell_type": "markdown",
   "metadata": {},
   "source": [
    "Unicode przypisuj unikalne (jednoznaczne) znaki (litery, myślniki, ideogramy, itp.) do ponad miliona punktów kodowych. Pierwsze 128 punktów kodowych Unicode jest identycznych w stosunku do ASCII, a pierwsze 256 punktów kodowych Unicode jest identycznych ze stroną kodową ISO/IEC 8859-1 (stroną kodową zaprojektowaną dla języków Europy Zachodniej).\n",
    "\n",
    "Standard Unicode nie mówi nic na temat tego, jak zapisywać i przechowywać znaki w pamięci i w plikach. Jedynie nazywa wszystkie dostępne znaki i przypisuje je do przestrzeni numeracyjnych (ang. code planes), czyli grupy znaków o podobnym pochodzeniu, zastosowaniu lub charakterze).\n",
    "\n",
    "\n",
    "Istnieje więcej niż jeden standard, opisujący techniki używane do zastosowania Unicode w komputerach i komputerowych systemach przechowywania danych. Najogólniejszym z nich jest UCS-4.\n",
    "\n",
    "UCS - 4\n",
    "\n",
    "UCS-4 używa 32 bitów (czterech bajtów),by przechować każdy znak, a kod to po prostu unikalna liczba pochodząca od punktu kodowego Unicode. Plik zawierający tekst zakodowany według standardu UCS-4 może rozpoczynać się od BOM (znacznika kolejności bajtów, ang. byte order mark), niedrukowalnej kombinacji bitów, która mówi o charakterze zawartości plików. Niektóre programy narzędziowe mogą wymagać powyższego standardu.\n",
    "z, UCS-4 stanowi raczej rozrzutny standard - czterokrotnie zwiększa rozmiar tekstu w porównaniu ze standardem ASCII. Na szczęście istnieją sprytniejsze sposoby na kodowanie tekstów Unicode.\n",
    "\n"
   ]
  },
  {
   "cell_type": "markdown",
   "metadata": {},
   "source": [
    "UTF-8\n",
    "Jednym z nich jest powszechnie stosowany UTF-8.\n",
    "\n",
    "Nazwa wywodzi się od Unicode Transformation Format.\n",
    "\n",
    "Metoda ta jest bardzo inteligentna. UTF-8 wykorzystuje tyle bitów na każdy punt kodowy, ile w rzeczywistości jest wymagane, by je poprawnie zakodować.\n",
    "\n",
    "\n",
    "Na przykład:\n",
    "\n",
    "wszystkie znaki alfabetu łacińskiego (oraz wszystkie znaki standardu ASCII) zajmują osiem bitów;\n",
    "znaki inne niż pochodzące z alfabetu łacińskiego zajmują 16 bitów;\n",
    "ideogramy CJK (Chiny-Japonia-Korea) zajmują 24 bity."
   ]
  },
  {
   "cell_type": "markdown",
   "metadata": {},
   "source": [
    "Język Python 3 w pełni obsługuje Unicode oraz UTF-8:\n",
    "\n",
    "\n",
    "- Możesz używać znaków zakodowanych w Unicode/UTF-8 w do dawania nazw zmiennym i innym bytom;\n",
    "- możesz korzystać z nich zarówno w przypadku danych wejściowych oraz wyjściowych.\n",
    "\n",
    "Oznacza to, że język Python 3 jest w pełni zgodny z I18Ned.\n",
    "\n",
    "1. Komputery przechowują znaki jako liczby. Istnieje więcej niż jeden możliwy sposób kodowania znaków, ale tylko niektóre z nich zyskały popularność na całym świecie i są powszechnie używane w IT: są to ASCII (używane głównie do kodowania alfabetu łacińskiego i niektórych jego pochodnych) oraz UNICODE (zdolny do zakodowania praktycznie wszystkich alfabetów używanych przez ludzi).\n",
    "\n",
    "\n",
    "2. Liczba odpowiadająca określonemu znakowi nazywana jest punktem kodowym.\n",
    "\n",
    "3. UNICODE używa różnych sposobów kodowania, jeśli chodzi o przechowywanie znaków za pomocą plików lub pamięci komputera: dwa z nich to UCS-4 i UTF-8 (ten ostatni jest najbardziej często, ponieważ marnuje mniej miejsca w pamięci).\n",
    "\n",
    "Czym jest BOM?\n",
    "\n",
    "Sprawdź\n",
    "BOM BOM (Byte Order Mark) jest specjalną kombinacją bitów oznajmiających kodowanie używane przez zawartość pliku (np. UCS-4 lub UTF-8).\n",
    "\n",
    "Czy Python 3 jest umiędzynarodowiony?\n",
    "\n",
    "Sprawdź\n",
    "Tak, jest całkowicie umiędzynarodowiony - możemy używać znaków UNICODE w naszym kodzie, czytać je z wejścia i wysyłać na wyjście.\n",
    "\n"
   ]
  },
  {
   "cell_type": "markdown",
   "metadata": {},
   "source": [
    "Łańcuchy znaków sa sekwencjami stałymi"
   ]
  },
  {
   "cell_type": "code",
   "execution_count": 6,
   "metadata": {},
   "outputs": [
    {
     "name": "stdout",
     "output_type": "stream",
     "text": [
      "17\n"
     ]
    }
   ],
   "source": [
    "### Wieloliniowe łancuchy znaków\n",
    "\n",
    "multiLine = '''Line #1\n",
    "Linia #2 ''' \n",
    "\n",
    "print(len(multiLine))\n",
    "\n",
    "#Brakujący znak jest po prostu niewidoczny - to spacja. Znajduje się ona między dwiema liniami tekstu. Jest ona oznaczona jako: \\n\n"
   ]
  },
  {
   "cell_type": "markdown",
   "metadata": {},
   "source": [
    "Pamiętasz? Jest to specjalny (kontrolny) znak używany do wymuszania podania linii (stąd jego nazwa: LF - ang. line feed). Nie możesz zobaczyć tego znaku, ale on się liczy.\n",
    "\n",
    "- Ogólnie rzecz biorąc, łańcuchy znaków mogą być:\n",
    "\n",
    "- konkatenowane (połączone)\n",
    "replikowane.\n",
    "\n",
    "Możliwość korzystania z tego samego operatora w stosunku do zupełnie innych rodzajów danych (takich jak liczby kontra łańcuchy znaków) nazywa się przeciążeniem (ponieważ taki operator jest przeciążony różnymi obowiązkami)."
   ]
  },
  {
   "cell_type": "markdown",
   "metadata": {},
   "source": [
    "Jeśli chcesz znać wartość kodu punktowego ASCII/UNICODE określonego znaku, możesz użyć funkcji o nazwie ord() (porządkowy - ang. ordinal)."
   ]
  },
  {
   "cell_type": "code",
   "execution_count": 1,
   "metadata": {},
   "outputs": [
    {
     "name": "stdout",
     "output_type": "stream",
     "text": [
      "97\n",
      "32\n"
     ]
    }
   ],
   "source": [
    "char_1 = 'a'\n",
    "char_2 = ' '  # spacja\n",
    "\n",
    "print(ord(char_1))\n",
    "print(ord(char_2))\n"
   ]
  },
  {
   "cell_type": "markdown",
   "metadata": {},
   "source": [
    "Jeśli znasz punkt kodowy (liczbę) i chcesz uzyskać odpowiedni znak, możesz użyć funkcji o nazwie chr()."
   ]
  },
  {
   "cell_type": "code",
   "execution_count": null,
   "metadata": {},
   "outputs": [],
   "source": [
    "# Przedstawienie funkcji chr()\n",
    "\n",
    "print(chr(97))\n",
    "print(chr(945))"
   ]
  },
  {
   "cell_type": "code",
   "execution_count": null,
   "metadata": {},
   "outputs": [],
   "source": [
    "# Indeksowanie łańcuchów znaków\n",
    "\n",
    "przykladowy_lancuch = 'głupie kroki'\n",
    "\n",
    "for ix in range(len(przykladowy_lancuch)): \n",
    "    print(przykladowy_lancuch[ix], end = ' ') \n",
    "\n",
    "print() \n",
    "\n",
    "# Iteracja za pomoca łańcucha znakow\n",
    "\n",
    "przykladowy_lancuch = 'głupie kroki'\n",
    "\n",
    "for ch in przykladowy_lancuch: \n",
    "    print(ch, end=' ') \n",
    "\n",
    "print()\n",
    "\n",
    "# Wycinki \n",
    "\n",
    "alpha = \"abdefg\" \n",
    "\n",
    "print(alpha[1:3]) \n",
    "print(alpha[3:]) \n",
    "print(alpha[:3]) \n",
    "print(alpha[3:-2]) \n",
    "print(alpha[-3:4]) \n",
    "print(alpha[::2]) \n",
    "print(alpha[1::2]) "
   ]
  },
  {
   "cell_type": "markdown",
   "metadata": {},
   "source": [
    "Operatory in i not in\n",
    "\n",
    "\n",
    "alfabet = \"abcdefghijklmnopqrstuvwxyz\" \n",
    "\n",
    "print(\"f\" w alfabecie)\n",
    "\n",
    "print(\"f\" nie w alfabecie)\n",
    "\n",
    "zwraca bool"
   ]
  },
  {
   "cell_type": "markdown",
   "metadata": {},
   "source": [
    "Pierwsza ważna różnica pomiedzy lancuchami a listami:\n",
    "\n",
    "- nie pozwala ci użyć instrukcji del do usunięcia czegokolwiek z łańcucha znaków. jedynie mozna usunac lancuch jako calosc. 459726\n",
    "- Łańcuchy znaków w języku Python nie mają metody append() - nie można ich w żaden sposób rozwinąć.\n",
    "- przy braku metody append(), metoda insert() jest również niedozwolona:\n",
    "\n",
    "alfabet = \"bcdefghijklmnopqrstuvwxy\" \n",
    "\n",
    "alfabet = \"a\" + alfabet \n",
    "alfabet = alfabet + \"z\" \n",
    "\n",
    "print(alfabet) \n",
    "\n",
    "Możesz zapytać, czy tworzenie nowej kopii łańcucha znaków za każdym razem, gdy modyfikujesz jego zawartość, pogarsza efektywność kodu.\n",
    "\n",
    "Owszem tak. Trochę. Ale to wcale nie jest problem."
   ]
  },
  {
   "cell_type": "code",
   "execution_count": null,
   "metadata": {},
   "outputs": [],
   "source": [
    "# Przedstawienie min() - Przyklad 1\n",
    "print(min(\"aAbByYzZ\")) \n",
    "\n",
    "\n",
    "# Przedstawienie min() - Przyklady 2 i 3\n",
    "t = 'Rycerze, ktorzy mowia \"Nie!\"' \n",
    "print('[' + min(t) + ']') \n",
    "\n",
    "t = [0, 1, 2]\n",
    "print(min(t)) "
   ]
  },
  {
   "cell_type": "markdown",
   "metadata": {},
   "source": [
    "Metoda index() (jest to metoda, nie funkcja)\n",
    "- przeszukuje sekwencję od początku, aby znaleźć pierwszy element o wartości określonej w argumencie.\n",
    "Metoda ta zwraca indeks pierwszego wystąpienia argumentu\n",
    "\n",
    "print(\"aAbByYzZaA\".index(\"b\"))\n",
    "print(\"aAbByYzZaA\".index(\"Z\"))\n",
    "print(\"aAbByYzZaA\".index(\"A\"))"
   ]
  },
  {
   "cell_type": "code",
   "execution_count": null,
   "metadata": {},
   "outputs": [],
   "source": [
    "for ch in \"abc\":\n",
    "    print(chr(ord(ch) + 1), end='')"
   ]
  },
  {
   "cell_type": "markdown",
   "metadata": {},
   "source": [
    "capitalize()\n",
    "\n",
    "- jeśli pierwszy znak w łańcuchu jest literą (uwaga: pierwszy znak jest elementem o indeksie równym 0, nie tylko pierwszym widocznym znakiem), zostanie on przekonwertowany na wielkie litery,\n",
    "wszystkie pozostałe litery z łańcucha zostaną przekonwertowane na małe litery.\n",
    "\n",
    "print(\"Alpha\".capitalize()) \n",
    "print('ALPHA'.capitalize()) \n",
    "print(' Alpha'.capitalize()) \n",
    "print('123'.capitalize()) \n",
    "print(\"αβγδ\".capitalize())\n",
    "\n",
    "center()\n",
    "\n",
    "Wariant jednoparametrowy metody center()tworzy kopię oryginalnego łańcucha, próbując wyśrodkować ją wewnątrz pola o określonej szerokości.\n",
    "\n",
    "Dwuparametrowy wariant center() wykorzystuje znak z drugiego argumentu, zamiast spacji. \n",
    "\n",
    "\n",
    "\n",
    "- print('[' + 'alpha'.center(10) + ']')\n",
    "\n",
    "- print('[' + 'gamma'.center(20, '*') + ']')\n",
    "\n",
    "find()\n",
    "\n",
    "Metoda find() jest podobna do metody index(), którą już znasz - szuka ona podłańcucha znaków i zwraca indeks pierwszego jego wystąpienia, ale:\n",
    "\n",
    "jest bezpieczniejsza - nie generuje błędu dla argumentu zawierającego nieistniejący podłańcuch znaków (zwraca w takim przypadku -1)\n",
    "działa wyłącznie z łańcuchami znaków - nie próbuj stosować jej do żadnej innej\n",
    "\n",
    "print(\"Eta\".find(\"ta\")) \n",
    "print(\"Eta\".find(\"mma\"))\n",
    "\n",
    "Jeśli chcesz wykonać metodę find, nie od początku łańcucha znaków, ale z dowolnej pozycji, możesz użyć wariantu z dwoma parametrami metody find()\n",
    "\n",
    "print('kappa'.find('a', 2))\n",
    "\n",
    "Drugi argument określa indeks, na którym rozpocznie się wyszukiwanie (nie musi pasować do łańcucha).\n",
    "\n",
    "wariacja trzyparametrowa\n",
    "\n",
    "print('kappa'.find('a', 1, 4)) \n",
    "print('kappa'.find('a', 2, 4))\n",
    "\n",
    "w drugim da -1 bo nie znalazlo"
   ]
  },
  {
   "cell_type": "code",
   "execution_count": null,
   "metadata": {},
   "outputs": [],
   "source": [
    "txt = \"\"\"Odmiana zwyklego tekstu lorem ipsum\n",
    "byla uzywana w druku od lat szescdziesiatych \n",
    "lub wczesniej, kiedy zostala spopularyzowany przez reklamy \n",
    "arkuszy transferowych Letraset. Zostala wprowadzony \n",
    "do Ery Informatyzacji w polowie lat osiemdziesiatych XX wieku przez Aldus Corporation, \n",
    "firme ktora wykorzystała ja w szablonach graficznych i edytorach tekstu\n",
    "w swoim programie do publikowania PageMaker (z Wikipedii)\"\"\"\n",
    "\n",
    "\n",
    "fnd = txt.find('do') \n",
    "while fnd != -1: \n",
    "    print(fnd) \n",
    "    fnd = txt.find('do', fnd + 1)\n",
    "\n",
    "\n",
    "#Możesz użyć metody find(), aby wyszukać wszystkie przypadki wystąpienia podłańcuchów, tak jak tutaj:"
   ]
  },
  {
   "cell_type": "markdown",
   "metadata": {},
   "source": [
    "Metoda isalnum()\n",
    "\n",
    " Bezparametrowa metoda o nazwie isalnum() sprawdza, czy ciąg zawiera tylko cyfry lub znaki alfabetyczne (litery), i zwraca True lub False zgodnie z wynikiem.\n",
    "###\n",
    "Metoda isalpha() \n",
    "\n",
    " jest bardziej wyspecjalizowana - interesuje się wyłącznie literami.\n",
    "###\n",
    "Z kolei metoda isdigit() \n",
    " analizuje tylko cyfry - wszystko inne daje wynik False.\n",
    "###\n",
    "Metoda islower()\n",
    " jest wybredną odmianą isalpha() - akceptuje wyłącznie małe litery.\n",
    "###\n",
    "Metoda isspace()\n",
    " identyfikuje tylko spacje - nie uwzględnia żadnego innego znaku (wynikiem będzie wówczas False).\n",
    "###\n",
    "Metoda isupper()\n",
    " jest wielkoliterową wersją metody islower() - koncentruje się wyłącznie na wielkich literach.\n",
    "###\n",
    "Metodajoin()\n",
    "\n",
    "- jak sugeruje nazwa (join - ang. łączyć), metoda ta wykonuje połączenie - oczekuje jednego argumentu jako listy; należy upewnić się, że wszystkie elementy listy są łańcuchami - w innym przypadku metoda ta zgłosi wyjątek TypeError;\n",
    "- wszystkie elementy listy zostaną połączone w jeden łańcuch, ale ...\n",
    "- ...łańcuch znaków, z którego wywołano metodę, zostanie użyty jako separator, umieszczony w łańcuchach;\n",
    "- nowo utworzony łańcuch jest zwracany jako wynik.\n",
    "###\n",
    "Metoda lower()\n",
    " tworzy kopię źródłowego łańcucha znaków, zastępuje wszystkie wielkie litery małymi literami, i zwraca ciąg jako wynik. Ponownie źródłowy łańcuch znaków pozostaje nietkniety\n",
    "###\n",
    " Bezparametrowa metoda lstrip()\n",
    "  zwraca łańcuch nowo utworzony z oryginalnego łańcucha, usuwając wszystkie wiodące spacje(z lewej)\n",
    "\n",
    "Metoda jednoparametrowa lstrip()\n",
    " działa tak samo, jak jej bezparametrowa wersja, ale usuwa wszystkie znaki wpisane w jej argument (łańcuch), a nie tylko spacje:\n",
    "\n",
    " print(\"www.cisco.com\".lstrip(\"w.\"))\n",
    "\n",
    " print(\"pythoninstitute.org\".lstrip(\".org\")) # nie dziala\n",
    "###\n",
    "Metoda dwuparametrowa replace()\n",
    " zwraca kopię oryginalnego łańcucha znaków, w której wszystkie wystąpienia pierwszego argumentu zostały zastąpione przez drugi argument\n",
    "\n",
    " Wariant trzyparametrowy replace() używa trzeciego argumentu (liczby) aby ograniczyć liczbę zamian.\n",
    "\n",
    " print(\"To jest to!\".replace(\"jest\", \"sa\", 1)) \n",
    " print(\"To jest to!\".replace(\"jest\", \"sa\", 2))\n",
    "\n",
    "###\n",
    "Metoda jedno-, dwu- i trzyparametrowa o nazwie rfind() robi prawie to samo, co jej odpowiedniki (te pozbawione prefiksu r) , ale rozpoczyna poszukiwania od końca łańcucha, a nie od początku (stąd przedrostek r, w rozwinięciu right czyli ang. 'prawa').\n",
    "\n",
    "print(\"tau tau tau\".rfind(\"ta\")) \n",
    "print(\"tau tau tau\".rfind(\"ta\", 9)) \n",
    "print(\"tau tau tau\".rfind(\"ta\", 3, 9)) \n",
    "\n",
    "###\n",
    "Dwa warianty metody rstrip()\n",
    " robią prawie to samo, co warianty metody lstrip, ale dotyczą przeciwnej strony łańcucha.\n",
    " \n",
    " print(\"[\" + \" upsilon \".rstrip() + \"]\") \n",
    " print(\"cisco.com\".rstrip(\".com\")) \n",
    "\n",
    "###\n",
    "Metoda split()\n",
    " dzieli łańcuch i tworzy listę wszystkich wykrytych podłańcuchów.\n",
    "\n",
    " print(\"phi       chi\\npsi\".split()) \n",
    "\n",
    " Uwaga: operację odwrotną można wykonać za pomocą metody join().\n",
    "\n",
    "###\n",
    "Metoda startswith()\n",
    " jest lustrzanym odbiciem metody endswith() - sprawdza ona, czy dany łańcuch znaków zaczyna się od podanego podłańcucha. zwraca bool\n",
    "\n",
    "###\n",
    "Metoda strip()\n",
    " łączy efekty powodowane przez rstrip() i lstrip() - tworzy nowy ciąg bez wszystkich wiodących i kończących spacji.\n",
    "\n",
    " print(\"[\" + \"   aleph   \".strip() + \"]\")\n",
    "\n",
    "###\n",
    "Metoda swapcase()\n",
    " Metoda swapcase() tworzy nowy łańcuch, zamieniając wielkość wszystkich liter w łańcuchu źródłowym: małe litery stają się wielkimi literami i na odwrót.\n",
    "\n",
    "###\n",
    "Metoda title()\n",
    " wykonuje nieco podobną funkcję - zmienia każdą pierwszą literę słowa na wielką, zamieniając wszystkie pozostałe na małe litery.\n",
    "\n",
    "###\n",
    "Ostatnia metoda upper()\n",
    " tworzy kopię łańcucha źródłowego, zastępując wszystkie małe litery wielkimi literami i zwraca łańcuch.\n",
    "\n",
    "1. Niektóre z metod oferowanych przez łańcuchy znaków to:\n",
    "\n",
    "capitalize() – zamienia wszystkie litery łańcucha na wielkie;\n",
    "center() – centruje łańcuch wewnątrz pola o znanej długości;\n",
    "count() – zlicza wystąpienia danego znaku;\n",
    "join() – łączy wszystkie elementy krotki/listy w jeden łańcuch;\n",
    "lower() – konwertuje wszystkie litery łańcucha na małe litery;\n",
    "lstrip() – usuwa białe znaki z początku łańcucha;\n",
    "replace() – zastępuje dany podłańcuch innym;\n",
    "rfind() – znajduje podłańcuch zaczynający się od końca łańcucha;\n",
    "rstrip() – usuwa końcowe białe spacje z końca łańcucha;\n",
    "split() – dzieli łańcuch znaków na podłańcuch przy użyciu podanego separatora;\n",
    "strip() – usuwa początkowe i końcowe białe spacje;\n",
    "swapcase() – zamienia wielkości liter (z małej na dużą i odwrotnie);\n",
    "title() – sprawia, że pierwsza litera w każdym słowie jest wielka;\n",
    "upper() – konwertuje wszystkie litery łańcucha na duże litery.\n",
    "\n",
    "2. Zawartość łańcucha można określić za pomocą następujących metod (wszystkie zwracają wartości logiczne):\n",
    "\n",
    "endswith() – czy łańcuch kończy się podanym podciągiem?\n",
    "isalnum() – czy łańcuch składa się tylko z liter i cyfr?\n",
    "isalpha() – czy łańcuch składa się tylko z liter?\n",
    "islower() – czy łańcuch składa się tylko z małych liter?\n",
    "isspace() – czy łańcuch składa się tylko z białych spacji?\n",
    "isupper() – czy łańcuch składa się tylko z dużych liter?\n",
    "startswith() – czy łańcuch zaczyna się od danego podciągu?\n",
    "\n",
    "\n",
    "\n",
    "\n",
    "\n",
    "\n",
    "\n",
    "\n"
   ]
  },
  {
   "cell_type": "code",
   "execution_count": null,
   "metadata": {},
   "outputs": [],
   "source": [
    "s1 = 'Gdzie są niegdysiejsze śniegi?'\n",
    "s2 = s1.split()\n",
    "print(s2[-2])\n"
   ]
  },
  {
   "cell_type": "markdown",
   "metadata": {},
   "source": [
    "Laboratorium 5.6.18.1 \n",
    "\n",
    "\n",
    "----> nie zrobione"
   ]
  },
  {
   "cell_type": "markdown",
   "metadata": {},
   "source": [
    "SORTOWANIE\n",
    "\n",
    "sorted() - nowa lista\n",
    "\n",
    "sort() - mod istniejacej listy"
   ]
  },
  {
   "cell_type": "markdown",
   "metadata": {},
   "source": [
    "1. Łańcuchy można porównać do łańcuchów za pomocą ogólnych operatorów porównania, ale porównywanie ich z liczbami nie daje rozsądnego wyniku, ponieważ żaden łańcuch nie może być równy dowolnej liczbie. Na przykład:\n",
    "\n",
    "łańcuch == liczba da zawsze False;\n",
    "łańcuch != liczba da zawsze True;\n",
    "łańcuch >= liczba zawsze zgłosi wyjątek.\n",
    "\n",
    "2. Sortowanie list łańcuchów znaków można wykonać przez:\n",
    "\n",
    "funkcję o nazwie sorted(), tworząca nową, posortowaną listę;\n",
    "metodę o nazwie sort(), który sortuje listę in situ\n",
    "\n",
    "3. Liczbę można przekonwertować na łańcuch za pomocą funkcji str().\n",
    "\n",
    "4. Łańcuch można przekonwertować na liczbę (chociaż nie każdy łańcuch) za pomocą funkcji int() lub float(). Konwersja nie powiedzie się, jeśli łańcuch nie zawiera prawidłowego obrazu liczbowego (wtedy jest zgłaszany wyjątek)."
   ]
  },
  {
   "cell_type": "code",
   "execution_count": 36,
   "metadata": {},
   "outputs": [
    {
     "name": "stdout",
     "output_type": "stream",
     "text": [
      "['  #\\n  #\\n  #\\n  #\\n  #', '###\\n  #\\n###\\n  #\\n###', '###\\n  #\\n  #\\n  #\\n  #', '###\\n# #\\n###\\n# #\\n###']\n"
     ]
    }
   ],
   "source": [
    "\n",
    "z = '''###\n",
    "# #\n",
    "# #\n",
    "# #\n",
    "### '''\n",
    "\n",
    "\n",
    "j = '''  #\n",
    "  #\n",
    "  #\n",
    "  #\n",
    "  #'''\n",
    "\n",
    "d = '''###\n",
    "  #\n",
    "###  \n",
    "#\n",
    "###'''\n",
    "\n",
    "t = '''###\n",
    "  #\n",
    "###\n",
    "  #\n",
    "###''' \n",
    "\n",
    "c = '''# #\n",
    "# #\n",
    "###   \n",
    "  #\n",
    "  #'''\n",
    "\n",
    "p = '''###\n",
    "# \n",
    "###\n",
    "  #\n",
    "###'''\n",
    "\n",
    "sz = '''###\n",
    "#\n",
    "###\n",
    "# #\n",
    "### '''\n",
    "\n",
    "s = '''###\n",
    "  #\n",
    "  #\n",
    "  #\n",
    "  #'''\n",
    "  \n",
    "o = '''###\n",
    "# #\n",
    "###\n",
    "# #\n",
    "###'''\n",
    "\n",
    "dz = '''###\n",
    "# #\n",
    "###\n",
    "  #\n",
    "  #'''\n",
    "\n",
    "# zrobic 5 list w ktorych kazda ma po jednej lini danej cyfry -> 5 petli rysujacych najpierw najwyzsza linie cyfer wyjscie nastepna petla kolejna linia wyjscie\n",
    "def wyswietlacz(liczba):\n",
    "    \n",
    "    lista = [z,j,d,t,c,p,sz,s,o,dz]\n",
    "    \n",
    "    lista_nowa = []\n",
    "\n",
    "    for i in str(liczba):\n",
    "        #print(lista[int(i)])\n",
    "        lista_nowa.append(lista[int(i)])  \n",
    "        \n",
    "    print(lista_nowa)                                      \n",
    "\n",
    "\n",
    "wyswietlacz(1378)\n"
   ]
  },
  {
   "cell_type": "code",
   "execution_count": 42,
   "metadata": {},
   "outputs": [
    {
     "name": "stdout",
     "output_type": "stream",
     "text": [
      "###\n",
      "# #\n",
      "###\n",
      "# #\n",
      "###\n"
     ]
    }
   ],
   "source": [
    "\n",
    "def osiem():\n",
    "    print('###',end = '\\n')\n",
    "    print('# #',end = '\\n')\n",
    "    print('###',end = '\\n')\n",
    "    print('# #',end = '\\n')\n",
    "    print('###',end = '\\n')\n",
    "    return None\n",
    "\n",
    "osiem()"
   ]
  },
  {
   "cell_type": "markdown",
   "metadata": {},
   "source": [
    "Python ord() function returns the Unicode code from a given character. This function accepts a string of unit length as an argument and returns the Unicode equivalence of the passed argument"
   ]
  },
  {
   "cell_type": "code",
   "execution_count": null,
   "metadata": {},
   "outputs": [],
   "source": [
    "# Szyfr Cezara\n",
    "tekst = input(\"Wpisz wiadomosc: \")\n",
    "szyfr = ''\n",
    "for char in tekst:\n",
    "    if not char.isalpha():\n",
    "        continue\n",
    "    char = char.upper()\n",
    "    kod = ord(char) + 1\n",
    "    if kod > ord('Z'):\n",
    "        kod = ord('A')\n",
    "    szyfr += chr(kod)\n",
    "\n",
    "print(szyfr)\n"
   ]
  },
  {
   "cell_type": "code",
   "execution_count": null,
   "metadata": {},
   "outputs": [],
   "source": [
    "# Szyfr Cezara - rozszyfrowywanie wiadomosci\n",
    "szyfr = input('Podaj kryptogram: ')\n",
    "tekst = ''\n",
    "for char in szyfr:\n",
    "    if not char.isalpha():\n",
    "        continue\n",
    "    char = char.upper()\n",
    "    kod = ord(char) - 1\n",
    "    if kod < ord('A'):\n",
    "        kod = ord('Z')\n",
    "    tekst += chr(kod)\n",
    "\n",
    "print(tekst)\n"
   ]
  },
  {
   "cell_type": "code",
   "execution_count": null,
   "metadata": {},
   "outputs": [],
   "source": [
    "# Program Przetwarzajacy Liczby\n",
    "\n",
    "sekwencja = input(\"Podaj sekwencje liczb - oddziel je spacjami: \")\n",
    "strings = sekwencja.split()\n",
    "total = 0\n",
    "try:\n",
    "    for substr in strings:\n",
    "        total += float(substr)\n",
    "    print(\"Suma wynosi:\", total)\n",
    "except:\n",
    "    print(substr, \"to nie jest liczba.\")"
   ]
  },
  {
   "cell_type": "code",
   "execution_count": null,
   "metadata": {},
   "outputs": [],
   "source": [
    "# walidator IBAN \n",
    "iban = input(\"Prosze, podaj IBAN: \")\n",
    "iban = iban.replace(' ','')\n",
    "\n",
    "if not iban.isalnum():\n",
    "    print(\"Wprowadzono niepoprawne znaki.\")\n",
    "elif len(iban) < 15:\n",
    "    print(\"Wprowadzony IBAN jest za krotki.\")\n",
    "elif len(iban) > 31:\n",
    "    print(\"Wprowadzony IBAN jest za dlugi.\")\n",
    "else:\n",
    "    iban = (iban[4:] + iban[0:4]).upper()\n",
    "    iban2 = ''\n",
    "    for ch in iban:\n",
    "        if ch.isdigit():\n",
    "            iban2 += ch\n",
    "        else:\n",
    "            iban2 += str(10 + ord(ch) - ord('A'))\n",
    "    ibann = int(iban2)\n",
    "    if ibann % 97 == 1:\n",
    "        print(\"Wprowadzony IBAN jest poprawny.\")\n",
    "    else:\n",
    "        print(\"Wprowadzony IBAN jest niepoprawny.\")\n",
    "\n",
    "\n",
    "\n",
    "\n"
   ]
  },
  {
   "cell_type": "markdown",
   "metadata": {},
   "source": [
    "\n",
    "1. Łańcuchy znaków to kluczowe narzędzia w nowoczesnym przetwarzaniu danych, ponieważ najbardziej przydatne dane to w rzeczywistości łańcuchy. Na przykład korzystanie z wyszukiwarki internetowej (która obecnie wydaje się dość trywialna) wykorzystuje niezwykle złożone i skomplikowane przetwarzanie łańcuchów znaków, obejmujące niewyobrażalne ilości danych."
   ]
  },
  {
   "cell_type": "markdown",
   "metadata": {},
   "source": [
    "Jedną z takich koncepcji jest odległość Hamminga, która służy do określenia podobieństwa dwóch łańcuchów. Jeśli to zagadnienie cię interesuje, możesz dowiedzieć się więcej na jego temat tutaj: https://pl.wikipedia.org/wiki/Odległość_Hamminga. Innym rozwiązaniem tego samego rodzaju, ale opartym na innym założeniu, jest opisana tutaj odległość Levenshteina: https://pl.wikipedia.org/wiki/Odlegegłość_Levenshteina."
   ]
  },
  {
   "cell_type": "markdown",
   "metadata": {},
   "source": [
    "3. Innym sposobem porównywania łańcuchów znaków jest znalezienie ich akustycznego podobieństwa, co oznacza proces prowadzący do określenia, czy dwia łańcuchy brzmią podobnie (np. „Podnoszenie” i „wyścig”). Takie podobieństwo należy ustalić dla każdego języka (a nawet dialektu) oddzielnie.\n",
    "\n",
    "Algorytm użyty do wykonania takiego porównania dla języka angielskiego nazywa się Soundex i został wynaleziony - nie uwierzysz - w 1918 roku. Więcej na ten temat możesz dowiedzieć się tutaj: https://pl.wikipedia.org/wiki/Soundex."
   ]
  },
  {
   "cell_type": "markdown",
   "metadata": {},
   "source": [
    "\n",
    "4. Ze względu na ograniczoną natywną dokładność danych typu float i integer czasami rozsądne jest przechowywanie i przetwarzanie dużych wartości liczbowych jako łańcuchów. Jest to technika, której Python używa, gdy wymusza się operację na liczbie całkowitej składającej się z bardzo dużej liczby cyfr."
   ]
  },
  {
   "cell_type": "code",
   "execution_count": null,
   "metadata": {},
   "outputs": [],
   "source": [
    "\n",
    "from curses.ascii import islower, isupper\n",
    "\n",
    "\n",
    "def szyfr_cezara():\n",
    "    \n",
    "    tekst = ''\n",
    "    szyfr = input('Podaj kryptogram: ')\n",
    "    \n",
    "\n",
    "    while True:\n",
    "      zmiana = input('o ile ma się przesunąć? od 1 do 25')\n",
    "      if zmiana.isdigit and int(zmiana) >= 1 and int(zmiana) <= 25:\n",
    "        break\n",
    "      else:\n",
    "        print('liczba musi być w przedziale od 1 do 25')\n",
    "    \n",
    "\n",
    "    for char in szyfr:\n",
    "    \n",
    "      if not char.isalpha(): \n",
    "        continue\n",
    "         \n",
    "      if islower(char):\n",
    "        if (ord(str(char)) + int(zmiana)) > 122 or (ord(str(char)) + int(zmiana)) < 97:\n",
    "\n",
    "          roz = 122 - ord(str(char))\n",
    "          wynik = 97 + (int(zmiana) - roznica)\n",
    "          kod = chr(wynik - 1)\n",
    "\n",
    "        else:\n",
    "          kod = chr(int(ord(str(char))) + int(zmiana)) \n",
    "        \n",
    "      if isupper(char):\n",
    "        if (ord(str(char)) + int(zmiana)) > 90 or (ord(str(char)) + int(zmiana)) < 65:\n",
    "\n",
    "          roznica = 90 - ord(str(char))\n",
    "          wynik = 65 + (int(zmiana) - roznica)\n",
    "          kod = chr(wynik - 1)\n",
    "\n",
    "        else:\n",
    "          kod = chr(int(ord(str(char)) -1) + int(zmiana))\n",
    "\n",
    "\n",
    "      tekst += kod\n",
    "        \n",
    "    print(tekst)\n",
    "\n",
    "\n",
    "szyfr_cezara()\n"
   ]
  },
  {
   "cell_type": "code",
   "execution_count": null,
   "metadata": {},
   "outputs": [],
   "source": [
    "#LABO 5.8.1.7\n",
    "\n",
    "#replace(' ', '') lub continue\n",
    "#robimy najpierw na duze potem operacja i wracamy do mayl"
   ]
  },
  {
   "cell_type": "code",
   "execution_count": null,
   "metadata": {},
   "outputs": [],
   "source": [
    "#LABO 5.8.1.8"
   ]
  },
  {
   "cell_type": "code",
   "execution_count": null,
   "metadata": {},
   "outputs": [],
   "source": [
    "#LABO 5.8.1.9"
   ]
  },
  {
   "cell_type": "code",
   "execution_count": null,
   "metadata": {},
   "outputs": [],
   "source": [
    "#LABO 5.8.1.10"
   ]
  },
  {
   "cell_type": "code",
   "execution_count": null,
   "metadata": {},
   "outputs": [],
   "source": [
    "#LABO 5.8.1.11"
   ]
  },
  {
   "cell_type": "markdown",
   "metadata": {},
   "source": [
    "#####\n",
    "\n",
    "BŁĘDY\n",
    "\n",
    "Wypisz najwazniejsze"
   ]
  },
  {
   "cell_type": "markdown",
   "metadata": {},
   "source": [
    "\n",
    "try: \n",
    "    x = int(input(\"Wprowadź liczbe: \"))\n",
    "    y = 1 / x\n",
    "except: \n",
    "    print(\"Oj, coc poszlo nie tak ...\")\n",
    "\n",
    "print(\"KONIEC.\")\n",
    "\n",
    "\n",
    "\n",
    "- Komunikat: Oj, coś poszło nie tak ... pojawiający się w konsoli nic nie mówi o przyczynie, a istnieją dwie możliwe przyczyny wyjątku:\n",
    "\n",
    "dane niecałkowite wprowadzone przez użytkownika;\n",
    "wartość całkowita równa 0 przypisana do zmiennej x.\n",
    "\n",
    "Technicznie rzecz biorąc, istnieją dwa sposoby rozwiązania tego problemu:\n",
    "\n",
    "- zbuduj dwa kolejne bloki try-except, po jednym dla każdej możliwej przyczyny wyjątku (łatwe, ale spowoduje to niekorzystne wydłużenie kodu)\n",
    "- użyj bardziej zaawansowanego wariantu instrukcji.\n",
    "\n",
    "Oto, jak to działa:\n",
    "\n",
    "- jeśli gałąźtry zgłasza wyjątek exc1, to będzie on obsługiwany przez blok except exc1:;\n",
    "- podobnie, jeśli gałąź try zgłasza wyjątek exc2, to będzie on obsługiwany przez blok except exc2:;\n",
    "- jeśli gałąź try zgłasza inny wyjątek, to będzie on obsługiwany przez nienazwany blok except.\n",
    "\n",
    "\n",
    "- gałęzie except są przeszukiwane w tej samej kolejności, w jakiej pojawiają się w kodzie;\n",
    "- nie wolno używać więcej niż jednej gałęzi except o danej nazwie wyjątku;\n",
    "- liczba różnych gałęzi except jest dowolna - jedynym warunkiem jest to, że jeśli używasz try, musisz umieścić po nim co najmniej jeden except (nazwany lub nie);\n",
    "- słowo kluczowe except nie może zostać użyte bez poprzedzającego try;\n",
    "- jeśli zostanie wykonana którakolwiek z gałęzi except, inne gałęzie nie zostaną przejrzane;\n",
    "- jeśli żadna z określonych gałęzi except nie pasuje do zgłoszonego wyjątku, wyjątek ten pozostanie nieobsłużony (omówimy to wkrótce)\n",
    "- jeśli istnieje gałąź except bez nazwy (bez nazwy wyjątku), to musi ona być określona jako ostatnia"
   ]
  },
  {
   "cell_type": "markdown",
   "metadata": {},
   "source": [
    ":\n",
    "# Kod, który zawsze działa płynnie.\n",
    ":\n",
    "try:\n",
    "    :\n",
    "    # Risky code.\n",
    "    :\n",
    "except wyjatek 1:\n",
    "    :\n",
    "    # Tu odbywa się zarządzanie kryzysowe.\n",
    "    : \n",
    "except Wyjątek_2:\n",
    "\n",
    "    # Tutaj ratujemy świat.\n",
    ":\n",
    "# Powrót do normalności.\n",
    ":\n",
    "\n",
    "\n",
    " You cannot add more than one anonymous (unnamed) except branch after the named ones.\n",
    "\n",
    " :\n",
    "# Kod, który zawsze działa płynnie.\n",
    ":\n",
    "try:\n",
    "    :\n",
    "    # Ryzykowny kod.\n",
    "    :\n",
    "except Except_1:\n",
    "    # Tu odbywa się zarządzanie kryzysowe.\n",
    "except Except_2:\n",
    "    # Tutaj ratujemy świat.\n",
    "except:\n",
    "    # Wszystkie inne kwestie mieszczą się tutaj.\n",
    ":\n",
    "# Powrót do normalności.\n",
    ":"
   ]
  },
  {
   "cell_type": "markdown",
   "metadata": {},
   "source": [
    "Język Python 3 definiuje 63 wbudowane wyjątki, a wszystkie one tworzą hierarchię w kształcie drzewa, chociaż to drzewo jest nieco dziwne, ponieważ jego korzeń znajduje się na górze.\n",
    "\n",
    "\n",
    "\n",
    "# 5.10.1.1  - drzewo wyjatkow\n",
    "\n",
    "ZeroDivisionError to specjalny przypadek bardziej ogólnej klasy wyjątku zwanej ArithmeticError;\n",
    "\n",
    "ArithmeticError to specjalny przypadek bardziej ogólnej klasy wyjątku zwanej Exception;\n",
    "\n",
    "Exception to specjalny przypadek bardziej ogólnej klasy wyjątku zwanej BaseException;\n",
    "\n",
    "BaseException\n",
    "↑\n",
    "Exception\n",
    "↑\n",
    "ArithmeticError\n",
    "↑\n",
    "ZeroDivisionError\n",
    "\n"
   ]
  },
  {
   "cell_type": "code",
   "execution_count": null,
   "metadata": {},
   "outputs": [],
   "source": [
    "try:\n",
    "    y = 1 / 0\n",
    "except ArithmeticError:\n",
    "    print(\"Uuuppsss...\")\n",
    "\n",
    "print(\"KONIEC.\")\n",
    "\n",
    "\n",
    "# Oznacza to również, że zastąpienie nazwy wyjątku przez Exception lub BaseException nie zmieni zachowania programu."
   ]
  },
  {
   "cell_type": "markdown",
   "metadata": {},
   "source": [
    "- każdy zgłoszony wyjątek mieści się w pierwszej pasującej gałęzi;\n",
    "- pasująca gałąź nie musi dokładnie określać tego samego wyjątku - wystarczy, że wyjątek jest bardziej ogólny (bardziej abstrakcyjny) niż ten zgłoszony."
   ]
  },
  {
   "cell_type": "markdown",
   "metadata": {},
   "source": [
    "Pamiętaj:\n",
    "\n",
    "- kolejność gałęzi ma znaczenie!\n",
    "- nie umieszczaj bardziej ogólnych wyjątków przed bardziej konkretnymi;\n",
    "- taki ruch sprawi, że ta druga gałąź będzie niedostępna i bezużyteczna;\n",
    "- co więcej, spowoduje to, że twój kod będzie nieuporządkowany i niespójny;\n",
    "- Język Python nie wygeneruje żadnych komunikatów o błędach dotyczących tego problemu.\n",
    "\n",
    "mozliwe jest rowniez obsluzenie dwoch wyjatkow i wiecej na raz:\n",
    "\n",
    "try:\n",
    "    :\n",
    "except (exc1, exc2): \n",
    "    :\n",
    "\n",
    "###\n",
    "\n",
    "Jeśli wyjątek zostanie zgłoszony wewnątrz funkcji, może zostać obsłużony:\n",
    "\n",
    "wewnątrz funkcji;\n",
    "poza funkcją;\n",
    "\n",
    "def zla_fun(n):\n",
    "    try:\n",
    "        return 1 / n\n",
    "    except ArithmeticError:\n",
    "        print(\"Problem Arytmetyczny!\")\n",
    "    return None\n",
    "\n",
    "zla_fun(0)\n",
    "\n",
    "print(\"KONIEC.\")\n",
    "\n",
    "####\n",
    "\n",
    "def zla_fun(n): \n",
    "    return 1 / n\n",
    "\n",
    "try:\n",
    "    zla_fun(0)\n",
    "except ArithmeticError: \n",
    "    print(\"Co sie stalo? Zgloszono wyjatek!\")\n",
    "\n",
    "print(\"KONIEC.\")"
   ]
  },
  {
   "cell_type": "markdown",
   "metadata": {},
   "source": [
    "INSTRUKCJA RAISE\n",
    "\n",
    "- symulację zgłaszania rzeczywistych wyjątków (np. w celu przetestowania strategii ich obsługi)\n",
    "- częściowo obsługę wyjątku i przełożenie odpowiedzialności za ukończenie obsługi na inną część kodu (separacja zagadnień).\n",
    "\n",
    "\n",
    "W ten sposób możesz przetestować swoją procedurę obsługi wyjątków bez zmuszania kodu do robienia głupich rzeczy.\n"
   ]
  },
  {
   "cell_type": "markdown",
   "metadata": {},
   "source": [
    "Instrukcja raise może być również użyta w następujący sposób (zauważ brak nazwy wyjątku):\n",
    "\n",
    "raise\n",
    "\n",
    "\n",
    "Jest jedno poważne ograniczenie: ten rodzaj instrukcji raise może być użyty wyłącznie wewnątrz gałęzi except; używanie go w jakimkolwiek innym kontekście powoduje błąd.\n",
    "\n",
    "Instrukcja natychmiast ponownie zgłosi ten sam wyjątek, który jest aktualnie obsługiwany."
   ]
  },
  {
   "cell_type": "code",
   "execution_count": null,
   "metadata": {},
   "outputs": [],
   "source": [
    "def zlaFun(n):\n",
    "    try:\n",
    "        return n / 0\n",
    "    except: \n",
    "        print(\"Zrobilem to jeszcze raz!\")\n",
    "        raise\n",
    "\n",
    "\n",
    "try:\n",
    "    zlaFun(0)\n",
    "except ArithmeticError: \n",
    "    print(\"Rozumiem!\")\n",
    "\n",
    "print(\"KONIEC.\")\n",
    "\n",
    "##########################"
   ]
  },
  {
   "cell_type": "markdown",
   "metadata": {},
   "source": [
    "ASSERT\n",
    "\n",
    "Jak to działa?\n",
    "\n",
    "- Analizuje wyrażenie;\n",
    "- jeśli wyrażenie zwraca wartość True, lub niezerową wartość liczbową, lub niepusty łańcuch znaków, lub jakąkolwiek wartość inną niż None, nie zrobi niczego więcej;\n",
    "- w przeciwnym razie, automatycznie i natychmiast zgłosi wyjątek o nazwie AssertionError (w tym przypadku mówimy, że instrukcja assert się nie powiodła)\n",
    "\n",
    "Jak można to wykorzystać?\n",
    "\n",
    "- możesz umieścić instrukcję w swoim kodzie, kiedy chcesz być całkowicie chroniony przed ewidentnie błędnymi danymi i kiedy nie masz absolutnej pewności, że dane zostały wcześniej dokładnie sprawdzone (np. wewnątrz funkcji używanej przez kogoś innego)\n",
    "- zgłoszenie wyjątku AssertionError zabezpiecza twój kod przed wygenerowaniem nieprawidłowych wyników i wyraźnie pokazuje charakter błędu;\n",
    "- instrukcje assert nie zastępują wyjątków ani nie potwierdzają danych - są ich dodatkami.\n"
   ]
  },
  {
   "cell_type": "code",
   "execution_count": null,
   "metadata": {},
   "outputs": [],
   "source": [
    "import math \n",
    "\n",
    "x = float(input(\"Wprowadz liczbe: \"))\n",
    "assert x >= 0.0\n",
    "\n",
    "x = math.sqrt(x)\n",
    "\n",
    "print(x) \n"
   ]
  },
  {
   "cell_type": "markdown",
   "metadata": {},
   "source": [
    "# Najbardziej uzyteczne błedy:\n",
    "\n",
    "###\n",
    "ArithmeticError\n",
    "Lokalizacja: BaseException ← Exception ← ArithmeticError\n",
    "\n",
    "Opis: niejasny wyjątek, w którego skład wchodzą wszystkie wyjątki spowodowane przez arytmetyczne operacje takie jak dzielenie przez zero lub nieprawidłowa domena argumentu\n",
    "\n",
    "\n",
    "###\n",
    "AssertionError\n",
    "Lokalizacja: BaseException ← Exception ← AssertionError\n",
    "\n",
    "Opis: konkretny wyjątek wywołany przez instrukcję asercji, kiedy jej argument sprowadza się do wartości False, None, 0 lub niepustego łańcucha znaków\n",
    "\n",
    "*******************\n",
    "from math import tan, radians\n",
    "kat = int(input('Wprowadz kat podany w stopniach: '))\n",
    "\n",
    "# musimy byc pewni, ze != 90 + k * 180\n",
    "assert kat % 180 != 90\n",
    "print(tan(radians(kat)))\n",
    "\n",
    "###\n",
    "BaseException\n",
    "Lokalizacja: BaseException\n",
    "\n",
    "Opis: najbardziej generalny (abstrakcyjny) ze wszystkich wyjątków języka Python - wszystkie pozostałe wyjątki zawierają się właśnie w tym wyjątku; można stwierdzić, że następujące dwie gałęzie except są sobie równe: except: i except BaseException:.\n",
    "\n",
    "###\n",
    "IndexError\n",
    "Lokalizacja: BaseException ← Exception ← LookupError ← IndexError\n",
    "\n",
    "Opis: konkretny wyjątek wywołany, kiedy próbujesz uzyskać dostęp do nieistniejącego elementu sekwencji (np. elementu listy)\n",
    "\n",
    "***************\n",
    "#kod pokazuje dziwaczny sposob\n",
    "#opuszczania petli\n",
    "\n",
    "lista = [1, 2, 3, 4, 5]\n",
    "ix = 0\n",
    "zrobTo = True\n",
    "\n",
    "while zrobTo\n",
    "    try:\n",
    "        print(lista[ix])\n",
    "        ix += 1\n",
    "    except IndexError:\n",
    "        zrobTo = False\n",
    "\n",
    "print('Zrobione')\n",
    "\n",
    "###\n",
    "\n",
    "KeyboardInterrupt\n",
    "Lokalizacja: BaseException ← KeyboardInterrupt\n",
    "\n",
    "Opis: konkretny wyjątek wywołany kiedy użytkownik korzysta ze skrótu klawiaturowego przeznaczonego do zakończenia wykonywania programu (Ctrl-C w przypadku większości systemów operacyjnych); jeśli obsługa tego wyjątku nie prowadzi do zakończenia działania programu, działanie programu jest kontynuowane. Uwaga: ten wyjątek nie ma swojego źródła w klasie Exception. Uruchom program w IDLE.\n",
    "\n",
    "******************\n",
    "#dzialanie tego kodu nie moze zostac zakonczone\n",
    "#poprzez wcisniecie Ctrl-C\n",
    "\n",
    "from time import sleep\n",
    "\n",
    "sekundy = 0\n",
    "\n",
    "while True:\n",
    "    try:\n",
    "        print(sekundy)\n",
    "        sekundy += 1\n",
    "        sleep(1)\n",
    "    except KeyboardInterrupt:\n",
    "        print(\"Nie rob tego!\")\n",
    "\n",
    "###\n",
    "\n",
    "LookupError\n",
    "Lokalizacja: BaseException ← Exception ← LookupError\n",
    "\n",
    "Opis: abstrakcyjny wyjątek, do którego zaliczają się wszystkie wyjątki spowodowane przez błędy wynikające z nieprawidłowych odniesień do innych kolekcji (list, słowników, krotek, itp.)\n",
    "\n",
    "###\n",
    "\n",
    "MemoryError\n",
    "Lokalizacja: BaseException ← Exception ← MemoryError\n",
    "\n",
    "Opis: konkretny wyjątek wywołany kiedy operacja nie może zostać ukończona powodu braku wolnej pamięci\n",
    "\n",
    "*****************\n",
    "#ten blad powoduje wyjatek MemoryError\n",
    "#ostrzezenie: wywolanie tego kodu moz byc istotne dla twojego OS\n",
    "#nie uruchamiaj go w srodowisku produkcyjnym!\n",
    "\n",
    "string = 'x'\n",
    "try:\n",
    "    while True:\n",
    "        string = string + string\n",
    "        print(len(string))\n",
    "except MemoryError:\n",
    "    print('To nie jest smieszne!')\n",
    "\n",
    "###\n",
    "\n",
    "OverflowError\n",
    "Lokalizacja: BaseException ← Exception ← ArithmeticError ← OverflowError\n",
    "\n",
    "Opis: konkretny wyjątek wywołany kiedy wynikiem operacji jest liczba, która jest za duża, żeby mogła być z powodzeniem przechowywana\n",
    "\n",
    "*****************\n",
    "#kod wyswietla kolejne\n",
    "#wartosci exp(k), k = 1, 2, 4, 8, 16, ...\n",
    "\n",
    "from math import exp\n",
    "\n",
    "ex = 1\n",
    "\n",
    "try:\n",
    "    while True:\n",
    "        print(exp(ex))\n",
    "        ex *= 2\n",
    "except OverflowError:\n",
    "    print('Liczba jest za duza.')\n",
    "\n",
    "###\n",
    "ImportError\n",
    "Lokalizacja: BaseException ← Exception ← StandardError ← ImportError\n",
    "\n",
    "Opis: konkretny wyjątek wywołany przez nieudaną operację importowania\n",
    "**********\n",
    "#jeden z tych importow zawiedzie - ktory?\n",
    "\n",
    "try:\n",
    "    import math\n",
    "    import time\n",
    "    import abracadabra\n",
    "\n",
    "except:\n",
    "    print('Jeden z twoich importow nie powiodl sie.')\n",
    "\n",
    "###\n",
    "KeyError\n",
    "Lokalizacja: BaseException ← Exception ← LookupError ← KeyError\n",
    "\n",
    "Opis: konkretny wyjątek wywołany, kiedy próbujesz uzyskać dostęp do nieistniejącego elementu kolekcji (np. elementu słownika)\n",
    "\n",
    "************\n",
    "#jak naruszyc slownik\n",
    "#jak sobie z tym radzic\n",
    "\n",
    "dict = { 'a' : 'b', 'b' : 'c', 'c' : 'd' }\n",
    "ch = 'a'\n",
    "\n",
    "try:\n",
    "    while True:\n",
    "        ch = dict[ch]\n",
    "        print(ch)\n",
    "except KeyError:\n",
    "    print('Brak klucza:', ch)"
   ]
  },
  {
   "cell_type": "markdown",
   "metadata": {},
   "source": [
    "https://docs.python.org/3.6/library/exceptions.html.\n",
    "\n",
    "reszta wyjatkow"
   ]
  },
  {
   "cell_type": "markdown",
   "metadata": {},
   "source": [
    "# TEST 5\n",
    "\n",
    "predefiniowana zmienna Python ktora przechowuje biezaca nazwe modulu nazywa sie __name__\n",
    "\n",
    "assert var == 0\n",
    "\n",
    "nienazwany blok except\n",
    "\n",
    "UTF-8 jest forma kodowania punktow kodowych unicodei\n",
    "\n",
    "kiedy modul jest importowany jego zawartosc \n",
    "\n",
    "plil pyc zawiera"
   ]
  },
  {
   "cell_type": "code",
   "execution_count": null,
   "metadata": {},
   "outputs": [],
   "source": []
  },
  {
   "cell_type": "code",
   "execution_count": 1,
   "metadata": {},
   "outputs": [
    {
     "name": "stdout",
     "output_type": "stream",
     "text": [
      "1\n"
     ]
    }
   ],
   "source": [
    "x = '\\''\n",
    "print(len(x))"
   ]
  }
 ],
 "metadata": {
  "kernelspec": {
   "display_name": "Python 3.6.9 64-bit",
   "language": "python",
   "name": "python3"
  },
  "language_info": {
   "codemirror_mode": {
    "name": "ipython",
    "version": 3
   },
   "file_extension": ".py",
   "mimetype": "text/x-python",
   "name": "python",
   "nbconvert_exporter": "python",
   "pygments_lexer": "ipython3",
   "version": "3.6.9"
  },
  "orig_nbformat": 4,
  "vscode": {
   "interpreter": {
    "hash": "31f2aee4e71d21fbe5cf8b01ff0e069b9275f58929596ceb00d14d90e3e16cd6"
   }
  }
 },
 "nbformat": 4,
 "nbformat_minor": 2
}
