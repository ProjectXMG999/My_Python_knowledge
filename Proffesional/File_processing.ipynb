{
 "cells": [
  {
   "cell_type": "markdown",
   "metadata": {},
   "source": [
    "\n",
    "In this course, you will learn about:\n",
    "\n",
    "sqlite - interacting with SQLite databases;\n",
    "xml - creating and processing XML files;\n",
    "csv - CSV file reading and writing;\n",
    "logging - basics logging facility for Python;\n",
    "configparser - configuration file parser.\n",
    "\n",
    "\n",
    "\n"
   ]
  },
  {
   "cell_type": "markdown",
   "metadata": {},
   "source": [
    "# SQLITE"
   ]
  },
  {
   "cell_type": "markdown",
   "metadata": {},
   "source": [
    "- connect - method\n",
    "- cursor - method of connect obj\n",
    "\n",
    "When connecting to the database using the connect method, a Connection object is created. It has a very useful method called cursor. The method creates a Cursor object that allows any SQL statements to be executed in the database. What does it look like in practice? Let's look at the code responsible for creating the table called tasks:\n",
    "\n",
    "\n",
    "- execute - Calling the execute method executes the CREATE TABLE statement in our database. The execute method takes any single SQL statement and optional parameters necessary to execute the query. The variant with optional parameters will be presented when we discuss inserting data in the database.\n",
    "\n",
    "\n",
    "NOTE: Running the above program twice will throw an exception with the following message: sqlite3.OperationError: table tasks already exists. This is because the statement is trying to re-create a table with the same name. The solution to this problem is to modify the query as follows:\n",
    "\n",
    "\n",
    "types :\n",
    "INTEGER, TEXT, NULL, REAL, BLOB\n",
    "\n",
    "INSERT INTO"
   ]
  },
  {
   "cell_type": "code",
   "execution_count": null,
   "metadata": {},
   "outputs": [],
   "source": [
    "import sqlite3\n",
    "\n",
    "conn = sqlite3.connect('todo.db')\n",
    "c = conn.cursor()\n",
    "c.execute('''CREATE TABLE IF NOT EXISTS  tasks (\n",
    "id INTEGER PRIMARY KEY,\n",
    "name TEXT NOT NULL,\n",
    "priority INTEGER NOT NULL\n",
    ");''')\n"
   ]
  },
  {
   "cell_type": "markdown",
   "metadata": {},
   "source": [
    "commit()\n",
    "close()\n",
    "\n",
    "NOTE: Restarting the program will create another task with the same name and priority, but with a different value that is auto-incremental.\n",
    "\n",
    "\n",
    "\n",
    "executemany() - The executemany method allows you to insert multiple records at once. As an argument, it accepts an SQL statement and an array containing any number of tuples."
   ]
  },
  {
   "cell_type": "code",
   "execution_count": null,
   "metadata": {},
   "outputs": [],
   "source": [
    "import sqlite3\n",
    "\n",
    "conn = sqlite3.connect('todo.db')\n",
    "c = conn.cursor()\n",
    "c.execute('''CREATE TABLE IF NOT EXISTS tasks (\n",
    "id INTEGER PRIMARY KEY,\n",
    "name TEXT NOT NULL,\n",
    "priority INTEGER NOT NULL\n",
    ");''')\n",
    "tasks = [\n",
    "    ('My first task', 1),\n",
    "    ('My second task', 5),\n",
    "    ('My third task', 10),\n",
    "]\n",
    "c.executemany('INSERT INTO tasks (name, priority) VALUES (?,?)', tasks)\n",
    "conn.commit()\n",
    "conn.close()\n"
   ]
  },
  {
   "cell_type": "markdown",
   "metadata": {},
   "source": [
    "__Refatcoring__ - Refactoring is a very important process during software development. The main purpose of refactoring is to improve the quality of the code. Every programmer in their career will have to refactor either their own or someone else’s code sooner or later.\n",
    "\n",
    "A very common mistake made by young adepts of the art of programming is to repeat the same pieces of code in different places in the application. In this case, refactoring consists of creating a function containing repetitive fragments. As a result, the code’s volume is reduced, and it becomes more readable.\n",
    "\n",
    "You've probably noticed that adding new functionalities to our TODO application would be very difficult. This is a sign that our application requires refactoring. Below are suggestions for changes we can make:\n",
    "\n",
    "1. creating a class called TODO that will connect to the database in the constructor. If you want, you can implement a separate method called connect for this purpose;\n",
    "2. moving the code responsible for creating the taskstable to the method named create_tasks_table;\n",
    "3. creating a method called add_task that will get the task name and priority from the user instead of using hardcoded values.\n",
    "\n",
    "Will we be able to easily implement, for example, the data display functionality after these changes? Find out about this later in the course.\n",
    "\n"
   ]
  },
  {
   "cell_type": "code",
   "execution_count": null,
   "metadata": {},
   "outputs": [],
   "source": [
    "import sqlite3\n",
    "\n",
    "class Todo:\n",
    "    def __init__(self):\n",
    "        self.conn = sqlite3.connect('todo.db')\n",
    "        self.c = self.conn.cursor()\n",
    "        self.create_task_table()\n",
    "        \n",
    "    def create_task_table(self):\n",
    "        self.c.execute('''CREATE TABLE IF NOT EXISTS tasks (\n",
    "                     id INTEGER PRIMARY KEY,\n",
    "                     name TEXT NOT NULL,\n",
    "                     priority INTEGER NOT NULL\n",
    "                     );''')\n",
    "    \n",
    "    def add_task(self):\n",
    "        name = input('Enter task name: ')\n",
    "        priority = int(input('Enter priority: '))\n",
    "        \n",
    "        self.c.execute('INSERT INTO tasks (name, priority) VALUES (?,?)', (name, priority))\n",
    "        self.conn.commit()\n",
    "\n",
    "app = Todo()\n",
    "app.add_task()"
   ]
  },
  {
   "cell_type": "markdown",
   "metadata": {},
   "source": [
    "__SELECT__\n",
    "\n",
    "The SELECT statement allows you to read data from one or more tables. Its syntax looks like this:\n",
    "\n",
    "SELECT column FROM table_name;\n",
    "\n",
    "or\n",
    "\n",
    "SELECT column1, column2, column3, …, columnN FROM table_name;\n",
    "\n",
    "or\n",
    "\n",
    "SELECT * FROM table_name;\n",
    "\n",
    "\n",
    "In the first variant, we decide to read the values saved in only one column. If we'd like to read only the names of the tasks saved in the tasks table, we could use the following query:\n",
    "\n",
    "SELECT name FROM tasks;\n",
    "\n",
    "The second variant allows you to read values from more columns. If we'd like to read the task names and their priorities, we could use the following query:\n",
    "\n",
    "SELECT name, priority FROM tasks;\n",
    "\n",
    "If we don’t have any specific requirements, we can read the values from all columns:\n",
    "\n",
    "SELECT * FROM tasks;\n",
    "\n",
    "The last variant will display the values saved in the id, name and priority columns.\n",
    "\n"
   ]
  },
  {
   "cell_type": "code",
   "execution_count": null,
   "metadata": {},
   "outputs": [],
   "source": [
    "import sqlite3\n",
    "\n",
    "conn = sqlite3.connect('todo.db')\n",
    "c = conn.cursor()\n",
    "for row in c.execute('SELECT * FROM tasks'):\n",
    "    print(row)\n",
    "conn.close()\n"
   ]
  },
  {
   "cell_type": "markdown",
   "metadata": {},
   "source": [
    "- It probably won’t surprise you to learn that reading data saved in the database is done with the well-known Cursor object. After calling the execute method with the appropriate SELECT statement, the Cursor object is treated as an iterator. Look at the code in the editor.\n",
    "\n",
    "\n",
    "!!! The variable row in each iteration takes a row in the form of a tuple. Access to individual columns is done using an index, e.g., print (row [0]) will display the values saved in the id column."
   ]
  },
  {
   "cell_type": "markdown",
   "metadata": {},
   "source": [
    "__fetchall__ The fetchall method fetches all records (those not yet fetched from the query result). Look at the code in the editor.\n",
    "\n",
    "\n",
    "\n",
    "!!!! The fetchall method is less efficient than the iterator, because it reads all records into the memory and then returns a list of tuples. For small amounts of data, it doesn't matter, but if your table contains a huge number of records, this can cause memory issues.\n",
    "\n",
    "NOTE: The fetchall method returns an empty list when no rows are available."
   ]
  },
  {
   "cell_type": "code",
   "execution_count": null,
   "metadata": {},
   "outputs": [],
   "source": [
    "import sqlite3\n",
    "\n",
    "conn = sqlite3.connect('todo.db')\n",
    "c = conn.cursor()\n",
    "c.execute('SELECT * FROM tasks')\n",
    "rows = c.fetchall()\n",
    "for row in rows:\n",
    "    print(row)\n",
    "conn.close()\n"
   ]
  },
  {
   "cell_type": "markdown",
   "metadata": {},
   "source": [
    "__fetchone__ \n",
    "\n",
    "the Cursor object provides a very useful method called fetchone to retrieve the next available record. Look at the code in the editor.\n",
    "\n",
    "Result:\n",
    "\n",
    "(1, 'My first task', 1)\n",
    "(2, 'My second task', 5)\n",
    "\n",
    "NOTE: The fetchone method returns None if there is no data to read."
   ]
  },
  {
   "cell_type": "code",
   "execution_count": null,
   "metadata": {},
   "outputs": [],
   "source": [
    "import sqlite3\n",
    "\n",
    "conn = sqlite3.connect('todo.db')\n",
    "c = conn.cursor()\n",
    "c.execute('SELECT * FROM tasks')\n",
    "row = c.fetchone()\n",
    "print(row)\n",
    "row = c.fetchone()\n",
    "print(row)\n",
    "conn.close()\n"
   ]
  },
  {
   "cell_type": "markdown",
   "metadata": {},
   "source": [
    "LABO : 1.2.1.1"
   ]
  },
  {
   "cell_type": "markdown",
   "metadata": {},
   "source": [
    "__UNIQUE__ \n",
    "\n",
    "If you never want to have duplicates, you should declare this as a table constraint:\n",
    "\n",
    "CREATE TABLE bookmarks(\n",
    "    users_id INTEGER,\n",
    "    lessoninfo_id INTEGER,\n",
    "    UNIQUE(users_id, lessoninfo_id)\n",
    "\n",
    "INSERT OR IGNORE INTO bookmarks(users_id, lessoninfo_id) VALUES(123, 456)"
   ]
  },
  {
   "cell_type": "markdown",
   "metadata": {},
   "source": [
    "__UPDATE__\n",
    "- Each of the tasks created has its own priority, but what if we decide that one of them should be done earlier than the others. How can we increase its priority? We have to use the SQL statement called UPDATE.\n",
    "\n",
    "\n",
    "As before, we execute all SQL statements using the execute method. Look at the code in the editor."
   ]
  },
  {
   "cell_type": "code",
   "execution_count": null,
   "metadata": {},
   "outputs": [],
   "source": [
    "import sqlite3\n",
    "\n",
    "conn = sqlite3.connect('todo.db')\n",
    "c = conn.cursor()\n",
    "c.execute('UPDATE tasks SET priority = ? WHERE id = ?', (20, 1))\n",
    "c.commit()\n",
    "c.close()\n"
   ]
  },
  {
   "cell_type": "markdown",
   "metadata": {},
   "source": [
    "If we'd like to set the priority to 20 for a task with idequal to 1, we can use the following query:\n",
    "\n",
    "UPDATE tasks SET priority = 20 WHERE id = 1;\n",
    "\n",
    "!!! NOTE: If you forget about the WHERE clause, all data in the table will be updated."
   ]
  },
  {
   "cell_type": "markdown",
   "metadata": {},
   "source": [
    "__DELETE__ \n",
    "\n",
    "schemat = DELETE FROM table_name WHERE condition;"
   ]
  },
  {
   "cell_type": "code",
   "execution_count": null,
   "metadata": {},
   "outputs": [],
   "source": [
    "import sqlite3\n",
    "\n",
    "conn = sqlite3.connect('todo.db')\n",
    "c = conn.cursor()\n",
    "c.execute('DELETE FROM tasks WHERE id = ?', (1,))\n",
    "c.commit()\n",
    "c.close()\n"
   ]
  },
  {
   "cell_type": "markdown",
   "metadata": {},
   "source": [
    "LAB 1.4.1.1"
   ]
  },
  {
   "cell_type": "code",
   "execution_count": null,
   "metadata": {},
   "outputs": [],
   "source": [
    "import sqlite3\n",
    "\n",
    "class Todo:\n",
    "    def __init__(self):\n",
    "        self.conn = sqlite3.connect('todo.db')\n",
    "        self.c = self.conn.cursor()\n",
    "        self.create_task_table()\n",
    "        \n",
    "    def create_task_table(self):\n",
    "        self.c.execute('''CREATE TABLE IF NOT EXISTS tasks (\n",
    "                     id INTEGER PRIMARY KEY,\n",
    "                     name TEXT NOT NULL,\n",
    "                     priority INTEGER NOT NULL\n",
    "                     );''')\n",
    "    \n",
    "    def add_task(self):\n",
    "        name = input('Enter task name: ')\n",
    "        priority = int(input('Enter priority: '))\n",
    "        \n",
    "        self.c.execute('INSERT INTO tasks (name, priority) VALUES (?,?)', (name, priority))\n",
    "        self.conn.commit()\n",
    "\n",
    "    def find_task(self,name_of_task = None):\n",
    "\n",
    "        name_of_task = input('Enter task name:')\n",
    "        id = int(input('Enter priority:'))\n",
    "\n",
    "\n",
    "        for row in c.execute('SELECT * FROM tasks'):\n",
    "            if row[0] == id and row[1] == name_of_task:\n",
    "                print(row)\n",
    "\n",
    "\n",
    "app = Todo()\n",
    "app.add_task()\n",
    "\n",
    "\n",
    "\n",
    "\n",
    "\n",
    "\n",
    "\n",
    "\n",
    "\n",
    "\n"
   ]
  }
 ],
 "metadata": {
  "kernelspec": {
   "display_name": "Python 3.6.9 64-bit",
   "language": "python",
   "name": "python3"
  },
  "language_info": {
   "name": "python",
   "version": "3.6.9"
  },
  "orig_nbformat": 4,
  "vscode": {
   "interpreter": {
    "hash": "31f2aee4e71d21fbe5cf8b01ff0e069b9275f58929596ceb00d14d90e3e16cd6"
   }
  }
 },
 "nbformat": 4,
 "nbformat_minor": 2
}
