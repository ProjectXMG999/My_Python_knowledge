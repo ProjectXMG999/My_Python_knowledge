{
 "cells": [
  {
   "cell_type": "markdown",
   "metadata": {},
   "source": [
    "#### PEP\n",
    "\n",
    "PEP is an acronym that stands for Python Enhancement Proposals\n",
    "\n",
    "PEP = the language standards and provides information about many changes and processes related to Python\n",
    "\n",
    "a collection of guidelines, best practices, descriptions of (new) features and implementations, as well as processes, mechanisms and important information surrounding Python.\n",
    "\n",
    "\n",
    "- PEP 1 – PEP Purpose and Guidelines, which provides information about the purpose of PEPs, their types, and introduces general guidelines;\n",
    "- PEP 8 – Style Guide for Python Code, which gives conventions and presents best practices for Python coding;\n",
    "- PEP 20 – The Zen of Python, which presents a list of principles for Python’s design;\n",
    "- PEP 257 – Docstring Conventions, which provides guidelines for conventions and semantics associated with Python docstrings.\n",
    "\n",
    "\n",
    "There are three different types of PEPs:\n",
    "\n",
    "- Standards Track PEPs, which describe new language features and implementations;\n",
    "- Informational PEPs, which describe Python design issues, as well as provide guidelines and information to the Python community;\n",
    "- Process PEPs, which describe various processes that revolve around Python (e.g., propose changes, provide recommendations, specify certain procedures).\n",
    "\n",
    "Python has certain style rules that programmers are recommended to follow. These are, among other things: a 79-character maximum line length, variable naming conventions, placing statements on separate lines, and many others.\n",
    "\n"
   ]
  }
 ],
 "metadata": {
  "kernelspec": {
   "display_name": "Python 3.6.9 64-bit",
   "language": "python",
   "name": "python3"
  },
  "language_info": {
   "name": "python",
   "version": "3.6.9"
  },
  "orig_nbformat": 4,
  "vscode": {
   "interpreter": {
    "hash": "31f2aee4e71d21fbe5cf8b01ff0e069b9275f58929596ceb00d14d90e3e16cd6"
   }
  }
 },
 "nbformat": 4,
 "nbformat_minor": 2
}
