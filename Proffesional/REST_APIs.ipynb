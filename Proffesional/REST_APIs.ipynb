{
 "cells": [
  {
   "cell_type": "markdown",
   "metadata": {},
   "source": [
    "After completing this course you will know:\n",
    "\n",
    "- the basic concepts of network programming, REST, network sockets, and client-server communication;\n",
    "- how to use and create sockets in Python, and how to establish and close the connection with a server;\n",
    "- what JSON and XML files are, and how they can used in network communication;\n",
    "- what HTTP methods are, and how to say anything in HTTP;\n",
    "- how to build a sample testing environment;\n",
    "- what CRUD is;\n",
    "- how to build a simple REST client, and how to fetch and remove data from server, add new data to it, and update the already-existing data.\n"
   ]
  },
  {
   "cell_type": "markdown",
   "metadata": {},
   "source": [
    "REST - >\n",
    "- REpresentational\n",
    "- State\n",
    "- Transfer\n",
    "\n",
    "\n",
    "RE stands for Representational. It means that our machinery \n",
    " stores, transmits and receives representations,\n",
    "while the term representation reflects the way in which  \n",
    " data or states are retained inside the system and presented to the users (humans or computers)."
   ]
  },
  {
   "cell_type": "markdown",
   "metadata": {},
   "source": [
    "#### Sockets\n",
    "\n",
    "A socket (in the sense that interests us now) is a kind of end-point. An end-point is a point where the data is available to get it from and where the data may be sent to. Your Python program can connect to the end-point and use it to interchange messages between itself and another program working somewhere far away on the Internet.\n"
   ]
  }
 ],
 "metadata": {
  "kernelspec": {
   "display_name": "Python 3.6.9 64-bit",
   "language": "python",
   "name": "python3"
  },
  "language_info": {
   "name": "python",
   "version": "3.6.9"
  },
  "orig_nbformat": 4,
  "vscode": {
   "interpreter": {
    "hash": "31f2aee4e71d21fbe5cf8b01ff0e069b9275f58929596ceb00d14d90e3e16cd6"
   }
  }
 },
 "nbformat": 4,
 "nbformat_minor": 2
}
