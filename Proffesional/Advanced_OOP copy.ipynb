{
 "cells": [
  {
   "cell_type": "markdown",
   "metadata": {},
   "source": [
    "In this course, you will learn about:\n",
    "\n",
    "- Classes, instances, attributes, methods, as well as \n",
    "- working with class and instance data;\n",
    "- shallow and deep operations;\n",
    "- abstract classes, method overriding, static and class methods, special methods;\n",
    "- inheritance, polymorphism, subclasses,\n",
    "- encapsulation;\n",
    "- advanced exception handling techniques;\n",
    "- the pickle and shelve modules;\n",
    "- metaclasses.\n"
   ]
  },
  {
   "cell_type": "markdown",
   "metadata": {},
   "source": []
  },
  {
   "cell_type": "markdown",
   "metadata": {},
   "source": [
    "- __class__ — an idea, blueprint, or recipe for an instance;\n",
    "- __instance__ — an instantiation of the class; very often used interchangeably with the term 'object';\n",
    "- __object__ — Python's representation of data and methods; objects could be aggregates of instances;\n",
    "- __attribute__ — any object or class trait; could be a variable or method;\n",
    "- __method__ — a function built into a class that is executed on behalf of the class or object; some say that it’s a 'callable attribute';\n",
    "- __type__ — refers to the class that was used to instantiate the object.\n",
    "\n",
    "!!\n",
    "\n",
    "Now that we’re starting to discuss more advanced OOP topics, it’s important to remember that in Python everything is an object (functions, modules, lists, etc.). In the very last section of this module, you'll see that even classes are instances.\n",
    "\n",
    "\n",
    "Why is everything in Python organized as objects?\n",
    "\n",
    "Because an object is a very useful culmination of all the terms described above:\n",
    "\n",
    "- it is an independent instance of class, and it contains and aggregates some specific and valuable data in attributes relevant to individual objects;\n",
    "- it owns and shares methods used to perform actions.\n",
    "\n",
    "\n",
    "The following issues will be addressed during this and the next module:\n",
    "\n",
    "- creation and use of decorators;\n",
    "- implementation of core syntax;\n",
    "- class and static methods;\n",
    "- abstract methods;\n",
    "- comparison of inheritance and composition;\n",
    "- attribute encapsulation;\n",
    "- exception chaining;\n",
    "- object persistence;\n",
    "- metaprogramming.\n",
    "\n",
    "\n"
   ]
  },
  {
   "cell_type": "code",
   "execution_count": null,
   "metadata": {},
   "outputs": [],
   "source": [
    "class Duck:\n",
    "    def __init__(self, height, weight, sex):\n",
    "        self.height = height\n",
    "        self.weight = weight\n",
    "        self.sex = sex\n",
    "\n",
    "    def walk(self):\n",
    "        pass\n",
    "\n",
    "    def quack(self):\n",
    "        return print('Quack')\n"
   ]
  },
  {
   "cell_type": "markdown",
   "metadata": {},
   "source": [
    "In the code above, we have defined a class named Duck, consisting of some functionalities and attributes."
   ]
  },
  {
   "cell_type": "markdown",
   "metadata": {},
   "source": [
    "An __instance__ is one particular physical instantiation of a class that occupies memory and has data elements. This is what 'self' refers to when we deal with class instances.\n",
    "\n",
    "An __object__ is everything in Python that you can operate on, like a class, instance, list, or dictionary.\n",
    "\n",
    "The term __instance__ is very often used interchangeably with the term object, because __object__ refers to a particular instance of a class. It’s a bit of a simplification, because the term object is more general than __instance__."
   ]
  },
  {
   "cell_type": "code",
   "execution_count": null,
   "metadata": {},
   "outputs": [],
   "source": [
    "class Duck:\n",
    "    def __init__(self, height, weight, sex):\n",
    "        self.height = height\n",
    "        self.weight = weight\n",
    "        self.sex = sex\n",
    "\n",
    "    def walk(self):\n",
    "        pass\n",
    "\n",
    "    def quack(self):\n",
    "        return print('Quack')\n",
    "\n",
    "duckling = Duck(height=10, weight=3.4, sex=\"male\")\n",
    "drake = Duck(height=25, weight=3.7, sex=\"male\")\n",
    "hen = Duck(height=20, weight=3.4, sex=\"female\")\n"
   ]
  },
  {
   "cell_type": "markdown",
   "metadata": {},
   "source": [
    "Each instance has its own, individual state (expressed as variables, so objects again) and shares its behavior (expressed as methods, so objects again)."
   ]
  },
  {
   "cell_type": "markdown",
   "metadata": {},
   "source": [
    "Class attributes are most often addressed with 'dot' notation, i.e., <class>dot<attribute>. The other way to access attributes (variables) it to use the getattr() and setattr() functions.\n",
    "\n",
    "In our 'duckish' example, there are the following attributes:\n",
    "\n",
    "variables: self.height, self.weight, self.sex — containing different values for each object;\n",
    "methods: __init__, walk, quack — common to all objects so far.\n"
   ]
  },
  {
   "cell_type": "markdown",
   "metadata": {},
   "source": [
    "A type is one of the most fundamental and abstract terms of Python:\n",
    "\n",
    "- it is the foremost type that any class can be inherited from;\n",
    "- as a result, if you’re looking for the type of class, then type is returned;\n",
    "- in all other cases, it refers to the class that was used to instantiate the object; it’s a general term describing the type/kind of any object;\n",
    "- it’s the name of a very handy Python function that returns the class information about the objects passed as arguments to that function;\n",
    "- it returns a new type object when type() is called with three arguments; we'll talk about this in the 'metaclass' section.\n"
   ]
  },
  {
   "cell_type": "code",
   "execution_count": null,
   "metadata": {},
   "outputs": [],
   "source": [
    "class Duck:\n",
    "    def __init__(self, height, weight, sex):\n",
    "        self.height = height\n",
    "        self.weight = weight\n",
    "        self.sex = sex\n",
    "\n",
    "    def walk(self):\n",
    "        pass\n",
    "\n",
    "    def quack(self):\n",
    "        return print('Quack')\n",
    "\n",
    "duckling = Duck(height=10, weight=3.4, sex=\"male\")\n",
    "drake = Duck(height=25, weight=3.7, sex=\"male\")\n",
    "hen = Duck(height=20, weight=3.4, sex=\"female\")\n",
    "\n",
    "print(Duck.__class__)\n",
    "print(duckling.__class__)\n",
    "print(duckling.sex.__class__)\n",
    "print(duckling.quack.__class__)\n"
   ]
  },
  {
   "cell_type": "markdown",
   "metadata": {},
   "source": [
    "As we predicted:\n",
    "\n",
    "- the Duck class is of the 'type' type;\n",
    "- the duckling object is an instance type built on the basis of the Duck class, and residing in the __main__ scope;\n",
    "- the duckling.sex is an attribute of the 'str' type;\n",
    "- duckling.quack is an attribute of the 'method' type.\n",
    "\n",
    "\n",
    "\n",
    "Python allows for variables to be used at the instance level or the class level. Those used at the instance level are referred to as __instance.variables__, whereas variables used at the class level are referred to as __class.variables__.\n",
    "\n"
   ]
  },
  {
   "cell_type": "code",
   "execution_count": null,
   "metadata": {},
   "outputs": [],
   "source": [
    "class Demo:\n",
    "    def __init__(self, value):\n",
    "        self.instance_var = value\n",
    "\n",
    "d1 = Demo(100)\n",
    "d2 = Demo(200)\n",
    "\n",
    "print(\"d1's instance variable is equal to:\", d1.instance_var)\n",
    "print(\"d2's instance variable is equal to:\", d2.instance_var)\n"
   ]
  },
  {
   "cell_type": "markdown",
   "metadata": {},
   "source": [
    "1. __init__ creates an instance_var variable for the instance. The keyword self is used to indicate that this variable is created coherently and individually for the instance to make it independent from other instances of the same class;\n",
    "2. we instantiate the class twice, each time passing a different value to be stored inside the object;\n",
    "3. the print instructions prove the fact that instance variable values are kept independently, because the printed values differ.\n"
   ]
  },
  {
   "cell_type": "markdown",
   "metadata": {},
   "source": [
    "nstance variables can be created during any moment of an object's life.\n",
    "\n",
    "Moreover, it lists the contents of each object, using the built-in __dict__ property that is present for every Python object."
   ]
  },
  {
   "cell_type": "code",
   "execution_count": null,
   "metadata": {},
   "outputs": [],
   "source": [
    "class Demo:\n",
    "    def __init__(self, value):\n",
    "        self.instance_var = value\n",
    "\n",
    "d1 = Demo(100)\n",
    "d2 = Demo(200)\n",
    "\n",
    "d1.another_var = 'another variable in the object'\n",
    "\n",
    "print('contents of d1:', d1.__dict__)\n",
    "print('contents of d2:', d2.__dict__)\n"
   ]
  },
  {
   "cell_type": "markdown",
   "metadata": {},
   "source": [
    "#### Class Variables\n",
    "\n",
    "As a class variable is present before any instance of the class is created, it can be used to store some meta data relevant to the class, rather than to the instances:\n",
    "\n",
    "- fixed information like description, configuration, or identification values;\n",
    "- mutable information like the number of instances created (if we add a code to increment the value of a designated variable every time we create a c\n",
    "\n",
    "!! the class variable is defined outside the object, it is not listed in the object's __dict__.\n",
    "\n",
    "Conclusion: when you want to read the class variable value, you can use a class or class instance to access it."
   ]
  },
  {
   "cell_type": "code",
   "execution_count": null,
   "metadata": {},
   "outputs": [],
   "source": [
    "class Demo:\n",
    "    class_var = 'shared variable'\n",
    "\n",
    "d1 = Demo()\n",
    "d2 = Demo()\n",
    "\n",
    "print(Demo.class_var)\n",
    "print(d1.class_var)\n",
    "print(d2.class_var)\n",
    "\n",
    "print('contents of d1:', d1.__dict__)"
   ]
  },
  {
   "cell_type": "code",
   "execution_count": null,
   "metadata": {},
   "outputs": [],
   "source": [
    "class Demo:\n",
    "    class_var = 'shared variable'\n",
    "\n",
    "d1 = Demo()\n",
    "d2 = Demo()\n",
    "\n",
    "# both instances allow access to the class variable\n",
    "print(d1.class_var)\n",
    "print(d2.class_var)\n",
    "print('.' * 20)\n",
    "\n",
    "# d1 object has no instance variable\n",
    "print('contents of d1:', d1.__dict__)\n",
    "print('.' * 20)\n",
    "\n",
    "# d1 object receives an instance variable named 'class_var'\n",
    "d1.class_var = \"I'm messing with the class variable\"\n",
    "\n",
    "# d1 object owns the variable named 'class_var' which holds a different value than the class variable named in the same way\n",
    "print('contents of d1:', d1.__dict__)\n",
    "print(d1.class_var)\n",
    "print('.' * 20)\n",
    "\n",
    "# d2 object variables were not influenced\n",
    "print('contents of d2:', d2.__dict__)\n",
    "\n",
    "# d2 object variables were not influenced\n",
    "print('contents of class variable accessed via d2:', d2.class_var)\n"
   ]
  },
  {
   "cell_type": "markdown",
   "metadata": {},
   "source": [
    "The example below demonstrates both topics: each class owns a counter variable that holds the number of class instances created. Moreover, each class owns information that helps identify the class instance origins. Similar functionality could be achieved with the isinstance() function, but we want to check if class variables can be helpful in this domain."
   ]
  },
  {
   "cell_type": "code",
   "execution_count": null,
   "metadata": {},
   "outputs": [],
   "source": [
    "class Duck:\n",
    "    counter = 0\n",
    "    species = 'duck'\n",
    "\n",
    "    def __init__(self, height, weight, sex):\n",
    "        self.height = height\n",
    "        self.weight = weight\n",
    "        self.sex = sex\n",
    "        Duck.counter +=1\n",
    "\n",
    "    def walk(self):\n",
    "        pass\n",
    "\n",
    "    def quack(self):\n",
    "        print('quacks')\n",
    "\n",
    "class Chicken:\n",
    "    species = 'chicken'\n",
    "\n",
    "    def walk(self):\n",
    "        pass\n",
    "\n",
    "    def cluck(self):\n",
    "        print('clucks')\n",
    "\n",
    "duckling = Duck(height=10, weight=3.4, sex=\"male\")\n",
    "drake = Duck(height=25, weight=3.7, sex=\"male\")\n",
    "hen = Duck(height=20, weight=3.4, sex=\"female\")\n",
    "\n",
    "chicken = Chicken()\n",
    "\n",
    "print('So many ducks were born:', Duck.counter)\n",
    "\n",
    "for poultry in duckling, drake, hen, chicken:\n",
    "    print(poultry.species, end=' ')\n",
    "    if poultry.species == 'duck':\n",
    "        poultry.quack()\n",
    "    elif poultry.species == 'chicken':\n",
    "        poultry.cluck()\n"
   ]
  },
  {
   "cell_type": "markdown",
   "metadata": {},
   "source": [
    "- Another example shows that a class variable of a super class can be used to count the number of all objects created from the descendant classes (subclasses). We'll achieve this by calling the superclass __init__ method.\n",
    "\n",
    "- subclasses make use of the superclass __init__ method, then instances are created. This gives us the possibility to increment the superclass variable."
   ]
  },
  {
   "cell_type": "code",
   "execution_count": null,
   "metadata": {},
   "outputs": [],
   "source": [
    "class Phone:\n",
    "    counter = 0\n",
    "\n",
    "    def __init__(self, number):\n",
    "        self.number = number\n",
    "        Phone.counter += 1\n",
    "\n",
    "    def call(self, number):\n",
    "        message = 'Calling {} using own number {}'.format(number, self.number)\n",
    "        return message\n",
    "\n",
    "\n",
    "class FixedPhone(Phone):\n",
    "    last_SN = 0\n",
    "\n",
    "    def __init__(self, number):\n",
    "        super().__init__(number)\n",
    "        FixedPhone.last_SN += 1\n",
    "        self.SN = 'FP-{}'.format(FixedPhone.last_SN)\n",
    "\n",
    "\n",
    "class MobilePhone(Phone):\n",
    "    last_SN = 0\n",
    "\n",
    "    def __init__(self, number):\n",
    "        super().__init__(number)\n",
    "        MobilePhone.last_SN += 1\n",
    "        self.SN = 'MP-{}'.format(MobilePhone.last_SN)\n",
    "\n",
    "\n",
    "print('Total number of phone devices created:', Phone.counter)\n",
    "print('Creating 2 devices')\n",
    "fphone = FixedPhone('555-2368')\n",
    "mphone = MobilePhone('01632-960004')\n",
    "\n",
    "print('Total number of phone devices created:', Phone.counter)\n",
    "print('Total number of mobile phones created:', MobilePhone.last_SN)\n",
    "\n",
    "print(fphone.call('01632-960004'))\n",
    "print('Fixed phone received \"{}\" serial number'.format(fphone.SN))\n",
    "print('Mobile phone received \"{}\" serial number'.format(mphone.SN))"
   ]
  },
  {
   "cell_type": "markdown",
   "metadata": {},
   "source": [
    "# Advanced OOP"
   ]
  },
  {
   "cell_type": "markdown",
   "metadata": {},
   "source": [
    "Python core syntax covers:\n",
    "\n",
    "- operators like '+', '-', '*', '/', '%' and many others;\n",
    "- operators like '==', '<', '>', '<=', 'in' and many others;\n",
    "- indexing, slicing, subscripting;\n",
    "- built-in functions like str(), len()\n",
    "- reflexion – isinstance(), issubclass()\n",
    " \n",
    " Python allows us to employ operators when applied to our objects, so we can use core operators on our objects.\n",
    "\n",
    "Let's imagine the following situation:\n",
    "\n",
    "- you've created a class that represents a person;\n",
    "- each instance of the class owns a set of attributes \n",
    "describing a person: age, salary, weight, etc.\n",
    "\n",
    "What does it mean to add two objects of the Person class? Well, it depends on the domain of your application.\n",
    "\n",
    "If you’re developing an application for an elevator, then you should remember that every elevator has safety limits regarding the total weight it can lift.\n",
    "\n",
    "\n",
    "In this case, the '+' operator, when applied to two objects, should mean: add the weight attribute values and return the corresponding result.\n",
    "\n",
    "If the total sum of the weights of the Person class objects does not exceed the safety limit, your elevator should allow them to be lifted."
   ]
  },
  {
   "cell_type": "markdown",
   "metadata": {},
   "source": [
    "The '+' operator is in fact converted to the __add__() method and the len() function is converted to the __len__() method. These methods must be delivered by a class (now it’s clear why we treat classes as blueprints) to perform the appropriate action."
   ]
  },
  {
   "cell_type": "code",
   "execution_count": 2,
   "metadata": {},
   "outputs": [
    {
     "name": "stdout",
     "output_type": "stream",
     "text": [
      "30\n",
      "30\n"
     ]
    }
   ],
   "source": [
    "number = 10\n",
    "print(number + 20)\n",
    "\n",
    "number = 10\n",
    "print(number.__add__(20))\n"
   ]
  },
  {
   "cell_type": "code",
   "execution_count": null,
   "metadata": {},
   "outputs": [],
   "source": [
    "class Person:\n",
    "    def __init__(self, weight, age, salary):\n",
    "        self.weight = weight\n",
    "        self.age = age\n",
    "        self.salary = salary\n",
    "p1 = Person(30, 40, 50)\n",
    "p2 = Person(35, 45, 55)\n",
    "\n",
    "print(p1 + p2)\n",
    "\n",
    "# not workin\n",
    "\n"
   ]
  },
  {
   "cell_type": "code",
   "execution_count": null,
   "metadata": {},
   "outputs": [],
   "source": [
    "class Person:\n",
    "    def __init__(self, weight, age, salary):\n",
    "        self.weight = weight\n",
    "        self.age = age\n",
    "        self.salary = salary\n",
    "\n",
    "    def __add__(self, other):\n",
    "        return self.weight + other.weight\n",
    "\n",
    "\n",
    "p1 = Person(30, 40, 50)\n",
    "p2 = Person(35, 45, 55)\n",
    "\n",
    "print(p1 + p2)\n"
   ]
  },
  {
   "cell_type": "markdown",
   "metadata": {},
   "source": [
    "When you design and implement your own classes and you want to __make.use.of.Python.core.syntax__ to operate on those class objects, you can easily achieve this by implementing the appropriate __magic.methods__"
   ]
  },
  {
   "cell_type": "markdown",
   "metadata": {},
   "source": [
    "You could ask: how can I know what magic method is responsible for a specific operation?\n",
    "\n",
    "The answer could be: start with the \n",
    "__dir()__ and \n",
    "__help()__ functions.\n",
    "\n",
    "- The dir() function gives you a quick glance at an object’s capabilities and returns a list of the attributes and methods of the object. When you call dir() on integer 10, you'll get:\n",
    "\n",
    ">>> dir(10)\n",
    "- '__abs__', '__add__', '__and__', '__bool__', '__ceil__', '__class__', '__delattr__', '__dir__', '__divmod__', '__doc__', '__eq__', '__float__', '__floor__', '__floordiv__', '__format__', '__ge__', '__getattribute__', '__getnewargs__', '__gt__', '__hash__', '__index__', '__init__', '__init_subclass__', '__int__', '__invert__', '__le__', '__lshift__', '__lt__', '__mod__', '__mul__', '__ne__', '__neg__', '__new__', '__or__', '__pos__', '__pow__', '__radd__', '__rand__', '__rdivmod__', '__reduce__', '__reduce_ex__', '__repr__', '__rfloordiv__', '__rlshift__', '__rmod__', '__rmul__', '__ror__', '__round__', '__rpow__', '__rrshift__', '__rshift__', '__rsub__', '__rtruediv__', '__rxor__', '__setattr__', '__sizeof__',\n",
    " '__str__', '__sub__', '__subclasshook__', '__truediv__', '__trunc__', '__xor__', 'bit_length', 'conjugate', 'denominator', 'from_bytes', 'imag', 'numerator', 'real', 'to_bytes']"
   ]
  },
  {
   "cell_type": "markdown",
   "metadata": {},
   "source": [
    "\n",
    "To get more help on each attribute and method, issue the help() function on an object, as below:\n",
    "\n",
    ">>> help(10)\n",
    "Help on int object:\n",
    "\n",
    "class int(object)\n",
    " |  int([x]) -> integer\n",
    " |  int(x, base=10) -> integer\n",
    " |\n",
    " |  Convert a number or string to an integer, or return 0 if no arguments\n",
    " |  are given.  If x is a number, return x.__int__().  For floating point\n",
    " |  numbers, this truncates towards zero.\n",
    " |\n",
    " |  If x is not a number or if base is given, then x must be a string,\n",
    " |  bytes, or bytearray instance representing an integer literal in the\n",
    " |  given base.  The literal can be preceded by '+' or '-' and be surrounded\n",
    " |  by whitespace.  The base defaults to 10.  Valid bases are 0 and 2-36.\n",
    " |  Base 0 means to interpret the base from the string as an integer literal.\n",
    " |  >>> int('0b100', base=0)\n",
    " |  4\n",
    " |\n",
    " |  Methods defined here:\n",
    " |\n",
    " |  __abs__(self, /)\n",
    " |      abs(self)\n",
    " |\n",
    " |  __add__(self, value, /)\n",
    " |      Return self+value.\n",
    "(...)\n",
    "\n",
    "\n",
    "\n",
    "The Python help() function is used to display the documentation (if delivered!) of modules, functions, classes, and keywords. In our example, we have displayed the documentation for the built-in integer type. Look at the last lines of the output – it contains information about the __abs__ and __add__ special methods."
   ]
  },
  {
   "cell_type": "markdown",
   "metadata": {},
   "source": [
    "\n",
    "Now it’s time to get familiar with Python core syntax expressions and their corresponding magic methods. The following tables will help you in situations where you'd like to implement a custom method for a Python core operation, as the tables enumerate the most popular operators and functions that own magic method counterparts. Treat it as a list from a universal map, unrelated to any special data typ\n",
    "\n",
    "#### Comparison methods\n",
    "Function or operator\tMagic method\tImplementation meaning or purpose\n",
    "==\t__eq__(self, other)\tequality operator\n",
    "!=\t__ne__(self, other)\tinequality operator\n",
    "<\t__lt__(self, other)\tless-than operator\n",
    ">\t__gt__(self, other)\tgreater-than operator\n",
    "<=\t__le__(self, other)\tless-than-or-equal-to operator\n",
    ">=\t__ge__(self, other)\tgreater-than-or-equal-to operator\n",
    "\n",
    "\n",
    "\n",
    "#### Numeric methods\n",
    "Unary operators and functions\n",
    "Function or operator\tMagic method\tImplementation meaning or purpose\n",
    "+\t__pos__(self)\tunary positive, like a = +b\n",
    "-\t__neg__(self)\tunary negative, like a = -b\n",
    "abs()\t__abs__(self)\tbehavior for abs() function\n",
    "round(a, b)\t__round__(self, b)\tbehavior for round() function\n",
    "\n",
    "\n",
    "\n",
    "\n",
    "#### Common, binary operators and functions\n",
    "Function or operator\tMagic method\tImplementation meaning or purpose\n",
    "+\t__add__(self, other)\taddition operator\n",
    "-\t__sub__(self, other)\tsubtraction operator\n",
    "*\t__mul__(self, other)\tmultiplication operator\n",
    "//\t__floordiv__(self, other)\tinteger division operator\n",
    "/\t__div__(self, other)\tdivision operator\n",
    "%\t__mod__(self, other)\tmodulo operator\n",
    "**\t__pow__(self, other)\texponential (power) operator\n",
    "\n",
    "\n",
    "\n",
    "\n",
    "#### Augumented operators and functions\n",
    "By augumented assignment we should understand a sequence of unary operators and assignments like a += 20\n",
    "\n",
    "Function or operator\tMagic method\tImplementation meaning or purpose\n",
    "+=\t__iadd__(self, other)\taddition and assignment operator\n",
    "-=\t__isub__(self, other)\tsubtraction and assignment operator\n",
    "*=\t__imul__(self, other)\tmultiplication and assignment operator\n",
    "//=\t__ifloordiv__(self, other)\tinteger division and assignment operator\n",
    "/=\t__idiv__(self, other)\tdivision and assignment operator\n",
    "%=\t__imod__(self, other)\tmodulo and assignment operator\n",
    "**=\t__ipow__(self, other)\texponential (power) and assignment operator\n",
    "\n",
    "\n",
    "#### Type conversion methods\n",
    "Python offers a set of methods responsible for the conversion of built-in data types.\n",
    "\n",
    "Function\tMagic method\tImplementation meaning or purpose\n",
    "int()\t__int__(self)\tconversion to integer type\n",
    "float()\t__float__(self)\tconversion to float type\n",
    "oct()\t__oct__(self)\tconversion to string, containing an octal representation\n",
    "hex()\t__hex__(self)\tconversion to string, containing a hexadecimal representation\n",
    "\n",
    "#### Object introspection\n",
    "Python offers a set of methods responsible for representing object details using ordinary strings.\n",
    "\n",
    "Function\tMagic method\tImplementation meaning or purpose\n",
    "str()\t__str__(self)\tresponsible for handling str() function calls\n",
    "repr()\t__repr__(self)\tresponsible for handling repr() function calls\n",
    "format()\t__format__(self, formatstr)\tcalled when new-style string formatting is applied to an object\n",
    "hash()\t__hash__(self)\tresponsible for handling hash() function calls\n",
    "dir()\t__dir__(self)\tresponsible for handling dir() function calls\n",
    "bool()\t__nonzero__(self)\tresponsible for handling bool() function calls\n",
    "\n",
    "\n",
    "#### Object retrospection\n",
    "Following the topic of object introspection, there are methods responsible for object reflection.\n",
    "\n",
    "Function\tMagic method\tImplementation meaning or purpose\n",
    "isinstance(object, class)\t__instancecheck__(self, object)\tresponsible for handling isinstance() function calls\n",
    "issubclass(subclass, class)\t__subclasscheck__(self, subclass)\tresponsible for handling issubclass() function calls\n",
    "\n",
    "\n",
    "\n",
    "#### Object attribute access\n",
    "Access to object attributes can be controlled via the following magic methods\n",
    "\n",
    "Expression example\tMagic method\tImplementation meaning or purpose\n",
    "object.attribute\t__getattr__(self, attribute)\tresponsible for handling access to a non-existing attribute\n",
    "object.attribute\t__getattribute__(self, attribute)\tresponsible for handling access to an existing attribute\n",
    "object.attribute = value\t__setattr__(self, attribute, value)\tresponsible for setting an attribute value\n",
    "del object.attribute\t__delattr__(self, attribute)\tresponsible for deleting an attribute\n",
    "\n",
    "\n",
    "#### Methods allowing access to containers\n",
    "Containers are any object that holds an arbitrary number of other objects; containers provide a way to access the contained objects and to iterate over them. Container examples: list, dictionary, tuple, and set.\n",
    "\n",
    "Expression example\tMagic method\tImplementation meaning or purpose\n",
    "len(container)\t__len__(self)\treturns the length (number of elements) of the container\n",
    "container[key]\t__getitem__(self, key)\tresponsible for accessing (fetching) an element identified by the key argument\n",
    "container[key] = value\t__setitem__(self, key, value)\tresponsible for setting a value to an element identified by the key argument\n",
    "del container[key]\t__delitem__(self, key)\tresponsible for deleting an element identified by the key argument\n",
    "for element in container\t__iter__(self)\treturns an iterator for the container\n",
    "item in container\t__contains__(self, item)\tresponds to the question: does the container contain the selected item?\n",
    "\n",
    "\n",
    "The list of special methods built-in in Python contains more entities. For more information, refer to https://docs.python.org/3/reference/datamodel.html#special-method-names.\n",
    "\n"
   ]
  },
  {
   "cell_type": "markdown",
   "metadata": {},
   "source": [
    "What are some real life cases which could be implemented using special methods?\n",
    "\n",
    "Think of any complex problems that we solve every day like:\n",
    "\n",
    "- adding time intervals, like: add 21 hours 58 minutes 50 seconds to 1hr 45 minutes 22 seconds;\n",
    "- adding length measurements expressed in the imperial measurement system, like: add 2 feet 8 inches to 1 yard 1 foot 4 inches.\n",
    "\n",
    "With classes equipped with custom special methods, the tasks may start to look simpler.\n",
    "\n",
    "\n",
    "!!!!!!\n",
    "Of course, don’t forget to check the type of the objects passed as arguments to special methods. If someone uses your classes, they might use them incorrectly, so a good __add__ method should check whether it’s possible to perform the addition before doing it, or else raise an \n",
    "#### exception.\n",
    "\n"
   ]
  },
  {
   "cell_type": "markdown",
   "metadata": {},
   "source": [
    "LAB 2.1.1.11"
   ]
  },
  {
   "cell_type": "markdown",
   "metadata": {},
   "source": [
    "#### Inheritance and polymorphism — Single inheritance vs. multiple inheritance\n",
    "\n",
    "\n",
    "\n",
    "There are no obstacles to using multiple inheritance in Python. You can derive any new class from more than one previously defined class.\n",
    "\n",
    "But multiple inheritance should be used with more prudence than single inheritance because:\n",
    "\n",
    "- a single inheritance class is always simpler, safer, and easier to understand and maintain;\n",
    "- multiple inheritance may make method overriding somewhat tricky; moreover, using the super() function can lead to ambiguity;\n",
    "- it is highly probable that by implementing multiple inheritance you are violating the single responsibility principle;\n"
   ]
  },
  {
   "cell_type": "markdown",
   "metadata": {},
   "source": [
    "#### MRO — Method Resolution Order\n",
    "The spectrum of issues possibly coming from multiple inheritance is illustrated by a classical problem named the diamond problem, or even the deadly diamond of death. The name reflects the shape of the inheritance diagram — take a look at the picture.\n",
    "\n",
    "- There is the top-most superclass named A;\n",
    "- there are two subclasses derived from A — B and C;\n",
    "- and there is also the bottom-most subclass named D, derived from B and C (or C and B, as these two variants mean different things in Python)\n",
    "\n",
    "Can you see the diamond there?\n",
    "\n",
    "  A\n",
    "B   C\n",
    "  D\n",
    "\n",
    "\n",
    "\n",
    "n the multiple inheritance scenario, any specified attribute is searched for first in the current class. If it is not found, the search continues into the direct parent classes in depth-first level (the first level above), from the left to the right, according to the class definition. This is the result of the MRO algorithm.\n",
    "\n"
   ]
  },
  {
   "cell_type": "code",
   "execution_count": null,
   "metadata": {},
   "outputs": [],
   "source": [
    "class A:\n",
    "    def info(self):\n",
    "        print('Class A')\n",
    "\n",
    "class B(A):\n",
    "    def info(self):\n",
    "        print('Class B')\n",
    "\n",
    "class C(A):\n",
    "    def info(self):\n",
    "        print('Class C')\n",
    "\n",
    "class D(B, C):\n",
    "    pass\n",
    "\n",
    "D().info()\n"
   ]
  },
  {
   "cell_type": "markdown",
   "metadata": {},
   "source": [
    "\n",
    "Possible pitfalls — MRO inconsistency\n",
    "\n",
    "Imagine that you have changed the class D definition from:\n",
    "\n",
    "class D(B, C):\n",
    "    pass\n",
    "\n",
    "\n",
    "to:\n",
    "\n",
    "class D(A, C):\n",
    "    pass\n",
    "\n",
    "Traceback (most recent call last):\n",
    "  File \"diamond.py\", line 13, in \n",
    "    class D(A, C):\n",
    "TypeError: Cannot create a consistent method resolution order (MRO) for bases A, C\n",
    "\n",
    "\n",
    "This message informs us that the MRO algorithm had problems determining which method (originating from the A or C classes) should be called."
   ]
  },
  {
   "cell_type": "code",
   "execution_count": null,
   "metadata": {},
   "outputs": [],
   "source": [
    "class A:\n",
    "    def info(self):\n",
    "        print('Class A')\n",
    "\n",
    "class B(A):\n",
    "    def info(self):\n",
    "        print('Class B')\n",
    "\n",
    "class C(A):\n",
    "    def info(self):\n",
    "        print('Class C')\n",
    "\n",
    "class D(B, C):\n",
    "    pass\n",
    "\n",
    "class E(C, B):\n",
    "    pass\n",
    "\n",
    "D().info()\n",
    "E().info()\n"
   ]
  },
  {
   "cell_type": "markdown",
   "metadata": {},
   "source": [
    "Due to MRO, you should knowingly list the superclasses in the subclass definition. In the following example, class D is based on classes B and C, whereas class E is based on classes C and B (the order matters!).\n",
    "\n",
    "class D(B, C):\n",
    "    pass\n",
    "\n",
    "class E(C, B):\n",
    "    pass\n",
    "\n",
    "\n",
    "As a result, those classes can behave totally differently, because the order of the superclasses is different."
   ]
  },
  {
   "cell_type": "markdown",
   "metadata": {},
   "source": [
    "LAB  2.2.1.6"
   ]
  },
  {
   "cell_type": "markdown",
   "metadata": {},
   "source": [
    "By the way, if you look for a method that is used when you print a value associated with an object, the __str__ method is called to prepare a string that is used in turn for printing.\n",
    "\n"
   ]
  },
  {
   "cell_type": "markdown",
   "metadata": {},
   "source": [
    "#### Polymorphism\n",
    "\n",
    "Polimorfizm to bardzo ważna koncepcja w programowaniu. Odnosi się do użycia encji jednego typu (metody, operatora lub obiektu) do reprezentowania różnych typów w różnych scenariuszach.\n",
    "\n",
    "One way to carry out polymorphism is inheritance, when subclasses make use of base class methods, or override them. By combining both approaches, the programmer is given a very convenient way of creating applications, as:\n",
    "\n",
    "- most of the code could be reused and only specific methods are implemented, which saves a lot of development time and improves code quality;\n",
    "- the code is clearly structured;\n",
    "- there is a uniform way of calling methods responsible for the same operations, implemented accordingly for the types."
   ]
  },
  {
   "cell_type": "markdown",
   "metadata": {},
   "source": [
    "Remember\n",
    "You can use inheritance to create polymorphic behavior, and usually that's what you do, but that's not what polymorphism is about.\n",
    "\n",
    "In the right pane, there is a code implementing both inheritance and polymorphism:\n",
    "\n",
    "- inheritance: class Radio inherits the turn_on() method from its superclass — that is why we see The device was turned on string twice. Other subclasses override that method and as a result we see different lines being printed;\n",
    "- polymorphism: all class instances allow the calling of the turn_on() method, even when you refer to the objects using the arbitrary variable element."
   ]
  },
  {
   "cell_type": "code",
   "execution_count": null,
   "metadata": {},
   "outputs": [],
   "source": [
    "class Device:\n",
    "    def turn_on(self):\n",
    "        print('The device was turned on')\n",
    "\n",
    "class Radio(Device):\n",
    "    pass\n",
    "\n",
    "class PortableRadio(Device):\n",
    "    def turn_on(self):\n",
    "        print('PortableRadio type object was turned on')\n",
    "\n",
    "class TvSet(Device):\n",
    "    def turn_on(self):\n",
    "        print('TvSet type object was turned on')\n",
    "\n",
    "device = Device()\n",
    "radio = Radio()\n",
    "portableRadio = PortableRadio()\n",
    "tvset = TvSet()\n",
    "\n",
    "for element in (device, radio, portableRadio, tvset):\n",
    "    element.turn_on()\n"
   ]
  }
 ],
 "metadata": {
  "kernelspec": {
   "display_name": "Python 3.6.9 64-bit",
   "language": "python",
   "name": "python3"
  },
  "language_info": {
   "codemirror_mode": {
    "name": "ipython",
    "version": 3
   },
   "file_extension": ".py",
   "mimetype": "text/x-python",
   "name": "python",
   "nbconvert_exporter": "python",
   "pygments_lexer": "ipython3",
   "version": "3.6.9"
  },
  "orig_nbformat": 4,
  "vscode": {
   "interpreter": {
    "hash": "31f2aee4e71d21fbe5cf8b01ff0e069b9275f58929596ceb00d14d90e3e16cd6"
   }
  }
 },
 "nbformat": 4,
 "nbformat_minor": 2
}
