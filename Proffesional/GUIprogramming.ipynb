{
 "cells": [
  {
   "cell_type": "markdown",
   "metadata": {},
   "source": [
    "After completing this course you will know:\n",
    "\n",
    "- what GUI is and where it came from;\n",
    "- how to construct a GUI using basic blocks and conventions;\n",
    "- how event-driven programming works;\n",
    "- some popular and commonly used GUI environments and toolkits;\n",
    "- what tkinter is and how to build a GUI with its help;\n",
    "- how to use widgets, windows, and events, and how to create basic applications based on tkinter's application life cycle.\n",
    "\n",
    "GUI stands for Graphical User Interface"
   ]
  }
 ],
 "metadata": {
  "language_info": {
   "name": "python"
  },
  "orig_nbformat": 4
 },
 "nbformat": 4,
 "nbformat_minor": 2
}
